{
 "cells": [
  {
   "cell_type": "code",
   "execution_count": 1,
   "metadata": {},
   "outputs": [],
   "source": [
    "import re\n",
    "import json\n",
    "import pandas as pd"
   ]
  },
  {
   "cell_type": "code",
   "execution_count": 2,
   "metadata": {},
   "outputs": [],
   "source": [
    "EXTRACT_DATE = '21-07-2020'"
   ]
  },
  {
   "cell_type": "code",
   "execution_count": 3,
   "metadata": {
    "tags": []
   },
   "outputs": [
    {
     "output_type": "stream",
     "name": "stdout",
     "text": "Salgspriser - alle boliger - Lærkeskellet, 2000\n\nAdresse                                         Type           Aktuel\n                                                               m²\nLærkeskellet 18, 2000 Frederiksberg             Ejerlejlighed\n                                                4.575.000      140\nFri handel     15-05-2018                       1.026.500      138\n\nFri handel     27-07-1994                       Ejerlejlighed  140\n                                                4.800.000      140\nLærkeskellet 6, 2000 Frederiksberg              3.070.000\n                                                907.133        140\nFri handel     16-11-2017                                      140\n                                                Ejerlejlighed  140\nFri handel     31-01-2012                       3.495.000      138\n                                                               138\nFri handel     18-11-1994                       Ejerlejlighed\n                                                4.200.000\nLærkeskellet 2, 2000 Frederiksberg              1.875.000\n                                                700.000\nFri handel     14-02-2008\n                                                Ejerlejlighed\nLærkeskellet 10, 2000 Frederiksberg             2.650.000\n                                                995.435\nFri handel     21-01-2007\n                                                Ejerlejlighed\nFri handel     11-12-2000                       1.875.000\n                                                1.050.000\nFri handel     25-06-1993\n                                                Ejerlejlighed\nLærkeskellet 16, 2000 Frederiksberg             851.840\n                                                851.840\nFri handel     13-07-2004\n                                                Ejerlejlighed\nFri handel     24-07-1994                       985.000\n\nLærkeskellet 8, 2000 Frederiksberg              Ejerlejlighed\n                                                618.000\nFri handel     16-06-2000\n\nFri handel     10-11-1994\n\nLærkeskellet 14, 2000 Frederiksberg\n\nFamiliehandel  17-01-1995\n\nFri handel     15-07-1993\n\nLærkeskellet 4, 2000 Frederiksberg\n\nFri handel     17-11-1994\n\nLærkeskellet 12, 2000 Frederiksberg\n\nFri handel     15-07-1992\n\nBoligsiden er for alle, som vil købe eller sælge bolig. På Boligsiden finder du villaer, ejerlejligheder, grunde mv.\n\nsom udbydes til salg gennem en ejendomsmægler.\n\n21-07-2020                                                     Side 1 af 1\n\f\n"
    }
   ],
   "source": [
    "with open(\"Lærkeskellet.txt\",\"r\",encoding='utf8') as f:\n",
    "    body = f.read()\n",
    "    print(body)\n"
   ]
  },
  {
   "cell_type": "code",
   "execution_count": 4,
   "metadata": {},
   "outputs": [],
   "source": [
    "addresses = re.findall('Lærkeskellet \\d{1,2},', body)\n",
    "square_meters = re.findall(' \\d{2,3}\\n', body)\n",
    "dates = re.findall('\\d\\d-\\d\\d-\\d\\d\\d\\d', body)\n",
    "prices = re.findall('[\\d{1,3}.]*\\d{3}.\\d{3}', body)"
   ]
  },
  {
   "cell_type": "markdown",
   "metadata": {},
   "source": [
    "The pdf includes information on when the data was downlaoded from Boligsiden. This needs to be removed"
   ]
  },
  {
   "cell_type": "markdown",
   "metadata": {},
   "source": [
    "I need to be able to find the addresses first and then find the dates for those addesses. Otherwise I can't line up the address, salesdate. \n",
    "\n",
    "The salesdate and price have the exact same number of rows, so those already lign up. But one or mole salesdates and prices can be part of the same address."
   ]
  },
  {
   "cell_type": "code",
   "execution_count": 12,
   "metadata": {
    "tags": []
   },
   "outputs": [
    {
     "output_type": "execute_result",
     "data": {
      "text/plain": "301"
     },
     "metadata": {},
     "execution_count": 12
    }
   ],
   "source": [
    "streetnames = [\n",
    "    'Ahornskellet',\n",
    "    'Askeskellet',\n",
    "    'Birkeskellet',\n",
    "    'Bøgeskellet',\n",
    "    'Egeskellet',\n",
    "    'Lindeskellet',\n",
    "    'Lærkeskellet',\n",
    "    'Pileskellet',\n",
    "    'Plantanskellet',\n",
    "    'Poppelskellet',\n",
    "    'Tjørneskellet'\n",
    "]\n",
    "rows = []\n",
    "for street in streetnames:\n",
    "    with open(f\"{street}.txt\",\"r\", encoding='utf8') as f:\n",
    "        body = f.read()\n",
    "    addresses = re.findall(f'{street} ' + '\\d{1,3}, [0-9a-z., ]*2000', body)\n",
    "    address_chuncks = re.split(f'{street} '+ '\\d{1,2},', body)\n",
    "\n",
    "    prices = re.findall('[\\d{1,3}.]*\\d{3}.\\d{3}', body)\n",
    "    square_meters = re.findall(' \\d{2,3}\\n', body)\n",
    "    \n",
    "    price_cnt = 0\n",
    "    for address, m2, text in zip(addresses, square_meters, address_chuncks[1:]):\n",
    "        m2 = int(m2.replace('\\n',''))\n",
    "        dates = re.findall('\\d\\d-\\d\\d-\\d\\d\\d\\d', text)\n",
    "        sale_types = re.findall('Familiehandel|Fri handel|I øvrigt|Auktion', text)\n",
    "        try:\n",
    "            dates.remove(EXTRACT_DATE)\n",
    "        except ValueError:\n",
    "            pass \n",
    "\n",
    "        for (date, sale_type) in zip(dates, sale_types):\n",
    "            try:\n",
    "                price = prices[price_cnt]\n",
    "                price = int(price.replace('.',''))\n",
    "                \n",
    "            except:\n",
    "                break\n",
    "\n",
    "            m2_price = round(price/m2)\n",
    "            street_number = address.replace(', 2000','').replace(street, '').replace(' ','').replace(',',' ').replace('.','')\n",
    "            \n",
    "            rows.append(\n",
    "                [\n",
    "                    street,\n",
    "                    street_number,\n",
    "                    date,\n",
    "                    price,\n",
    "                    m2,\n",
    "                    m2_price,\n",
    "                    sale_type\n",
    "                ]\n",
    "            )\n",
    "            price_cnt += 1\n",
    "\n",
    "df = pd.DataFrame(columns=[\n",
    "        'streetName',\n",
    "        'streetNumber',\n",
    "        'salesDate',\n",
    "        'price',\n",
    "        'm2',\n",
    "        'm2Price',\n",
    "        'saleType'\n",
    "    ],\n",
    "    data=rows)\n",
    "len(df)"
   ]
  },
  {
   "cell_type": "code",
   "execution_count": 16,
   "metadata": {},
   "outputs": [
    {
     "output_type": "execute_result",
     "data": {
      "text/plain": "     streetName streetNumber   salesDate    price   m2  m2Price    saleType\n89  Askeskellet         14 2  25-11-2013   956250  111     8615    I øvrigt\n90  Askeskellet         14 2  31-01-2000  1610000  111    14505  Fri handel",
      "text/html": "<div>\n<style scoped>\n    .dataframe tbody tr th:only-of-type {\n        vertical-align: middle;\n    }\n\n    .dataframe tbody tr th {\n        vertical-align: top;\n    }\n\n    .dataframe thead th {\n        text-align: right;\n    }\n</style>\n<table border=\"1\" class=\"dataframe\">\n  <thead>\n    <tr style=\"text-align: right;\">\n      <th></th>\n      <th>streetName</th>\n      <th>streetNumber</th>\n      <th>salesDate</th>\n      <th>price</th>\n      <th>m2</th>\n      <th>m2Price</th>\n      <th>saleType</th>\n    </tr>\n  </thead>\n  <tbody>\n    <tr>\n      <td>89</td>\n      <td>Askeskellet</td>\n      <td>14 2</td>\n      <td>25-11-2013</td>\n      <td>956250</td>\n      <td>111</td>\n      <td>8615</td>\n      <td>I øvrigt</td>\n    </tr>\n    <tr>\n      <td>90</td>\n      <td>Askeskellet</td>\n      <td>14 2</td>\n      <td>31-01-2000</td>\n      <td>1610000</td>\n      <td>111</td>\n      <td>14505</td>\n      <td>Fri handel</td>\n    </tr>\n  </tbody>\n</table>\n</div>"
     },
     "metadata": {},
     "execution_count": 16
    }
   ],
   "source": [
    "df[\n",
    "    (df.streetName == \"Askeskellet\") &\n",
    "    (df.streetNumber == \"14 2\")\n",
    "]"
   ]
  },
  {
   "cell_type": "markdown",
   "metadata": {},
   "source": [
    "We will keep only \"fri handel\" for now. "
   ]
  },
  {
   "cell_type": "code",
   "execution_count": 22,
   "metadata": {},
   "outputs": [],
   "source": [
    "df[df.saleType==\"Fri handel\"].to_csv('../../data/real-estate/sales.csv')"
   ]
  },
  {
   "cell_type": "code",
   "execution_count": null,
   "metadata": {},
   "outputs": [],
   "source": []
  },
  {
   "cell_type": "code",
   "execution_count": 18,
   "metadata": {},
   "outputs": [],
   "source": [
    "addressesJson = {}\n",
    "streetJsons = []\n",
    "for street in df.streetName.unique():\n",
    "    street_df = df[df.streetName==street]\n",
    "    streetJson = {\n",
    "        'street':street,\n",
    "        'numbers': list(street_df.streetNumber.unique())\n",
    "    }\n",
    "    streetJsons.append(streetJson)\n",
    "addressesJson['streets'] = streetJsons "
   ]
  },
  {
   "cell_type": "code",
   "execution_count": 19,
   "metadata": {},
   "outputs": [],
   "source": [
    "with open('../../data/real-estate/addresses.json', 'w', encoding='utf8') as json_file:\n",
    "  json.dump(addressesJson, json_file)\n"
   ]
  },
  {
   "cell_type": "code",
   "execution_count": 20,
   "metadata": {},
   "outputs": [],
   "source": [
    "pd.DataFrame(\n",
    "    df.m2.unique(),\n",
    "    columns=['m2']\n",
    ").to_csv('../../data/real-estate/squaremeters.csv')"
   ]
  }
 ],
 "metadata": {
  "kernelspec": {
   "display_name": "Python 3",
   "language": "python",
   "name": "python3"
  },
  "language_info": {
   "codemirror_mode": {
    "name": "ipython",
    "version": 3
   },
   "file_extension": ".py",
   "mimetype": "text/x-python",
   "name": "python",
   "nbconvert_exporter": "python",
   "pygments_lexer": "ipython3",
   "version": "3.7.4"
  }
 },
 "nbformat": 4,
 "nbformat_minor": 2
}