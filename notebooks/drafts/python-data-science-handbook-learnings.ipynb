{
 "cells": [
  {
   "cell_type": "markdown",
   "metadata": {
    "toc": "true"
   },
   "source": [
    "# Table of Contents\n",
    " <p><div class=\"lev1 toc-item\"><a href=\"#Lernings-from-reading-Python-Data-Science-Handbook\" data-toc-modified-id=\"Lernings-from-reading-Python-Data-Science-Handbook-1\"><span class=\"toc-item-num\">1&nbsp;&nbsp;</span>Lernings from reading <em>Python Data Science Handbook</em></a></div><div class=\"lev1 toc-item\"><a href=\"#Numpy\" data-toc-modified-id=\"Numpy-2\"><span class=\"toc-item-num\">2&nbsp;&nbsp;</span>Numpy</a></div><div class=\"lev2 toc-item\"><a href=\"#Creating-your-own-histogram\" data-toc-modified-id=\"Creating-your-own-histogram-21\"><span class=\"toc-item-num\">2.1&nbsp;&nbsp;</span>Creating your own histogram</a></div><div class=\"lev2 toc-item\"><a href=\"#Sorting\" data-toc-modified-id=\"Sorting-22\"><span class=\"toc-item-num\">2.2&nbsp;&nbsp;</span>Sorting</a></div><div class=\"lev1 toc-item\"><a href=\"#Pandas\" data-toc-modified-id=\"Pandas-3\"><span class=\"toc-item-num\">3&nbsp;&nbsp;</span>Pandas</a></div><div class=\"lev2 toc-item\"><a href=\"#Pivot-Tables\" data-toc-modified-id=\"Pivot-Tables-31\"><span class=\"toc-item-num\">3.1&nbsp;&nbsp;</span>Pivot Tables</a></div><div class=\"lev2 toc-item\"><a href=\"#hierarchical-Data-Structure\" data-toc-modified-id=\"hierarchical-Data-Structure-32\"><span class=\"toc-item-num\">3.2&nbsp;&nbsp;</span>hierarchical Data Structure</a></div>"
   ]
  },
  {
   "cell_type": "code",
   "execution_count": 1,
   "metadata": {},
   "outputs": [
    {
     "name": "stderr",
     "output_type": "stream",
     "text": [
      "/Users/mikkelhartmannjensen/Documents/projects/mikmik19.github.com/notebooks/env/lib/python3.6/importlib/_bootstrap.py:205: RuntimeWarning: numpy.dtype size changed, may indicate binary incompatibility. Expected 96, got 88\n",
      "  return f(*args, **kwds)\n"
     ]
    }
   ],
   "source": [
    "import numpy as np\n",
    "import matplotlib.pyplot as plt\n",
    "import seaborn as sns\n",
    "import pandas as pd"
   ]
  },
  {
   "cell_type": "markdown",
   "metadata": {
    "toc": true
   },
   "source": [
    "<h1>Table of Contents<span class=\"tocSkip\"></span></h1>\n",
    "<div class=\"toc\"><ul class=\"toc-item\"><li><span><a href=\"#Lernings-from-reading-Python-Data-Science-Handbook\" data-toc-modified-id=\"Lernings-from-reading-Python-Data-Science-Handbook-1\"><span class=\"toc-item-num\">1&nbsp;&nbsp;</span>Lernings from reading <em>Python Data Science Handbook</em></a></span></li><li><span><a href=\"#Numpy\" data-toc-modified-id=\"Numpy-2\"><span class=\"toc-item-num\">2&nbsp;&nbsp;</span>Numpy</a></span><ul class=\"toc-item\"><li><span><a href=\"#Creating-your-own-histogram\" data-toc-modified-id=\"Creating-your-own-histogram-2.1\"><span class=\"toc-item-num\">2.1&nbsp;&nbsp;</span>Creating your own histogram</a></span></li><li><span><a href=\"#Sorting\" data-toc-modified-id=\"Sorting-2.2\"><span class=\"toc-item-num\">2.2&nbsp;&nbsp;</span>Sorting</a></span></li></ul></li><li><span><a href=\"#Pandas\" data-toc-modified-id=\"Pandas-3\"><span class=\"toc-item-num\">3&nbsp;&nbsp;</span>Pandas</a></span><ul class=\"toc-item\"><li><span><a href=\"#Pivot-Tables\" data-toc-modified-id=\"Pivot-Tables-3.1\"><span class=\"toc-item-num\">3.1&nbsp;&nbsp;</span>Pivot Tables</a></span></li><li><span><a href=\"#hierarchical-Data-Structure\" data-toc-modified-id=\"hierarchical-Data-Structure-3.2\"><span class=\"toc-item-num\">3.2&nbsp;&nbsp;</span>hierarchical Data Structure</a></span></li></ul></li></ul></div>"
   ]
  },
  {
   "cell_type": "markdown",
   "metadata": {},
   "source": [
    "# Lernings from reading _Python Data Science Handbook_\n",
    "This notebook contains all the cool tricks I've learned from reading _Python Data Science Hanbook_ by Jake VanderPlas."
   ]
  },
  {
   "cell_type": "markdown",
   "metadata": {},
   "source": [
    "# Numpy\n",
    "_Chapter 2_ of the book focuses on Numpy."
   ]
  },
  {
   "cell_type": "markdown",
   "metadata": {},
   "source": [
    "## Creating your own histogram\n",
    "This example is found on page. 84 of the book. I like this example because it uses three numpy functions I did not know of. `zero_like`, `searchsorted`, and `add.at`."
   ]
  },
  {
   "cell_type": "code",
   "execution_count": 2,
   "metadata": {},
   "outputs": [],
   "source": [
    "x = np.random.randn(100)\n",
    "bins = np.linspace(-5, 5, 20)"
   ]
  },
  {
   "cell_type": "markdown",
   "metadata": {},
   "source": [
    "Initialize a ndarray with the same shape as bins and fill it with zeros."
   ]
  },
  {
   "cell_type": "code",
   "execution_count": 3,
   "metadata": {},
   "outputs": [],
   "source": [
    "counts = np.zeros_like(bins)"
   ]
  },
  {
   "cell_type": "markdown",
   "metadata": {},
   "source": [
    "Find indices where each element of x should be inserted into bins to maintain ordering. Bins is already sorted."
   ]
  },
  {
   "cell_type": "code",
   "execution_count": 4,
   "metadata": {},
   "outputs": [],
   "source": [
    "idx = np.searchsorted(bins, x)"
   ]
  },
  {
   "cell_type": "markdown",
   "metadata": {},
   "source": [
    "Add 1 to each indice of counts. Using add.at to to in-place addition."
   ]
  },
  {
   "cell_type": "code",
   "execution_count": 5,
   "metadata": {},
   "outputs": [],
   "source": [
    "np.add.at(counts, idx, 1)"
   ]
  },
  {
   "cell_type": "markdown",
   "metadata": {},
   "source": [
    "Now we are ready to plot the histogram."
   ]
  },
  {
   "cell_type": "code",
   "execution_count": 6,
   "metadata": {},
   "outputs": [
    {
     "data": {
      "image/png": "[encoded data removed]",
      "text/plain": [
       "<Figure size 432x288 with 1 Axes>"
      ]
     },
     "metadata": {},
     "output_type": "display_data"
    }
   ],
   "source": [
    "fig, ax = plt.subplots()\n",
    "ax.plot(bins, counts, linestyle='steps')\n",
    "ax.set_title('Custom Histogram', loc='left')\n",
    "ax.set_ylabel('Counts')\n",
    "ax.set_xlabel('Numbers');"
   ]
  },
  {
   "cell_type": "markdown",
   "metadata": {},
   "source": [
    "## Sorting\n",
    "\n",
    "On page 86 there is an implementation of selection sort. The algorithm loops over the array once. For each loop it finds the position of the minumum value in the rest of the array. It then swaps its position of the current element with the minimal value.   \n",
    "\n",
    "I like this example because of the way it uses tuples to swap the values."
   ]
  },
  {
   "cell_type": "code",
   "execution_count": 7,
   "metadata": {},
   "outputs": [
    {
     "data": {
      "text/plain": [
       "array([-1.61455054, -1.14810398, -0.41670911, -0.12191507,  0.05420115,\n",
       "        0.33597684,  0.53556428,  0.90138072,  1.15100994,  1.33497664])"
      ]
     },
     "execution_count": 7,
     "metadata": {},
     "output_type": "execute_result"
    }
   ],
   "source": [
    "def selection_sort(x):\n",
    "    for idx in range(len(x)):\n",
    "        swap_idx = idx + np.argmin(x[idx:])\n",
    "        (x[idx], x[swap_idx]) = (x[swap_idx], x[idx]) # This is what I like\n",
    "    return x\n",
    "\n",
    "x = np.random.randn(10)\n",
    "selection_sort(x)"
   ]
  },
  {
   "cell_type": "markdown",
   "metadata": {},
   "source": [
    "### Partial sorting with Partitioning\n",
    "`partition` take two inputs, an array, $x$ and an index, $k$, structures that data so all the smallest $k$ values are places to the left of the index $k$, while all the values higher are placed to the right of the $k$th index. "
   ]
  },
  {
   "cell_type": "code",
   "execution_count": 8,
   "metadata": {},
   "outputs": [
    {
     "data": {
      "text/plain": [
       "array([-0.62194127, -1.17189872, -1.2433855 , -0.51559671, -0.48248466,\n",
       "       -0.34854724,  0.46550409,  1.01229545, -0.1139379 ,  0.28204543])"
      ]
     },
     "execution_count": 8,
     "metadata": {},
     "output_type": "execute_result"
    }
   ],
   "source": [
    "x = np.random.randn(10)\n",
    "np.partition(x, 3)"
   ]
  },
  {
   "cell_type": "markdown",
   "metadata": {},
   "source": [
    "There is also a method will will return the indices rather than the values -- similarly as `np.sort()` and `np.argsort()`."
   ]
  },
  {
   "cell_type": "code",
   "execution_count": 9,
   "metadata": {},
   "outputs": [
    {
     "data": {
      "text/plain": [
       "array([-0.62194127, -1.17189872, -1.2433855 , -0.51559671, -0.48248466,\n",
       "       -0.34854724,  0.46550409,  1.01229545, -0.1139379 ,  0.28204543])"
      ]
     },
     "execution_count": 9,
     "metadata": {},
     "output_type": "execute_result"
    }
   ],
   "source": [
    "idx = np.argpartition(x,3)\n",
    "x[idx]"
   ]
  },
  {
   "cell_type": "markdown",
   "metadata": {},
   "source": [
    "### Calculating k-nearest neighbours using partitioning and broadcasting"
   ]
  },
  {
   "cell_type": "markdown",
   "metadata": {},
   "source": [
    "In the book he uses the partitioning together with fance indecing and broadcasting to calculate the $k$-nearest neighbours. The example nicely puts together many of the usefull tricks, so I will reproduce it here."
   ]
  },
  {
   "cell_type": "code",
   "execution_count": 10,
   "metadata": {},
   "outputs": [],
   "source": [
    "data = np.random.rand(10,2)\n",
    "k = 3"
   ]
  },
  {
   "cell_type": "code",
   "execution_count": 11,
   "metadata": {},
   "outputs": [],
   "source": [
    "squared_dist = np.sum( (data[:, np.newaxis, :] - data[np.newaxis, :, :])**2, axis=-1)"
   ]
  },
  {
   "cell_type": "markdown",
   "metadata": {},
   "source": [
    "This is quite dense. We want to get a $10x10$ matrix that contains the distance from each point to every other pint (including the distance to itself). We achieve this by using the clever _broadcasting_ trick described on page 63-70.\n",
    "\n",
    "Lets look at how the shape of the matrices are affected."
   ]
  },
  {
   "cell_type": "code",
   "execution_count": 12,
   "metadata": {},
   "outputs": [
    {
     "name": "stdout",
     "output_type": "stream",
     "text": [
      "(10, 1, 2)\n",
      "(1, 10, 2)\n",
      "(10, 10, 2)\n"
     ]
    }
   ],
   "source": [
    "print(data[:, np.newaxis, :].shape)\n",
    "print(data[np.newaxis, :, :].shape)\n",
    "print((data[:, np.newaxis, :] - data[np.newaxis, :, :]).shape)"
   ]
  },
  {
   "cell_type": "markdown",
   "metadata": {},
   "source": [
    "We want a $10x10$ matrix, so we need to sum along the last axis to get rid of it. This is why we are giving the `axis=-1` keyword."
   ]
  },
  {
   "cell_type": "code",
   "execution_count": 13,
   "metadata": {},
   "outputs": [
    {
     "name": "stdout",
     "output_type": "stream",
     "text": [
      "(10, 10)\n"
     ]
    }
   ],
   "source": [
    "print(squared_dist.shape)"
   ]
  },
  {
   "cell_type": "markdown",
   "metadata": {},
   "source": [
    "So we do indeed end up with at $10x10$ matrix. \n",
    "\n",
    "Now that we have gotten the squared distances using _broadcasting_, it is time to get the nearest neighbours using _partitionin_. "
   ]
  },
  {
   "cell_type": "code",
   "execution_count": 14,
   "metadata": {},
   "outputs": [],
   "source": [
    "neareast_neighbour = np.argpartition(squared_dist, k+1, axis=1)"
   ]
  },
  {
   "cell_type": "markdown",
   "metadata": {},
   "source": [
    "We need to partition onthe $k+1$th index because the array also include the distance of each point to itself. We are partitioning along the columns axis.\n",
    "\n",
    "Lets plot the points together with their nearest neighbours. First ill define come colours and linestyles that we will be using."
   ]
  },
  {
   "cell_type": "code",
   "execution_count": 15,
   "metadata": {},
   "outputs": [],
   "source": [
    "cols = [\n",
    "    'black',\n",
    "    'pink',\n",
    "    'green',\n",
    "    'blue',\n",
    "    'cyan',\n",
    "    'olive',\n",
    "    'red',\n",
    "    'magenta',\n",
    "    'orange',\n",
    "    'lightblue'\n",
    "]\n",
    "linestyles = ['-', '--', '-.']*4"
   ]
  },
  {
   "cell_type": "markdown",
   "metadata": {},
   "source": [
    "Now we can loop over each point and draw the lines to the nearest neighbours."
   ]
  },
  {
   "cell_type": "code",
   "execution_count": 16,
   "metadata": {},
   "outputs": [
    {
     "data": {
      "image/png": "[encoded data removed]",
      "text/plain": [
       "<Figure size 432x288 with 1 Axes>"
      ]
     },
     "metadata": {},
     "output_type": "display_data"
    }
   ],
   "source": [
    "fig, ax = plt.subplots()\n",
    "for i in range(data.shape[0]):\n",
    "    ax.plot(data[i,0], data[i,1], 'o', color=cols[i], markeredgecolor='k')\n",
    "    for linewidth, neighbour_i in enumerate(neareast_neighbour[i, :k+1]):\n",
    "        ax.plot(*zip(data[neighbour_i], data[i]),\n",
    "                color=cols[i],\n",
    "                linestyle=linestyles[i],\n",
    "                linewidth=(k-linewidth)+1,\n",
    "                alpha=0.5)\n",
    "        \n",
    "ax.set_xlabel('x')\n",
    "ax.set_ylabel('y')\n",
    "ax.set_title(f'{k}-nearest neighbours', loc='left');"
   ]
  },
  {
   "cell_type": "markdown",
   "metadata": {},
   "source": [
    "Here I let the width of the line indicate the proximity of the points, so bolder means closer. I cycle through different line styles to make it easier to see the two-way nature of the connections.\n",
    "\n",
    "The only thing thats note-worthy about the code snippet above is the use of `zip()`. Lets look at what it actually does."
   ]
  },
  {
   "cell_type": "code",
   "execution_count": 17,
   "metadata": {},
   "outputs": [
    {
     "name": "stdout",
     "output_type": "stream",
     "text": [
      "0.23825805437203507 0.5143013578820181\n",
      "0.48410702505224834 0.15382100247135067\n"
     ]
    }
   ],
   "source": [
    "for (a,b) in zip(data[neighbour_i], data[i]):\n",
    "    print(a,b)"
   ]
  },
  {
   "cell_type": "markdown",
   "metadata": {},
   "source": [
    "So given two points $(x_0, y_0)$ and $(x_1, y_1)$ it creates an array that contains $[x_0, x_1]$, $[y_0, y_1]$, so we can  draw a line between the pints. This makes sense after having gone trhough it.\n",
    "\n",
    "But how about the `*`? If we leave it out we get an error message that states that matplotlib does not take generators as inputs.\n",
    "\n",
    "The `*` tells the function that it should _unpack_ the values. It is used when given an unknown number of positional arguments to a function. We use that fact that `pyplot.plot()` supports positional arguments of the form:\n",
    "\n",
    "`plt(x0, y0, ..., xn, yn)`.\n",
    "\n",
    "When we unpack the zip this is what we are giving the function."
   ]
  },
  {
   "cell_type": "markdown",
   "metadata": {},
   "source": [
    "If this seems a bit obscure, we could have done the following instead:"
   ]
  },
  {
   "cell_type": "code",
   "execution_count": 18,
   "metadata": {},
   "outputs": [
    {
     "data": {
      "image/png": "[encoded data removed]",
      "text/plain": [
       "<Figure size 432x288 with 1 Axes>"
      ]
     },
     "metadata": {},
     "output_type": "display_data"
    }
   ],
   "source": [
    "xs = [data[neighbour_i][0], data[i][0]]\n",
    "ys = [data[neighbour_i][1], data[i][1]]\n",
    "plt.plot(xs, ys)\n",
    "plt.plot(xs, ys, 'ob');"
   ]
  },
  {
   "cell_type": "markdown",
   "metadata": {},
   "source": [
    "It is more explicit, but also a sore to the eye."
   ]
  },
  {
   "cell_type": "markdown",
   "metadata": {},
   "source": [
    "# Pandas"
   ]
  },
  {
   "cell_type": "markdown",
   "metadata": {},
   "source": [
    "## Pivot Tables"
   ]
  },
  {
   "cell_type": "markdown",
   "metadata": {},
   "source": [
    "First we will load the  _Titanic_ dataset, as described on p. 170 of the book."
   ]
  },
  {
   "cell_type": "code",
   "execution_count": 19,
   "metadata": {},
   "outputs": [],
   "source": [
    "titanic = sns.load_dataset('titanic')"
   ]
  },
  {
   "cell_type": "code",
   "execution_count": 20,
   "metadata": {},
   "outputs": [
    {
     "data": {
      "text/html": [
       "<div>\n",
       "<style scoped>\n",
       "    .dataframe tbody tr th:only-of-type {\n",
       "        vertical-align: middle;\n",
       "    }\n",
       "\n",
       "    .dataframe tbody tr th {\n",
       "        vertical-align: top;\n",
       "    }\n",
       "\n",
       "    .dataframe thead th {\n",
       "        text-align: right;\n",
       "    }\n",
       "</style>\n",
       "<table border=\"1\" class=\"dataframe\">\n",
       "  <thead>\n",
       "    <tr style=\"text-align: right;\">\n",
       "      <th></th>\n",
       "      <th>survived</th>\n",
       "      <th>pclass</th>\n",
       "      <th>sex</th>\n",
       "      <th>age</th>\n",
       "      <th>sibsp</th>\n",
       "      <th>parch</th>\n",
       "      <th>fare</th>\n",
       "      <th>embarked</th>\n",
       "      <th>class</th>\n",
       "      <th>who</th>\n",
       "      <th>adult_male</th>\n",
       "      <th>deck</th>\n",
       "      <th>embark_town</th>\n",
       "      <th>alive</th>\n",
       "      <th>alone</th>\n",
       "    </tr>\n",
       "  </thead>\n",
       "  <tbody>\n",
       "    <tr>\n",
       "      <th>0</th>\n",
       "      <td>0</td>\n",
       "      <td>3</td>\n",
       "      <td>male</td>\n",
       "      <td>22.0</td>\n",
       "      <td>1</td>\n",
       "      <td>0</td>\n",
       "      <td>7.2500</td>\n",
       "      <td>S</td>\n",
       "      <td>Third</td>\n",
       "      <td>man</td>\n",
       "      <td>True</td>\n",
       "      <td>NaN</td>\n",
       "      <td>Southampton</td>\n",
       "      <td>no</td>\n",
       "      <td>False</td>\n",
       "    </tr>\n",
       "    <tr>\n",
       "      <th>1</th>\n",
       "      <td>1</td>\n",
       "      <td>1</td>\n",
       "      <td>female</td>\n",
       "      <td>38.0</td>\n",
       "      <td>1</td>\n",
       "      <td>0</td>\n",
       "      <td>71.2833</td>\n",
       "      <td>C</td>\n",
       "      <td>First</td>\n",
       "      <td>woman</td>\n",
       "      <td>False</td>\n",
       "      <td>C</td>\n",
       "      <td>Cherbourg</td>\n",
       "      <td>yes</td>\n",
       "      <td>False</td>\n",
       "    </tr>\n",
       "    <tr>\n",
       "      <th>2</th>\n",
       "      <td>1</td>\n",
       "      <td>3</td>\n",
       "      <td>female</td>\n",
       "      <td>26.0</td>\n",
       "      <td>0</td>\n",
       "      <td>0</td>\n",
       "      <td>7.9250</td>\n",
       "      <td>S</td>\n",
       "      <td>Third</td>\n",
       "      <td>woman</td>\n",
       "      <td>False</td>\n",
       "      <td>NaN</td>\n",
       "      <td>Southampton</td>\n",
       "      <td>yes</td>\n",
       "      <td>True</td>\n",
       "    </tr>\n",
       "    <tr>\n",
       "      <th>3</th>\n",
       "      <td>1</td>\n",
       "      <td>1</td>\n",
       "      <td>female</td>\n",
       "      <td>35.0</td>\n",
       "      <td>1</td>\n",
       "      <td>0</td>\n",
       "      <td>53.1000</td>\n",
       "      <td>S</td>\n",
       "      <td>First</td>\n",
       "      <td>woman</td>\n",
       "      <td>False</td>\n",
       "      <td>C</td>\n",
       "      <td>Southampton</td>\n",
       "      <td>yes</td>\n",
       "      <td>False</td>\n",
       "    </tr>\n",
       "    <tr>\n",
       "      <th>4</th>\n",
       "      <td>0</td>\n",
       "      <td>3</td>\n",
       "      <td>male</td>\n",
       "      <td>35.0</td>\n",
       "      <td>0</td>\n",
       "      <td>0</td>\n",
       "      <td>8.0500</td>\n",
       "      <td>S</td>\n",
       "      <td>Third</td>\n",
       "      <td>man</td>\n",
       "      <td>True</td>\n",
       "      <td>NaN</td>\n",
       "      <td>Southampton</td>\n",
       "      <td>no</td>\n",
       "      <td>True</td>\n",
       "    </tr>\n",
       "  </tbody>\n",
       "</table>\n",
       "</div>"
      ],
      "text/plain": [
       "   survived  pclass     sex   age  sibsp  parch     fare embarked  class  \\\n",
       "0         0       3    male  22.0      1      0   7.2500        S  Third   \n",
       "1         1       1  female  38.0      1      0  71.2833        C  First   \n",
       "2         1       3  female  26.0      0      0   7.9250        S  Third   \n",
       "3         1       1  female  35.0      1      0  53.1000        S  First   \n",
       "4         0       3    male  35.0      0      0   8.0500        S  Third   \n",
       "\n",
       "     who  adult_male deck  embark_town alive  alone  \n",
       "0    man        True  NaN  Southampton    no  False  \n",
       "1  woman       False    C    Cherbourg   yes  False  \n",
       "2  woman       False  NaN  Southampton   yes   True  \n",
       "3  woman       False    C  Southampton   yes  False  \n",
       "4    man        True  NaN  Southampton    no   True  "
      ]
     },
     "execution_count": 20,
     "metadata": {},
     "output_type": "execute_result"
    }
   ],
   "source": [
    "titanic.head()"
   ]
  },
  {
   "cell_type": "markdown",
   "metadata": {},
   "source": [
    "Below we will calculate the mean survival rate across sex and class using the `groupby()` and `aggregate()` methods."
   ]
  },
  {
   "cell_type": "code",
   "execution_count": 21,
   "metadata": {},
   "outputs": [
    {
     "data": {
      "text/html": [
       "<div>\n",
       "<style scoped>\n",
       "    .dataframe tbody tr th:only-of-type {\n",
       "        vertical-align: middle;\n",
       "    }\n",
       "\n",
       "    .dataframe tbody tr th {\n",
       "        vertical-align: top;\n",
       "    }\n",
       "\n",
       "    .dataframe thead th {\n",
       "        text-align: right;\n",
       "    }\n",
       "</style>\n",
       "<table border=\"1\" class=\"dataframe\">\n",
       "  <thead>\n",
       "    <tr style=\"text-align: right;\">\n",
       "      <th>class</th>\n",
       "      <th>First</th>\n",
       "      <th>Second</th>\n",
       "      <th>Third</th>\n",
       "    </tr>\n",
       "    <tr>\n",
       "      <th>sex</th>\n",
       "      <th></th>\n",
       "      <th></th>\n",
       "      <th></th>\n",
       "    </tr>\n",
       "  </thead>\n",
       "  <tbody>\n",
       "    <tr>\n",
       "      <th>female</th>\n",
       "      <td>0.968085</td>\n",
       "      <td>0.921053</td>\n",
       "      <td>0.500000</td>\n",
       "    </tr>\n",
       "    <tr>\n",
       "      <th>male</th>\n",
       "      <td>0.368852</td>\n",
       "      <td>0.157407</td>\n",
       "      <td>0.135447</td>\n",
       "    </tr>\n",
       "  </tbody>\n",
       "</table>\n",
       "</div>"
      ],
      "text/plain": [
       "class      First    Second     Third\n",
       "sex                                 \n",
       "female  0.968085  0.921053  0.500000\n",
       "male    0.368852  0.157407  0.135447"
      ]
     },
     "execution_count": 21,
     "metadata": {},
     "output_type": "execute_result"
    }
   ],
   "source": [
    "titanic\\\n",
    "    .groupby(['sex', 'class'])['survived']\\\n",
    "    .aggregate('mean')\\\n",
    "    .unstack()"
   ]
  },
  {
   "cell_type": "markdown",
   "metadata": {},
   "source": [
    "The `unstack()` method restructures the output so every row and column has a name. The same thing can be achieved by using Pandas _Pivot Table Syntax_."
   ]
  },
  {
   "cell_type": "code",
   "execution_count": 22,
   "metadata": {},
   "outputs": [
    {
     "data": {
      "text/html": [
       "<div>\n",
       "<style scoped>\n",
       "    .dataframe tbody tr th:only-of-type {\n",
       "        vertical-align: middle;\n",
       "    }\n",
       "\n",
       "    .dataframe tbody tr th {\n",
       "        vertical-align: top;\n",
       "    }\n",
       "\n",
       "    .dataframe thead th {\n",
       "        text-align: right;\n",
       "    }\n",
       "</style>\n",
       "<table border=\"1\" class=\"dataframe\">\n",
       "  <thead>\n",
       "    <tr style=\"text-align: right;\">\n",
       "      <th>class</th>\n",
       "      <th>First</th>\n",
       "      <th>Second</th>\n",
       "      <th>Third</th>\n",
       "    </tr>\n",
       "    <tr>\n",
       "      <th>sex</th>\n",
       "      <th></th>\n",
       "      <th></th>\n",
       "      <th></th>\n",
       "    </tr>\n",
       "  </thead>\n",
       "  <tbody>\n",
       "    <tr>\n",
       "      <th>female</th>\n",
       "      <td>0.968085</td>\n",
       "      <td>0.921053</td>\n",
       "      <td>0.500000</td>\n",
       "    </tr>\n",
       "    <tr>\n",
       "      <th>male</th>\n",
       "      <td>0.368852</td>\n",
       "      <td>0.157407</td>\n",
       "      <td>0.135447</td>\n",
       "    </tr>\n",
       "  </tbody>\n",
       "</table>\n",
       "</div>"
      ],
      "text/plain": [
       "class      First    Second     Third\n",
       "sex                                 \n",
       "female  0.968085  0.921053  0.500000\n",
       "male    0.368852  0.157407  0.135447"
      ]
     },
     "execution_count": 22,
     "metadata": {},
     "output_type": "execute_result"
    }
   ],
   "source": [
    "titanic.pivot_table('survived', index='sex', columns='class', aggfunc='mean')"
   ]
  },
  {
   "cell_type": "markdown",
   "metadata": {},
   "source": [
    "## hierarchical Data Structure\n",
    "I have a bunch of biometric data for a couple of patients and want to do some feature engineering."
   ]
  },
  {
   "cell_type": "code",
   "execution_count": 23,
   "metadata": {
    "code_folding": []
   },
   "outputs": [],
   "source": [
    "def construct_patient_df(patient_id):\n",
    "    ROWS=5\n",
    "    dates = pd.datetime(2018, 2,2) + pd.to_timedelta(np.arange(ROWS) ,'D')\n",
    "    hr = np.random.randn(ROWS,1)\n",
    "    steps = np.random.randn(ROWS,1)\n",
    "    \n",
    "    columns = pd.MultiIndex.from_product([[patient_id], ['hr', 'steps']],\n",
    "                                         names=['id', 'date'])\n",
    "    \n",
    "    return pd.DataFrame(\n",
    "        np.hstack([hr, steps]),\n",
    "        index=dates,\n",
    "        columns=columns\n",
    "    )"
   ]
  },
  {
   "cell_type": "code",
   "execution_count": 24,
   "metadata": {},
   "outputs": [
    {
     "data": {
      "text/html": [
       "<div>\n",
       "<style scoped>\n",
       "    .dataframe tbody tr th:only-of-type {\n",
       "        vertical-align: middle;\n",
       "    }\n",
       "\n",
       "    .dataframe tbody tr th {\n",
       "        vertical-align: top;\n",
       "    }\n",
       "\n",
       "    .dataframe thead tr th {\n",
       "        text-align: left;\n",
       "    }\n",
       "</style>\n",
       "<table border=\"1\" class=\"dataframe\">\n",
       "  <thead>\n",
       "    <tr>\n",
       "      <th>id</th>\n",
       "      <th colspan=\"2\" halign=\"left\">0</th>\n",
       "    </tr>\n",
       "    <tr>\n",
       "      <th>date</th>\n",
       "      <th>hr</th>\n",
       "      <th>steps</th>\n",
       "    </tr>\n",
       "  </thead>\n",
       "  <tbody>\n",
       "    <tr>\n",
       "      <th>2018-02-02</th>\n",
       "      <td>-1.365795</td>\n",
       "      <td>-0.438801</td>\n",
       "    </tr>\n",
       "    <tr>\n",
       "      <th>2018-02-03</th>\n",
       "      <td>0.059381</td>\n",
       "      <td>-0.800157</td>\n",
       "    </tr>\n",
       "    <tr>\n",
       "      <th>2018-02-04</th>\n",
       "      <td>1.029080</td>\n",
       "      <td>0.815824</td>\n",
       "    </tr>\n",
       "    <tr>\n",
       "      <th>2018-02-05</th>\n",
       "      <td>-0.613243</td>\n",
       "      <td>-1.817047</td>\n",
       "    </tr>\n",
       "    <tr>\n",
       "      <th>2018-02-06</th>\n",
       "      <td>0.090189</td>\n",
       "      <td>1.013127</td>\n",
       "    </tr>\n",
       "  </tbody>\n",
       "</table>\n",
       "</div>"
      ],
      "text/plain": [
       "id                 0          \n",
       "date              hr     steps\n",
       "2018-02-02 -1.365795 -0.438801\n",
       "2018-02-03  0.059381 -0.800157\n",
       "2018-02-04  1.029080  0.815824\n",
       "2018-02-05 -0.613243 -1.817047\n",
       "2018-02-06  0.090189  1.013127"
      ]
     },
     "execution_count": 24,
     "metadata": {},
     "output_type": "execute_result"
    }
   ],
   "source": [
    "patient_df = construct_patient_df(0)\n",
    "patient_df.head()"
   ]
  },
  {
   "cell_type": "markdown",
   "metadata": {},
   "source": [
    "Lets string together a couple of dataframes."
   ]
  },
  {
   "cell_type": "code",
   "execution_count": 25,
   "metadata": {},
   "outputs": [],
   "source": [
    "p_dfs = [construct_patient_df(i) for i in range(5)]\n",
    "df = pd.concat(p_dfs, axis=1)"
   ]
  },
  {
   "cell_type": "code",
   "execution_count": 26,
   "metadata": {},
   "outputs": [
    {
     "data": {
      "text/html": [
       "<div>\n",
       "<style scoped>\n",
       "    .dataframe tbody tr th:only-of-type {\n",
       "        vertical-align: middle;\n",
       "    }\n",
       "\n",
       "    .dataframe tbody tr th {\n",
       "        vertical-align: top;\n",
       "    }\n",
       "\n",
       "    .dataframe thead tr th {\n",
       "        text-align: left;\n",
       "    }\n",
       "</style>\n",
       "<table border=\"1\" class=\"dataframe\">\n",
       "  <thead>\n",
       "    <tr>\n",
       "      <th>id</th>\n",
       "      <th colspan=\"2\" halign=\"left\">0</th>\n",
       "      <th colspan=\"2\" halign=\"left\">1</th>\n",
       "      <th colspan=\"2\" halign=\"left\">2</th>\n",
       "      <th colspan=\"2\" halign=\"left\">3</th>\n",
       "      <th colspan=\"2\" halign=\"left\">4</th>\n",
       "    </tr>\n",
       "    <tr>\n",
       "      <th>date</th>\n",
       "      <th>hr</th>\n",
       "      <th>steps</th>\n",
       "      <th>hr</th>\n",
       "      <th>steps</th>\n",
       "      <th>hr</th>\n",
       "      <th>steps</th>\n",
       "      <th>hr</th>\n",
       "      <th>steps</th>\n",
       "      <th>hr</th>\n",
       "      <th>steps</th>\n",
       "    </tr>\n",
       "  </thead>\n",
       "  <tbody>\n",
       "    <tr>\n",
       "      <th>2018-02-02</th>\n",
       "      <td>0.243471</td>\n",
       "      <td>1.287713</td>\n",
       "      <td>0.537295</td>\n",
       "      <td>1.246983</td>\n",
       "      <td>0.208877</td>\n",
       "      <td>-0.624711</td>\n",
       "      <td>0.139606</td>\n",
       "      <td>-1.279942</td>\n",
       "      <td>-0.504987</td>\n",
       "      <td>-0.824966</td>\n",
       "    </tr>\n",
       "    <tr>\n",
       "      <th>2018-02-03</th>\n",
       "      <td>-0.454474</td>\n",
       "      <td>-0.284840</td>\n",
       "      <td>-0.285043</td>\n",
       "      <td>0.003300</td>\n",
       "      <td>1.366810</td>\n",
       "      <td>-0.920252</td>\n",
       "      <td>-0.871761</td>\n",
       "      <td>0.531250</td>\n",
       "      <td>0.118179</td>\n",
       "      <td>0.420201</td>\n",
       "    </tr>\n",
       "    <tr>\n",
       "      <th>2018-02-04</th>\n",
       "      <td>-0.103759</td>\n",
       "      <td>0.626279</td>\n",
       "      <td>1.120041</td>\n",
       "      <td>0.764704</td>\n",
       "      <td>-1.815845</td>\n",
       "      <td>0.341394</td>\n",
       "      <td>1.031713</td>\n",
       "      <td>-0.227029</td>\n",
       "      <td>-0.672428</td>\n",
       "      <td>-0.621916</td>\n",
       "    </tr>\n",
       "    <tr>\n",
       "      <th>2018-02-05</th>\n",
       "      <td>0.027859</td>\n",
       "      <td>-0.482866</td>\n",
       "      <td>0.130650</td>\n",
       "      <td>-2.424558</td>\n",
       "      <td>-2.227257</td>\n",
       "      <td>0.105808</td>\n",
       "      <td>-1.076730</td>\n",
       "      <td>0.472057</td>\n",
       "      <td>1.153251</td>\n",
       "      <td>0.524997</td>\n",
       "    </tr>\n",
       "    <tr>\n",
       "      <th>2018-02-06</th>\n",
       "      <td>0.201165</td>\n",
       "      <td>-3.052490</td>\n",
       "      <td>0.205693</td>\n",
       "      <td>-0.035978</td>\n",
       "      <td>0.307773</td>\n",
       "      <td>-0.040987</td>\n",
       "      <td>0.328939</td>\n",
       "      <td>1.194531</td>\n",
       "      <td>1.187901</td>\n",
       "      <td>-0.780683</td>\n",
       "    </tr>\n",
       "  </tbody>\n",
       "</table>\n",
       "</div>"
      ],
      "text/plain": [
       "id                 0                   1                   2            \\\n",
       "date              hr     steps        hr     steps        hr     steps   \n",
       "2018-02-02  0.243471  1.287713  0.537295  1.246983  0.208877 -0.624711   \n",
       "2018-02-03 -0.454474 -0.284840 -0.285043  0.003300  1.366810 -0.920252   \n",
       "2018-02-04 -0.103759  0.626279  1.120041  0.764704 -1.815845  0.341394   \n",
       "2018-02-05  0.027859 -0.482866  0.130650 -2.424558 -2.227257  0.105808   \n",
       "2018-02-06  0.201165 -3.052490  0.205693 -0.035978  0.307773 -0.040987   \n",
       "\n",
       "id                 3                   4            \n",
       "date              hr     steps        hr     steps  \n",
       "2018-02-02  0.139606 -1.279942 -0.504987 -0.824966  \n",
       "2018-02-03 -0.871761  0.531250  0.118179  0.420201  \n",
       "2018-02-04  1.031713 -0.227029 -0.672428 -0.621916  \n",
       "2018-02-05 -1.076730  0.472057  1.153251  0.524997  \n",
       "2018-02-06  0.328939  1.194531  1.187901 -0.780683  "
      ]
     },
     "execution_count": 26,
     "metadata": {},
     "output_type": "execute_result"
    }
   ],
   "source": [
    "df.head()"
   ]
  },
  {
   "cell_type": "markdown",
   "metadata": {},
   "source": [
    "It is not particularly nice to look at, but this hierachial structure is extremely usefull when indexing and slicing the data. Lets look at some examples.\n",
    "\n",
    "If we only want data from a single patient, we can use the standard notation to get it."
   ]
  },
  {
   "cell_type": "code",
   "execution_count": 27,
   "metadata": {},
   "outputs": [
    {
     "data": {
      "text/html": [
       "<div>\n",
       "<style scoped>\n",
       "    .dataframe tbody tr th:only-of-type {\n",
       "        vertical-align: middle;\n",
       "    }\n",
       "\n",
       "    .dataframe tbody tr th {\n",
       "        vertical-align: top;\n",
       "    }\n",
       "\n",
       "    .dataframe thead th {\n",
       "        text-align: right;\n",
       "    }\n",
       "</style>\n",
       "<table border=\"1\" class=\"dataframe\">\n",
       "  <thead>\n",
       "    <tr style=\"text-align: right;\">\n",
       "      <th>date</th>\n",
       "      <th>hr</th>\n",
       "      <th>steps</th>\n",
       "    </tr>\n",
       "  </thead>\n",
       "  <tbody>\n",
       "    <tr>\n",
       "      <th>2018-02-02</th>\n",
       "      <td>0.243471</td>\n",
       "      <td>1.287713</td>\n",
       "    </tr>\n",
       "    <tr>\n",
       "      <th>2018-02-03</th>\n",
       "      <td>-0.454474</td>\n",
       "      <td>-0.284840</td>\n",
       "    </tr>\n",
       "    <tr>\n",
       "      <th>2018-02-04</th>\n",
       "      <td>-0.103759</td>\n",
       "      <td>0.626279</td>\n",
       "    </tr>\n",
       "    <tr>\n",
       "      <th>2018-02-05</th>\n",
       "      <td>0.027859</td>\n",
       "      <td>-0.482866</td>\n",
       "    </tr>\n",
       "    <tr>\n",
       "      <th>2018-02-06</th>\n",
       "      <td>0.201165</td>\n",
       "      <td>-3.052490</td>\n",
       "    </tr>\n",
       "  </tbody>\n",
       "</table>\n",
       "</div>"
      ],
      "text/plain": [
       "date              hr     steps\n",
       "2018-02-02  0.243471  1.287713\n",
       "2018-02-03 -0.454474 -0.284840\n",
       "2018-02-04 -0.103759  0.626279\n",
       "2018-02-05  0.027859 -0.482866\n",
       "2018-02-06  0.201165 -3.052490"
      ]
     },
     "execution_count": 27,
     "metadata": {},
     "output_type": "execute_result"
    }
   ],
   "source": [
    "df[0]"
   ]
  },
  {
   "cell_type": "markdown",
   "metadata": {},
   "source": [
    "We can pass more _keys_ if we are interested in a more specific view."
   ]
  },
  {
   "cell_type": "code",
   "execution_count": 28,
   "metadata": {},
   "outputs": [
    {
     "data": {
      "text/plain": [
       "2018-02-02    0.243471\n",
       "2018-02-03   -0.454474\n",
       "2018-02-04   -0.103759\n",
       "2018-02-05    0.027859\n",
       "2018-02-06    0.201165\n",
       "Freq: D, Name: (0, hr), dtype: float64"
      ]
     },
     "execution_count": 28,
     "metadata": {},
     "output_type": "execute_result"
    }
   ],
   "source": [
    "df[0, 'hr']"
   ]
  },
  {
   "cell_type": "markdown",
   "metadata": {},
   "source": [
    "Since the index is a _dateteime_ we can easily access a subset of the data by slicing."
   ]
  },
  {
   "cell_type": "code",
   "execution_count": 29,
   "metadata": {},
   "outputs": [
    {
     "data": {
      "text/plain": [
       "2018-02-03   -0.454474\n",
       "2018-02-04   -0.103759\n",
       "2018-02-05    0.027859\n",
       "Freq: D, Name: (0, hr), dtype: float64"
      ]
     },
     "execution_count": 29,
     "metadata": {},
     "output_type": "execute_result"
    }
   ],
   "source": [
    "df[0, 'hr']['2018-02-03':'2018-02-05']"
   ]
  },
  {
   "cell_type": "markdown",
   "metadata": {},
   "source": [
    "We can also easily create new columns by using the familiar notation."
   ]
  },
  {
   "cell_type": "code",
   "execution_count": 30,
   "metadata": {},
   "outputs": [
    {
     "data": {
      "text/html": [
       "<div>\n",
       "<style scoped>\n",
       "    .dataframe tbody tr th:only-of-type {\n",
       "        vertical-align: middle;\n",
       "    }\n",
       "\n",
       "    .dataframe tbody tr th {\n",
       "        vertical-align: top;\n",
       "    }\n",
       "\n",
       "    .dataframe thead th {\n",
       "        text-align: right;\n",
       "    }\n",
       "</style>\n",
       "<table border=\"1\" class=\"dataframe\">\n",
       "  <thead>\n",
       "    <tr style=\"text-align: right;\">\n",
       "      <th>date</th>\n",
       "      <th>hr</th>\n",
       "      <th>steps</th>\n",
       "      <th>max_hr</th>\n",
       "    </tr>\n",
       "  </thead>\n",
       "  <tbody>\n",
       "    <tr>\n",
       "      <th>2018-02-02</th>\n",
       "      <td>0.243471</td>\n",
       "      <td>1.287713</td>\n",
       "      <td>0.243471</td>\n",
       "    </tr>\n",
       "    <tr>\n",
       "      <th>2018-02-03</th>\n",
       "      <td>-0.454474</td>\n",
       "      <td>-0.284840</td>\n",
       "      <td>0.243471</td>\n",
       "    </tr>\n",
       "    <tr>\n",
       "      <th>2018-02-04</th>\n",
       "      <td>-0.103759</td>\n",
       "      <td>0.626279</td>\n",
       "      <td>0.243471</td>\n",
       "    </tr>\n",
       "    <tr>\n",
       "      <th>2018-02-05</th>\n",
       "      <td>0.027859</td>\n",
       "      <td>-0.482866</td>\n",
       "      <td>0.243471</td>\n",
       "    </tr>\n",
       "    <tr>\n",
       "      <th>2018-02-06</th>\n",
       "      <td>0.201165</td>\n",
       "      <td>-3.052490</td>\n",
       "      <td>0.243471</td>\n",
       "    </tr>\n",
       "  </tbody>\n",
       "</table>\n",
       "</div>"
      ],
      "text/plain": [
       "date              hr     steps    max_hr\n",
       "2018-02-02  0.243471  1.287713  0.243471\n",
       "2018-02-03 -0.454474 -0.284840  0.243471\n",
       "2018-02-04 -0.103759  0.626279  0.243471\n",
       "2018-02-05  0.027859 -0.482866  0.243471\n",
       "2018-02-06  0.201165 -3.052490  0.243471"
      ]
     },
     "execution_count": 30,
     "metadata": {},
     "output_type": "execute_result"
    }
   ],
   "source": [
    "df[0, 'max_hr'] = df[0,'hr'].max()\n",
    "df[0]"
   ]
  },
  {
   "cell_type": "markdown",
   "metadata": {},
   "source": [
    "I want to be able to efficiently loop over the dataframe and calculate some complicated features. E.g. what is the average heart rate over the last three days. I wan't this to be added as a column to the dataframe."
   ]
  },
  {
   "cell_type": "code",
   "execution_count": 31,
   "metadata": {},
   "outputs": [
    {
     "name": "stderr",
     "output_type": "stream",
     "text": [
      "/Users/mikkelhartmannjensen/Documents/projects/mikmik19.github.com/notebooks/env/lib/python3.6/site-packages/pandas/core/indexing.py:189: SettingWithCopyWarning: \n",
      "A value is trying to be set on a copy of a slice from a DataFrame\n",
      "\n",
      "See the caveats in the documentation: http://pandas.pydata.org/pandas-docs/stable/indexing.html#indexing-view-versus-copy\n",
      "  self._setitem_with_indexer(indexer, value)\n"
     ]
    },
    {
     "name": "stdout",
     "output_type": "stream",
     "text": [
      "264 ms ± 14.9 ms per loop (mean ± std. dev. of 7 runs, 1 loop each)\n"
     ]
    }
   ],
   "source": [
    "%%timeit\n",
    "# I have to initialize the columns here, so \n",
    "# I can access them later. This feels wrong, \n",
    "# so i guess my approach is wrong.\n",
    "# I should fix this.\n",
    "df[0, 'test_loop'] = 0\n",
    "for date in df[0].index:\n",
    "    lookback = date - pd.to_timedelta(2 ,'D')\n",
    "    df[0, 'test_loop'].loc[date] = len(df[0, 'hr'].loc[lookback:date])"
   ]
  },
  {
   "cell_type": "markdown",
   "metadata": {},
   "source": [
    "Here i am using the `.loc[index]` syntax get the data at the position of the `index`."
   ]
  },
  {
   "cell_type": "code",
   "execution_count": 32,
   "metadata": {},
   "outputs": [
    {
     "data": {
      "text/html": [
       "<div>\n",
       "<style scoped>\n",
       "    .dataframe tbody tr th:only-of-type {\n",
       "        vertical-align: middle;\n",
       "    }\n",
       "\n",
       "    .dataframe tbody tr th {\n",
       "        vertical-align: top;\n",
       "    }\n",
       "\n",
       "    .dataframe thead th {\n",
       "        text-align: right;\n",
       "    }\n",
       "</style>\n",
       "<table border=\"1\" class=\"dataframe\">\n",
       "  <thead>\n",
       "    <tr style=\"text-align: right;\">\n",
       "      <th>date</th>\n",
       "      <th>hr</th>\n",
       "      <th>steps</th>\n",
       "      <th>max_hr</th>\n",
       "      <th>test_loop</th>\n",
       "    </tr>\n",
       "  </thead>\n",
       "  <tbody>\n",
       "    <tr>\n",
       "      <th>2018-02-02</th>\n",
       "      <td>0.243471</td>\n",
       "      <td>1.287713</td>\n",
       "      <td>0.243471</td>\n",
       "      <td>1</td>\n",
       "    </tr>\n",
       "    <tr>\n",
       "      <th>2018-02-03</th>\n",
       "      <td>-0.454474</td>\n",
       "      <td>-0.284840</td>\n",
       "      <td>0.243471</td>\n",
       "      <td>2</td>\n",
       "    </tr>\n",
       "    <tr>\n",
       "      <th>2018-02-04</th>\n",
       "      <td>-0.103759</td>\n",
       "      <td>0.626279</td>\n",
       "      <td>0.243471</td>\n",
       "      <td>3</td>\n",
       "    </tr>\n",
       "    <tr>\n",
       "      <th>2018-02-05</th>\n",
       "      <td>0.027859</td>\n",
       "      <td>-0.482866</td>\n",
       "      <td>0.243471</td>\n",
       "      <td>3</td>\n",
       "    </tr>\n",
       "    <tr>\n",
       "      <th>2018-02-06</th>\n",
       "      <td>0.201165</td>\n",
       "      <td>-3.052490</td>\n",
       "      <td>0.243471</td>\n",
       "      <td>3</td>\n",
       "    </tr>\n",
       "  </tbody>\n",
       "</table>\n",
       "</div>"
      ],
      "text/plain": [
       "date              hr     steps    max_hr  test_loop\n",
       "2018-02-02  0.243471  1.287713  0.243471          1\n",
       "2018-02-03 -0.454474 -0.284840  0.243471          2\n",
       "2018-02-04 -0.103759  0.626279  0.243471          3\n",
       "2018-02-05  0.027859 -0.482866  0.243471          3\n",
       "2018-02-06  0.201165 -3.052490  0.243471          3"
      ]
     },
     "execution_count": 32,
     "metadata": {},
     "output_type": "execute_result"
    }
   ],
   "source": [
    "df[0]"
   ]
  },
  {
   "cell_type": "markdown",
   "metadata": {},
   "source": [
    "Now we wan't to achive the same using the `apply()` method."
   ]
  },
  {
   "cell_type": "code",
   "execution_count": 33,
   "metadata": {},
   "outputs": [
    {
     "name": "stdout",
     "output_type": "stream",
     "text": [
      "8.03 ms ± 275 µs per loop (mean ± std. dev. of 7 runs, 100 loops each)\n"
     ]
    }
   ],
   "source": [
    "def lookback(row, df):\n",
    "    date = row.name\n",
    "    lookback = date - pd.to_timedelta(2 ,'D')\n",
    "    return len(df.loc[lookback:date])\n",
    "    \n",
    "%timeit df[0, 'test_apply'] = df[0].apply(lookback, axis=1, args=(df[0],))"
   ]
  },
  {
   "cell_type": "code",
   "execution_count": 34,
   "metadata": {},
   "outputs": [
    {
     "data": {
      "text/html": [
       "<div>\n",
       "<style scoped>\n",
       "    .dataframe tbody tr th:only-of-type {\n",
       "        vertical-align: middle;\n",
       "    }\n",
       "\n",
       "    .dataframe tbody tr th {\n",
       "        vertical-align: top;\n",
       "    }\n",
       "\n",
       "    .dataframe thead th {\n",
       "        text-align: right;\n",
       "    }\n",
       "</style>\n",
       "<table border=\"1\" class=\"dataframe\">\n",
       "  <thead>\n",
       "    <tr style=\"text-align: right;\">\n",
       "      <th>date</th>\n",
       "      <th>hr</th>\n",
       "      <th>steps</th>\n",
       "      <th>max_hr</th>\n",
       "      <th>test_loop</th>\n",
       "      <th>test_apply</th>\n",
       "    </tr>\n",
       "  </thead>\n",
       "  <tbody>\n",
       "    <tr>\n",
       "      <th>2018-02-02</th>\n",
       "      <td>0.243471</td>\n",
       "      <td>1.287713</td>\n",
       "      <td>0.243471</td>\n",
       "      <td>1</td>\n",
       "      <td>1</td>\n",
       "    </tr>\n",
       "    <tr>\n",
       "      <th>2018-02-03</th>\n",
       "      <td>-0.454474</td>\n",
       "      <td>-0.284840</td>\n",
       "      <td>0.243471</td>\n",
       "      <td>2</td>\n",
       "      <td>2</td>\n",
       "    </tr>\n",
       "    <tr>\n",
       "      <th>2018-02-04</th>\n",
       "      <td>-0.103759</td>\n",
       "      <td>0.626279</td>\n",
       "      <td>0.243471</td>\n",
       "      <td>3</td>\n",
       "      <td>3</td>\n",
       "    </tr>\n",
       "    <tr>\n",
       "      <th>2018-02-05</th>\n",
       "      <td>0.027859</td>\n",
       "      <td>-0.482866</td>\n",
       "      <td>0.243471</td>\n",
       "      <td>3</td>\n",
       "      <td>3</td>\n",
       "    </tr>\n",
       "    <tr>\n",
       "      <th>2018-02-06</th>\n",
       "      <td>0.201165</td>\n",
       "      <td>-3.052490</td>\n",
       "      <td>0.243471</td>\n",
       "      <td>3</td>\n",
       "      <td>3</td>\n",
       "    </tr>\n",
       "  </tbody>\n",
       "</table>\n",
       "</div>"
      ],
      "text/plain": [
       "date              hr     steps    max_hr  test_loop  test_apply\n",
       "2018-02-02  0.243471  1.287713  0.243471          1           1\n",
       "2018-02-03 -0.454474 -0.284840  0.243471          2           2\n",
       "2018-02-04 -0.103759  0.626279  0.243471          3           3\n",
       "2018-02-05  0.027859 -0.482866  0.243471          3           3\n",
       "2018-02-06  0.201165 -3.052490  0.243471          3           3"
      ]
     },
     "execution_count": 34,
     "metadata": {},
     "output_type": "execute_result"
    }
   ],
   "source": [
    "df[0]"
   ]
  },
  {
   "cell_type": "markdown",
   "metadata": {},
   "source": [
    "So the `apply()` is faster by about a factor 70. Not bad!"
   ]
  }
 ],
 "metadata": {
  "kernelspec": {
   "display_name": "Python 3",
   "language": "python",
   "name": "python3"
  },
  "language_info": {
   "codemirror_mode": {
    "name": "ipython",
    "version": 3
   },
   "file_extension": ".py",
   "mimetype": "text/x-python",
   "name": "python",
   "nbconvert_exporter": "python",
   "pygments_lexer": "ipython3",
   "version": "3.6.3"
  },
  "toc": {
   "base_numbering": 1,
   "colors": {
    "hover_highlight": "#DAA520",
    "running_highlight": "#FF0000",
    "selected_highlight": "#FFD700"
   },
   "moveMenuLeft": true,
   "nav_menu": {},
   "navigate_menu": true,
   "number_sections": true,
   "sideBar": true,
   "skip_h1_title": false,
   "threshold": "2",
   "title_cell": "Table of Contents",
   "title_sidebar": "Contents",
   "toc_cell": true,
   "toc_position": {},
   "toc_section_display": true,
   "toc_window_display": false,
   "widenNotebook": false
  }
 },
 "nbformat": 4,
 "nbformat_minor": 2
}
