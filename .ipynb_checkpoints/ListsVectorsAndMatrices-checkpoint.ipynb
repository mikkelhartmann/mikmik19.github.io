{
 "cells": [
  {
   "cell_type": "markdown",
   "metadata": {},
   "source": [
    "## Strings, arrays, vectors and matrices"
   ]
  },
  {
   "cell_type": "markdown",
   "metadata": {},
   "source": [
    "My first experience with programming was using MatLab to do data analysis for physics reports in school and later in my Ph.d. It is also pretty much my only experience with programming other than brief brief periods of using Octave and R. So recently I decided to learn Python.\n",
    "\n",
    "In using Python to write machile learning algortihms I ran into several problems because I did not properly understand\n",
    "the differs structures supplied by Python and Numpy package. The differences and similarities between Python Lists, Numpy arrays and Numpy Matrices got me confused. In this post I attempt to clarify the differences. "
   ]
  },
  {
   "cell_type": "markdown",
   "metadata": {},
   "source": [
    "## Strings"
   ]
  },
  {
   "cell_type": "markdown",
   "metadata": {},
   "source": [
    "So first up we have the list. So lets create a list and call it myList:"
   ]
  },
  {
   "cell_type": "code",
   "execution_count": 3,
   "metadata": {
    "collapsed": false
   },
   "outputs": [],
   "source": [
    "myList = ['a','b','c']"
   ]
  },
  {
   "cell_type": "markdown",
   "metadata": {},
   "source": [
    "myList is a list containing the elements a, b, c. In this list the elements\n",
    "are strings, but i could be numbers. List of numbers have caused\n",
    "quite some confusion for me, because they look like vectors. List of numbers might be useful, but they are not vectors. If I have the list"
   ]
  },
  {
   "cell_type": "code",
   "execution_count": 4,
   "metadata": {
    "collapsed": true
   },
   "outputs": [],
   "source": [
    "A = [1,2]"
   ]
  },
  {
   "cell_type": "markdown",
   "metadata": {},
   "source": [
    "Typing A+1 will get you into trouble:"
   ]
  },
  {
   "cell_type": "code",
   "execution_count": 5,
   "metadata": {
    "collapsed": false
   },
   "outputs": [
    {
     "ename": "TypeError",
     "evalue": "can only concatenate list (not \"int\") to list",
     "output_type": "error",
     "traceback": [
      "\u001b[0;31m---------------------------------------------------------------------------\u001b[0m",
      "\u001b[0;31mTypeError\u001b[0m                                 Traceback (most recent call last)",
      "\u001b[0;32m<ipython-input-5-a978927a7939>\u001b[0m in \u001b[0;36m<module>\u001b[0;34m()\u001b[0m\n\u001b[0;32m----> 1\u001b[0;31m \u001b[0mA\u001b[0m\u001b[0;34m+\u001b[0m\u001b[0;36m1\u001b[0m\u001b[0;34m\u001b[0m\u001b[0m\n\u001b[0m",
      "\u001b[0;31mTypeError\u001b[0m: can only concatenate list (not \"int\") to list"
     ]
    }
   ],
   "source": [
    "A+1"
   ]
  },
  {
   "cell_type": "markdown",
   "metadata": {},
   "source": [
    "This is becuse a string is not a vector and the + operator works differntly with strings that what you would expect for vectors. So we need a way to get vectors."
   ]
  },
  {
   "cell_type": "markdown",
   "metadata": {},
   "source": [
    "## Numpy Arrays"
   ]
  },
  {
   "cell_type": "markdown",
   "metadata": {},
   "source": [
    "One way to get vectors in Python is to use the Numpy package. Now, if you want to get the vector A = [1 2] you have to use the functions that Numpy gives you. So lets import the Numpy package."
   ]
  },
  {
   "cell_type": "code",
   "execution_count": 6,
   "metadata": {
    "collapsed": true
   },
   "outputs": [],
   "source": [
    "import numpy as np"
   ]
  },
  {
   "cell_type": "markdown",
   "metadata": {},
   "source": [
    "To create the vector A mentioned above one would have to type"
   ]
  },
  {
   "cell_type": "code",
   "execution_count": 7,
   "metadata": {
    "collapsed": true
   },
   "outputs": [],
   "source": [
    "A = np.array([1,2])"
   ]
  },
  {
   "cell_type": "markdown",
   "metadata": {},
   "source": [
    "So you are giving a python list of numbers to the array function. This will give you the array structure"
   ]
  },
  {
   "cell_type": "code",
   "execution_count": 12,
   "metadata": {
    "collapsed": false
   },
   "outputs": [
    {
     "data": {
      "text/plain": [
       "array([1, 2])"
      ]
     },
     "execution_count": 12,
     "metadata": {},
     "output_type": "execute_result"
    }
   ],
   "source": [
    "A "
   ]
  },
  {
   "cell_type": "markdown",
   "metadata": {},
   "source": [
    "and this works like vectors should. if you type"
   ]
  },
  {
   "cell_type": "code",
   "execution_count": 13,
   "metadata": {
    "collapsed": false
   },
   "outputs": [
    {
     "data": {
      "text/plain": [
       "array([2, 4])"
      ]
     },
     "execution_count": 13,
     "metadata": {},
     "output_type": "execute_result"
    }
   ],
   "source": [
    "A*2"
   ]
  },
  {
   "cell_type": "markdown",
   "metadata": {},
   "source": [
    "you get an array and you can do all the stuff you usually do with vectors.\n",
    "\n",
    "If I want to access the first element of the vector I type A[0] which in this case would give me back 1.\n",
    "\n",
    "So you get vectors by feeding a list of numbers to the Numpy .array function. If you want a a 3 by 3 matrix you have to supply a list of lists, like so:"
   ]
  },
  {
   "cell_type": "code",
   "execution_count": 14,
   "metadata": {
    "collapsed": true
   },
   "outputs": [],
   "source": [
    "C = np.array([[1,2,3],[4,5,6],[7,8,9]])"
   ]
  },
  {
   "cell_type": "markdown",
   "metadata": {},
   "source": [
    "## Numpy Matrices"
   ]
  },
  {
   "cell_type": "markdown",
   "metadata": {},
   "source": [
    "An alternative to creating the multidimensional arrays is to create a matrix using the .matrix function. E.g."
   ]
  },
  {
   "cell_type": "code",
   "execution_count": 16,
   "metadata": {
    "collapsed": false
   },
   "outputs": [],
   "source": [
    "A = np.matrix([[1, 2],[ 3, 4]])"
   ]
  },
  {
   "cell_type": "markdown",
   "metadata": {},
   "source": [
    " with this function you can also feed it another kind of string"
   ]
  },
  {
   "cell_type": "code",
   "execution_count": 17,
   "metadata": {
    "collapsed": false
   },
   "outputs": [
    {
     "data": {
      "text/plain": [
       "matrix([[1, 2],\n",
       "        [3, 4]])"
      ]
     },
     "execution_count": 17,
     "metadata": {},
     "output_type": "execute_result"
    }
   ],
   "source": [
    "A"
   ]
  },
  {
   "cell_type": "markdown",
   "metadata": {},
   "source": [
    "For MatLab using this syntax will be more familiar. But I prefer to give a list of strings so the syntax stays consistent across the differnt types.\n",
    "\n",
    "The difference between a 2-dimensional array created using the numpy.array function and the .matrix function is that the matrix is a special kind of two dimensional array. The matrix structure retains its 2-D nature through operations. It has certain special operators, such as $*$ (matrix multiplication) and $**$ (matrix power)."
   ]
  },
  {
   "cell_type": "markdown",
   "metadata": {},
   "source": [
    "## Summary"
   ]
  },
  {
   "cell_type": "markdown",
   "metadata": {},
   "source": [
    "I believe that you 2-d Numpy arrays give you all the functionality of matrices. But the Numpyt array can do so much more. This may get you into trouble if all you want is a matrix like the one you know from math class.\n",
    "\n",
    "I've compiled a summary table of how the structures react to different\n",
    "          operations:"
   ]
  },
  {
   "cell_type": "markdown",
   "metadata": {},
   "source": [
    "<table style=\"width:100%\">\n",
    "          <tr>\n",
    "            <th></th>\n",
    "            <th>List</th>\n",
    "            <th>Numpy Array</th>\n",
    "            <th>Numpy Matrix</th>\n",
    "          </tr>\n",
    "          <tr>\n",
    "            <td>Generation:</td>\n",
    "            <td>A = ['1','2','3']</td>\n",
    "            <td>A = np.array(['1','2','3'])</td>\n",
    "            <td>A = np.matrix(['1','2','3'])</td>\n",
    "          </tr>\n",
    "          <tr>\n",
    "            <td>Addition:</td>\n",
    "            <td>A+1 produces an error</td>\n",
    "            <td>A+1 = array([2,3,4])</td>\n",
    "            <td>A+1 = matrix([2,3,4])</td>\n",
    "          </tr>\n",
    "          <tr>\n",
    "            <td>Scalar product:</td>\n",
    "            <td>A*2 = ['1','2','3','1','2','3']</td>\n",
    "            <td>A*2 = array([2,4,6])</td>\n",
    "            <td>A*2 = matrix([2,4,6])</td>\n",
    "          </tr>\n",
    "          <tr>\n",
    "            <td>Dot product:</td>\n",
    "            <td>A*2 produces an error</td>\n",
    "            <td>dot(A,A) = array([2,4,6])</td>\n",
    "            <td>A*A = matrix([2,4,6])</td>\n",
    "          </tr>\n",
    "        </table>"
   ]
  },
  {
   "cell_type": "markdown",
   "metadata": {},
   "source": [
    "So there is definitely some ambiguity built into the system, but for me\n",
    "          the takeaway is that I should probably just use the .matrix function\n",
    "          whenever I want to work with vectors."
   ]
  },
  {
   "cell_type": "code",
   "execution_count": null,
   "metadata": {
    "collapsed": true
   },
   "outputs": [],
   "source": []
  }
 ],
 "metadata": {
  "kernelspec": {
   "display_name": "Python 2",
   "language": "python",
   "name": "python2"
  },
  "language_info": {
   "codemirror_mode": {
    "name": "ipython",
    "version": 2
   },
   "file_extension": ".py",
   "mimetype": "text/x-python",
   "name": "python",
   "nbconvert_exporter": "python",
   "pygments_lexer": "ipython2",
   "version": "2.7.9"
  }
 },
 "nbformat": 4,
 "nbformat_minor": 0
}
