{
 "metadata": {
  "language_info": {
   "codemirror_mode": {
    "name": "ipython",
    "version": 3
   },
   "file_extension": ".py",
   "mimetype": "text/x-python",
   "name": "python",
   "nbconvert_exporter": "python",
   "pygments_lexer": "ipython3",
   "version": "3.6.3-final"
  },
  "orig_nbformat": 2,
  "kernelspec": {
   "name": "python36364bitreoccurringeventsvirtualenva0f70cccc1ff44c79ca2398d8ac44e48",
   "display_name": "Python 3.6.3 64-bit ('reoccurring-events': virtualenv)"
  }
 },
 "nbformat": 4,
 "nbformat_minor": 2,
 "cells": [
  {
   "cell_type": "code",
   "execution_count": 1,
   "metadata": {},
   "outputs": [],
   "source": [
    "import re\n",
    "import pandas as pd"
   ]
  },
  {
   "cell_type": "code",
   "execution_count": 60,
   "metadata": {
    "tags": []
   },
   "outputs": [
    {
     "output_type": "stream",
     "name": "stdout",
     "text": "Salgspriser - alle boliger - Lærkeskellet, 2000\n\nAdresse                                         Type           Aktuel\n                                                               m²\nLærkeskellet 18, 2000 Frederiksberg             Ejerlejlighed\n                                                4.575.000      140\nFri handel     15-05-2018                       1.026.500      138\n\nFri handel     27-07-1994                       Ejerlejlighed  140\n                                                4.800.000      140\nLærkeskellet 6, 2000 Frederiksberg              3.070.000\n                                                907.133        140\nFri handel     16-11-2017                                      140\n                                                Ejerlejlighed  140\nFri handel     31-01-2012                       3.495.000      138\n                                                               138\nFri handel     18-11-1994                       Ejerlejlighed\n                                                4.200.000\nLærkeskellet 2, 2000 Frederiksberg              1.875.000\n                                                700.000\nFri handel     14-02-2008\n                                                Ejerlejlighed\nLærkeskellet 10, 2000 Frederiksberg             2.650.000\n                                                995.435\nFri handel     21-01-2007\n                                                Ejerlejlighed\nFri handel     11-12-2000                       1.875.000\n                                                1.050.000\nFri handel     25-06-1993\n                                                Ejerlejlighed\nLærkeskellet 16, 2000 Frederiksberg             851.840\n                                                851.840\nFri handel     13-07-2004\n                                                Ejerlejlighed\nFri handel     24-07-1994                       985.000\n\nLærkeskellet 8, 2000 Frederiksberg              Ejerlejlighed\n                                                618.000\nFri handel     16-06-2000\n\nFri handel     10-11-1994\n\nLærkeskellet 14, 2000 Frederiksberg\n\nFamiliehandel  17-01-1995\n\nFri handel     15-07-1993\n\nLærkeskellet 4, 2000 Frederiksberg\n\nFri handel     17-11-1994\n\nLærkeskellet 12, 2000 Frederiksberg\n\nFri handel     15-07-1992\n\nBoligsiden er for alle, som vil købe eller sælge bolig. På Boligsiden finder du villaer, ejerlejligheder, grunde mv.\n\nsom udbydes til salg gennem en ejendomsmægler.\n\n21-07-2020                                                     Side 1 af 1\n\f\n"
    }
   ],
   "source": [
    "with open(\"Lærkeskellet.txt\",\"r\") as f:\n",
    "    body = f.read()\n",
    "    print(body)\n"
   ]
  },
  {
   "cell_type": "code",
   "execution_count": 29,
   "metadata": {},
   "outputs": [
    {
     "output_type": "execute_result",
     "data": {
      "text/plain": "'Salgspriser - alle boliger - Lindeskellet, 2000\\n\\nAdresse                                         Type           Aktuel\\n                                                               m²\\nLindeskellet 18, st., 2000 Frederiksberg        Ejerlejlighed\\n                                                4.345.000      122\\nFri handel     20-10-2019                       400.000\\n                                                1.985.000      62\\nI øvrigt       21-12-2011                       725.000\\n                                                               130\\nFri handel     05-09-2002                       Ejerlejlighed\\n                                                2.199.000      62\\nFri handel     21-06-1993                       1.530.000\\n                                                483.000        122\\nLindeskellet 16, 2., 2000 Frederiksberg                        123\\n                                                Ejerlejlighed  124\\nFri handel     29-01-2018                       4.425.000      127\\n                                                3.100.000\\nFri handel     26-11-2010                       1.700.000      113\\n\\nFri handel     04-03-1993                       Ejerlejlighed\\n                                                2.200.000\\nLindeskellet 4, 2000 Frederiksberg              1.195.000\\n                                                1.190.000\\nFri handel     22-01-2018                       565.000\\n\\nFri handel     19-06-2013                       Ejerlejlighed\\n                                                2.850.000\\nFri handel     28-08-2001\\n                                                Ejerlejlighed\\nLindeskellet 10, 2., 2000 Frederiksberg         1.650.000\\n\\nFri handel     11-09-2017                       Ejerlejlighed\\n                                                3.200.000\\nFri handel     26-09-2011\\n                                                Ejerlejlighed\\nFri handel     18-06-2003                       3.150.000\\n                                                1.332.455\\nFri handel     30-09-1993                       800.000\\n\\nLindeskellet 12, st., 2000 Frederiksberg        Ejerlejlighed\\n                                                2.480.000\\nFri handel     11-04-2014                       1.191.071\\n\\nLindeskellet 8, 2000 Frederiksberg\\n\\nFri handel     01-11-2007\\n\\nLindeskellet 14, 2000 Frederiksberg\\n\\nFri handel     11-05-2007\\n\\nLindeskellet 2, st., 2000 Frederiksberg\\n\\nFri handel     11-02-2007\\n\\nFri handel     23-02-1998\\n\\nFamiliehandel  23-02-1998\\n\\nLindeskellet 12, 2., 2000 Frederiksberg\\n\\nFri handel     02-03-2005\\n\\nFri handel     18-06-1997\\n\\nBoligsiden er for alle, som vil købe eller sælge bolig. På Boligsiden finder du villaer, ejerlejligheder, grunde mv.\\n\\nsom udbydes til salg gennem en ejendomsmægler.\\n\\n21-07-2020                                                     Side 1 af 2\\n\\x0cLindeskellet 16, st., 2000 Frederiksberg        Ejerlejlighed  127\\n\\nFri handel  22-08-2003                          2.199.000\\n\\nFri handel  15-04-2001                          1.695.000\\n\\nFri handel  15-02-1996                          495.418\\n\\nFri handel  14-10-1994                          900.000\\n\\nLindeskellet 6, 2., 2000 Frederiksberg          Ejerlejlighed  113\\n\\nFri handel  14-07-2003                          1.950.000\\n\\nLindeskellet 20, 2000 Frederiksberg             Ejerlejlighed  124\\n\\nFri handel  04-01-2003                          2.150.000\\n\\nFri handel  06-01-1996                          985.000\\n\\nLindeskellet 18, 2., 2000 Frederiksberg         Ejerlejlighed  113\\n\\nFri handel  10-12-2000                          1.697.947\\n\\nFri handel  17-10-1995                          961.078\\n\\nFri handel  14-03-1992                          602.000\\n\\nLindeskellet 2, 2., 2000 Frederiksberg          Ejerlejlighed  113\\n\\nFri handel  11-04-2000                          1.595.000\\n\\nBoligsiden er for alle, som vil købe eller sælge bolig. På Boligsiden finder du villaer, ejerlejligheder, grunde mv.\\n\\nsom udbydes til salg gennem en ejendomsmægler.\\n\\n21-07-2020                                                     Side 2 af 2\\n\\x0c'"
     },
     "metadata": {},
     "execution_count": 29
    }
   ],
   "source": [
    "\n",
    "body"
   ]
  },
  {
   "cell_type": "code",
   "execution_count": 40,
   "metadata": {},
   "outputs": [
    {
     "output_type": "execute_result",
     "data": {
      "text/plain": "['18, st., 2000',\n '16, 2., 2000',\n '10, 2., 2000',\n '12, st., 2000',\n '2, st., 2000',\n '12, 2., 2000',\n '16, st., 2000',\n '6, 2., 2000',\n '18, 2., 2000',\n '2, 2., 2000']"
     },
     "metadata": {},
     "execution_count": 40
    }
   ],
   "source": [
    "re.findall('Lindeskellet \\d{1,3}, [0-9a-z.]*, 2000', body)"
   ]
  },
  {
   "cell_type": "code",
   "execution_count": 34,
   "metadata": {},
   "outputs": [],
   "source": [
    "addresses = re.findall('Lindeskellet \\d{1,2},', body)\n",
    "square_meters = re.findall(' \\d{2,3}\\n', body)\n",
    "dates = re.findall('\\d\\d-\\d\\d-\\d\\d\\d\\d', body)\n",
    "prices = re.findall('[\\d{1,3}.]*\\d{3}.\\d{3}', body)"
   ]
  },
  {
   "cell_type": "markdown",
   "metadata": {},
   "source": [
    "I need to be able to find the addresses first and then find the dates for those addesses. Otherwise I can't line up the address, salesdate. \n",
    "\n",
    "The salesdate and price have the exact same number of rows, so those already lign up. But one or mole salesdates and prices can be part of the same address."
   ]
  },
  {
   "cell_type": "code",
   "execution_count": 97,
   "metadata": {
    "tags": []
   },
   "outputs": [
    {
     "output_type": "execute_result",
     "data": {
      "text/plain": "301"
     },
     "metadata": {},
     "execution_count": 97
    }
   ],
   "source": [
    "streetnames = [\n",
    "    'Ahornskellet',\n",
    "    'Askeskellet',\n",
    "    'Birkeskellet',\n",
    "    'Bøgeskellet',\n",
    "    'Egeskellet',\n",
    "    'Lindeskellet',\n",
    "    'Lærkeskellet',\n",
    "    'Pileskellet',\n",
    "    'Plantanskellet',\n",
    "    'Poppelskellet',\n",
    "    'Tjørneskellet'\n",
    "]\n",
    "rows = []\n",
    "for street in streetnames:\n",
    "    with open(f\"{street}.txt\",\"r\") as f:\n",
    "        body = f.read()\n",
    "    addresses = re.findall(f'{street} ' + '\\d{1,3}, [0-9a-z., ]*2000', body)\n",
    "    address_chuncks = re.split(f'{street} '+ '\\d{1,2},', body)\n",
    "\n",
    "    prices = re.findall('[\\d{1,3}.]*\\d{3}.\\d{3}', body)\n",
    "    square_meters = re.findall(' \\d{2,3}\\n', body)\n",
    "    \n",
    "    \n",
    "    price_cnt = 0\n",
    "    for address, m2, text in zip(addresses, square_meters, address_chuncks[1:]):\n",
    "        m2 = int(m2.replace('\\n',''))\n",
    "        dates = re.findall('\\d\\d-\\d\\d-\\d\\d\\d\\d', text)\n",
    "        for date in dates:\n",
    "            try:\n",
    "                price = prices[price_cnt]\n",
    "                price = int(price.replace('.',''))\n",
    "                \n",
    "            except:\n",
    "                break\n",
    "\n",
    "            m2_price = round(price/m2)\n",
    "            rows.append([address, date, price, m2, m2_price])\n",
    "            price_cnt += 1\n",
    "\n",
    "df = pd.DataFrame(columns=[\n",
    "        'address',\n",
    "        'salesDate',\n",
    "        'price',\n",
    "        'm2',\n",
    "        'm2Price'\n",
    "    ],\n",
    "    data=rows)\n",
    "len(df)"
   ]
  },
  {
   "cell_type": "code",
   "execution_count": 98,
   "metadata": {},
   "outputs": [
    {
     "output_type": "execute_result",
     "data": {
      "text/plain": "                         address   salesDate    price   m2  m2Price\n0      Ahornskellet 14, 2., 2000  22-10-2019  2450000   62    39516\n1      Ahornskellet 14, 2., 2000  15-12-2011  1530000   62    24677\n2      Ahornskellet 14, 2., 2000  02-04-2008  1425000   62    22984\n3       Ahornskellet 6, 2., 2000  06-10-2019  3900000  111    35135\n4       Ahornskellet 6, 2., 2000  15-11-2005  3295000  111    29685\n5     Ahornskellet 16, st., 2000  22-04-2018  4225000  123    34350\n6     Ahornskellet 16, st., 2000  09-05-2014  3000000  123    24390\n7     Ahornskellet 16, st., 2000  02-11-2012  2900000  123    23577\n8     Ahornskellet 16, st., 2000  18-04-2007  3000000  123    24390\n9      Ahornskellet 6, st., 2000  24-10-2017  4100000  123    33333\n10     Ahornskellet 6, st., 2000  11-05-2008  2750000  123    22358\n11     Ahornskellet 6, st., 2000  14-09-1999  1494000  123    12146\n12     Ahornskellet 6, st., 2000  01-11-1995   978160  123     7953\n13     Ahornskellet 24, 2., 2000  01-08-2017  3800000  113    33628\n14     Ahornskellet 24, 2., 2000  04-02-2014  2900000  113    25664\n15     Ahornskellet 24, 2., 2000  01-10-2003  1900000  113    16814\n16    Ahornskellet 20, st., 2000  21-03-2017  4010000  122    32869\n17    Ahornskellet 20, st., 2000  24-08-2015  1909000  122    15648\n18    Ahornskellet 20, st., 2000  22-01-2006  1615000  122    13238\n19    Ahornskellet 20, st., 2000  23-12-2005  1615000  122    13238\n20         Ahornskellet 12, 2000  27-01-2017  3750000  134    27985\n21         Ahornskellet 12, 2000  07-05-2004  2365000  134    17649\n22         Ahornskellet 12, 2000  25-08-1999  1275000  134     9515\n23         Ahornskellet 18, 2000  12-09-2016  3200000  120    26667\n24         Ahornskellet 18, 2000  21-07-2020  3500000  120    29167\n25         Ahornskellet 30, 2000  16-06-2015  2900000  120    24167\n26         Ahornskellet 30, 2000  11-10-2007  1661300  120    13844\n27         Ahornskellet 30, 2000  11-02-2000  3095000  120    25792\n28     Ahornskellet 10, 2., 2000  21-08-2014  2515000  113    22257\n29     Ahornskellet 10, 2., 2000  16-02-2011  1997500  113    17677\n..                           ...         ...      ...  ...      ...\n271  Tjørneskellet 12, st., 2000  20-05-1995   855520  127     6736\n272  Tjørneskellet 20, st., 2000  03-06-2010  2695000  127    21220\n273  Tjørneskellet 20, st., 2000  23-06-2009  1184500  127     9327\n274  Tjørneskellet 20, st., 2000  31-10-2007  3000000  127    23622\n275  Tjørneskellet 20, st., 2000  21-07-2020  2295000  127    18071\n276  Tjørneskellet 20, st., 2000  13-01-2005   832218  127     6553\n277  Tjørneskellet 20, st., 2000  24-04-2001  1471174  127    11584\n278  Tjørneskellet 20, st., 2000  03-08-2000  1269145  127     9993\n279  Tjørneskellet 20, st., 2000  15-05-1997  1042569  127     8209\n280  Tjørneskellet 20, st., 2000  10-05-1995  2750000  127    21654\n281       Tjørneskellet 18, 2000  10-07-2008  1788000  123    14537\n282       Tjørneskellet 18, 2000  14-02-2001  1062482  123     8638\n283       Tjørneskellet 18, 2000  16-06-1994  3095000  123    25163\n284  Tjørneskellet 22, st., 2000  20-10-2005   825000  122     6762\n285  Tjørneskellet 22, st., 2000  14-09-2001  1569604  122    12866\n286  Tjørneskellet 22, st., 2000  22-05-2000  1210000  122     9918\n287  Tjørneskellet 22, st., 2000  16-03-1997   633333  122     5191\n288   Tjørneskellet 4, st., 2000  23-08-2004  1131000  123     9195\n289   Tjørneskellet 4, st., 2000  27-06-1997   905000  123     7358\n290   Tjørneskellet 4, st., 2000  29-03-1995  1035000  123     8415\n291   Tjørneskellet 20, 2., 2000  07-11-2002   858420   62    13845\n292   Tjørneskellet 20, 2., 2000  26-06-2000   462280   62     7456\n293   Tjørneskellet 20, 2., 2000  20-04-1993  1400000   62    22581\n294    Tjørneskellet 4, 2., 2000  01-08-1999   700000  111     6306\n295    Tjørneskellet 4, 2., 2000  01-08-1999   950000  111     8559\n296    Tjørneskellet 4, 2., 2000  09-01-1996  1272462  111    11464\n297   Tjørneskellet 16, 2., 2000  16-02-1998  1170000  113    10354\n298   Tjørneskellet 16, 2., 2000  24-05-1996   894062  113     7912\n299   Tjørneskellet 8, st., 2000  08-05-1994   537851  122     4409\n300   Tjørneskellet 8, st., 2000  01-07-1992   875000  122     7172\n\n[301 rows x 5 columns]",
      "text/html": "<div>\n<style scoped>\n    .dataframe tbody tr th:only-of-type {\n        vertical-align: middle;\n    }\n\n    .dataframe tbody tr th {\n        vertical-align: top;\n    }\n\n    .dataframe thead th {\n        text-align: right;\n    }\n</style>\n<table border=\"1\" class=\"dataframe\">\n  <thead>\n    <tr style=\"text-align: right;\">\n      <th></th>\n      <th>address</th>\n      <th>salesDate</th>\n      <th>price</th>\n      <th>m2</th>\n      <th>m2Price</th>\n    </tr>\n  </thead>\n  <tbody>\n    <tr>\n      <th>0</th>\n      <td>Ahornskellet 14, 2., 2000</td>\n      <td>22-10-2019</td>\n      <td>2450000</td>\n      <td>62</td>\n      <td>39516</td>\n    </tr>\n    <tr>\n      <th>1</th>\n      <td>Ahornskellet 14, 2., 2000</td>\n      <td>15-12-2011</td>\n      <td>1530000</td>\n      <td>62</td>\n      <td>24677</td>\n    </tr>\n    <tr>\n      <th>2</th>\n      <td>Ahornskellet 14, 2., 2000</td>\n      <td>02-04-2008</td>\n      <td>1425000</td>\n      <td>62</td>\n      <td>22984</td>\n    </tr>\n    <tr>\n      <th>3</th>\n      <td>Ahornskellet 6, 2., 2000</td>\n      <td>06-10-2019</td>\n      <td>3900000</td>\n      <td>111</td>\n      <td>35135</td>\n    </tr>\n    <tr>\n      <th>4</th>\n      <td>Ahornskellet 6, 2., 2000</td>\n      <td>15-11-2005</td>\n      <td>3295000</td>\n      <td>111</td>\n      <td>29685</td>\n    </tr>\n    <tr>\n      <th>5</th>\n      <td>Ahornskellet 16, st., 2000</td>\n      <td>22-04-2018</td>\n      <td>4225000</td>\n      <td>123</td>\n      <td>34350</td>\n    </tr>\n    <tr>\n      <th>6</th>\n      <td>Ahornskellet 16, st., 2000</td>\n      <td>09-05-2014</td>\n      <td>3000000</td>\n      <td>123</td>\n      <td>24390</td>\n    </tr>\n    <tr>\n      <th>7</th>\n      <td>Ahornskellet 16, st., 2000</td>\n      <td>02-11-2012</td>\n      <td>2900000</td>\n      <td>123</td>\n      <td>23577</td>\n    </tr>\n    <tr>\n      <th>8</th>\n      <td>Ahornskellet 16, st., 2000</td>\n      <td>18-04-2007</td>\n      <td>3000000</td>\n      <td>123</td>\n      <td>24390</td>\n    </tr>\n    <tr>\n      <th>9</th>\n      <td>Ahornskellet 6, st., 2000</td>\n      <td>24-10-2017</td>\n      <td>4100000</td>\n      <td>123</td>\n      <td>33333</td>\n    </tr>\n    <tr>\n      <th>10</th>\n      <td>Ahornskellet 6, st., 2000</td>\n      <td>11-05-2008</td>\n      <td>2750000</td>\n      <td>123</td>\n      <td>22358</td>\n    </tr>\n    <tr>\n      <th>11</th>\n      <td>Ahornskellet 6, st., 2000</td>\n      <td>14-09-1999</td>\n      <td>1494000</td>\n      <td>123</td>\n      <td>12146</td>\n    </tr>\n    <tr>\n      <th>12</th>\n      <td>Ahornskellet 6, st., 2000</td>\n      <td>01-11-1995</td>\n      <td>978160</td>\n      <td>123</td>\n      <td>7953</td>\n    </tr>\n    <tr>\n      <th>13</th>\n      <td>Ahornskellet 24, 2., 2000</td>\n      <td>01-08-2017</td>\n      <td>3800000</td>\n      <td>113</td>\n      <td>33628</td>\n    </tr>\n    <tr>\n      <th>14</th>\n      <td>Ahornskellet 24, 2., 2000</td>\n      <td>04-02-2014</td>\n      <td>2900000</td>\n      <td>113</td>\n      <td>25664</td>\n    </tr>\n    <tr>\n      <th>15</th>\n      <td>Ahornskellet 24, 2., 2000</td>\n      <td>01-10-2003</td>\n      <td>1900000</td>\n      <td>113</td>\n      <td>16814</td>\n    </tr>\n    <tr>\n      <th>16</th>\n      <td>Ahornskellet 20, st., 2000</td>\n      <td>21-03-2017</td>\n      <td>4010000</td>\n      <td>122</td>\n      <td>32869</td>\n    </tr>\n    <tr>\n      <th>17</th>\n      <td>Ahornskellet 20, st., 2000</td>\n      <td>24-08-2015</td>\n      <td>1909000</td>\n      <td>122</td>\n      <td>15648</td>\n    </tr>\n    <tr>\n      <th>18</th>\n      <td>Ahornskellet 20, st., 2000</td>\n      <td>22-01-2006</td>\n      <td>1615000</td>\n      <td>122</td>\n      <td>13238</td>\n    </tr>\n    <tr>\n      <th>19</th>\n      <td>Ahornskellet 20, st., 2000</td>\n      <td>23-12-2005</td>\n      <td>1615000</td>\n      <td>122</td>\n      <td>13238</td>\n    </tr>\n    <tr>\n      <th>20</th>\n      <td>Ahornskellet 12, 2000</td>\n      <td>27-01-2017</td>\n      <td>3750000</td>\n      <td>134</td>\n      <td>27985</td>\n    </tr>\n    <tr>\n      <th>21</th>\n      <td>Ahornskellet 12, 2000</td>\n      <td>07-05-2004</td>\n      <td>2365000</td>\n      <td>134</td>\n      <td>17649</td>\n    </tr>\n    <tr>\n      <th>22</th>\n      <td>Ahornskellet 12, 2000</td>\n      <td>25-08-1999</td>\n      <td>1275000</td>\n      <td>134</td>\n      <td>9515</td>\n    </tr>\n    <tr>\n      <th>23</th>\n      <td>Ahornskellet 18, 2000</td>\n      <td>12-09-2016</td>\n      <td>3200000</td>\n      <td>120</td>\n      <td>26667</td>\n    </tr>\n    <tr>\n      <th>24</th>\n      <td>Ahornskellet 18, 2000</td>\n      <td>21-07-2020</td>\n      <td>3500000</td>\n      <td>120</td>\n      <td>29167</td>\n    </tr>\n    <tr>\n      <th>25</th>\n      <td>Ahornskellet 30, 2000</td>\n      <td>16-06-2015</td>\n      <td>2900000</td>\n      <td>120</td>\n      <td>24167</td>\n    </tr>\n    <tr>\n      <th>26</th>\n      <td>Ahornskellet 30, 2000</td>\n      <td>11-10-2007</td>\n      <td>1661300</td>\n      <td>120</td>\n      <td>13844</td>\n    </tr>\n    <tr>\n      <th>27</th>\n      <td>Ahornskellet 30, 2000</td>\n      <td>11-02-2000</td>\n      <td>3095000</td>\n      <td>120</td>\n      <td>25792</td>\n    </tr>\n    <tr>\n      <th>28</th>\n      <td>Ahornskellet 10, 2., 2000</td>\n      <td>21-08-2014</td>\n      <td>2515000</td>\n      <td>113</td>\n      <td>22257</td>\n    </tr>\n    <tr>\n      <th>29</th>\n      <td>Ahornskellet 10, 2., 2000</td>\n      <td>16-02-2011</td>\n      <td>1997500</td>\n      <td>113</td>\n      <td>17677</td>\n    </tr>\n    <tr>\n      <th>...</th>\n      <td>...</td>\n      <td>...</td>\n      <td>...</td>\n      <td>...</td>\n      <td>...</td>\n    </tr>\n    <tr>\n      <th>271</th>\n      <td>Tjørneskellet 12, st., 2000</td>\n      <td>20-05-1995</td>\n      <td>855520</td>\n      <td>127</td>\n      <td>6736</td>\n    </tr>\n    <tr>\n      <th>272</th>\n      <td>Tjørneskellet 20, st., 2000</td>\n      <td>03-06-2010</td>\n      <td>2695000</td>\n      <td>127</td>\n      <td>21220</td>\n    </tr>\n    <tr>\n      <th>273</th>\n      <td>Tjørneskellet 20, st., 2000</td>\n      <td>23-06-2009</td>\n      <td>1184500</td>\n      <td>127</td>\n      <td>9327</td>\n    </tr>\n    <tr>\n      <th>274</th>\n      <td>Tjørneskellet 20, st., 2000</td>\n      <td>31-10-2007</td>\n      <td>3000000</td>\n      <td>127</td>\n      <td>23622</td>\n    </tr>\n    <tr>\n      <th>275</th>\n      <td>Tjørneskellet 20, st., 2000</td>\n      <td>21-07-2020</td>\n      <td>2295000</td>\n      <td>127</td>\n      <td>18071</td>\n    </tr>\n    <tr>\n      <th>276</th>\n      <td>Tjørneskellet 20, st., 2000</td>\n      <td>13-01-2005</td>\n      <td>832218</td>\n      <td>127</td>\n      <td>6553</td>\n    </tr>\n    <tr>\n      <th>277</th>\n      <td>Tjørneskellet 20, st., 2000</td>\n      <td>24-04-2001</td>\n      <td>1471174</td>\n      <td>127</td>\n      <td>11584</td>\n    </tr>\n    <tr>\n      <th>278</th>\n      <td>Tjørneskellet 20, st., 2000</td>\n      <td>03-08-2000</td>\n      <td>1269145</td>\n      <td>127</td>\n      <td>9993</td>\n    </tr>\n    <tr>\n      <th>279</th>\n      <td>Tjørneskellet 20, st., 2000</td>\n      <td>15-05-1997</td>\n      <td>1042569</td>\n      <td>127</td>\n      <td>8209</td>\n    </tr>\n    <tr>\n      <th>280</th>\n      <td>Tjørneskellet 20, st., 2000</td>\n      <td>10-05-1995</td>\n      <td>2750000</td>\n      <td>127</td>\n      <td>21654</td>\n    </tr>\n    <tr>\n      <th>281</th>\n      <td>Tjørneskellet 18, 2000</td>\n      <td>10-07-2008</td>\n      <td>1788000</td>\n      <td>123</td>\n      <td>14537</td>\n    </tr>\n    <tr>\n      <th>282</th>\n      <td>Tjørneskellet 18, 2000</td>\n      <td>14-02-2001</td>\n      <td>1062482</td>\n      <td>123</td>\n      <td>8638</td>\n    </tr>\n    <tr>\n      <th>283</th>\n      <td>Tjørneskellet 18, 2000</td>\n      <td>16-06-1994</td>\n      <td>3095000</td>\n      <td>123</td>\n      <td>25163</td>\n    </tr>\n    <tr>\n      <th>284</th>\n      <td>Tjørneskellet 22, st., 2000</td>\n      <td>20-10-2005</td>\n      <td>825000</td>\n      <td>122</td>\n      <td>6762</td>\n    </tr>\n    <tr>\n      <th>285</th>\n      <td>Tjørneskellet 22, st., 2000</td>\n      <td>14-09-2001</td>\n      <td>1569604</td>\n      <td>122</td>\n      <td>12866</td>\n    </tr>\n    <tr>\n      <th>286</th>\n      <td>Tjørneskellet 22, st., 2000</td>\n      <td>22-05-2000</td>\n      <td>1210000</td>\n      <td>122</td>\n      <td>9918</td>\n    </tr>\n    <tr>\n      <th>287</th>\n      <td>Tjørneskellet 22, st., 2000</td>\n      <td>16-03-1997</td>\n      <td>633333</td>\n      <td>122</td>\n      <td>5191</td>\n    </tr>\n    <tr>\n      <th>288</th>\n      <td>Tjørneskellet 4, st., 2000</td>\n      <td>23-08-2004</td>\n      <td>1131000</td>\n      <td>123</td>\n      <td>9195</td>\n    </tr>\n    <tr>\n      <th>289</th>\n      <td>Tjørneskellet 4, st., 2000</td>\n      <td>27-06-1997</td>\n      <td>905000</td>\n      <td>123</td>\n      <td>7358</td>\n    </tr>\n    <tr>\n      <th>290</th>\n      <td>Tjørneskellet 4, st., 2000</td>\n      <td>29-03-1995</td>\n      <td>1035000</td>\n      <td>123</td>\n      <td>8415</td>\n    </tr>\n    <tr>\n      <th>291</th>\n      <td>Tjørneskellet 20, 2., 2000</td>\n      <td>07-11-2002</td>\n      <td>858420</td>\n      <td>62</td>\n      <td>13845</td>\n    </tr>\n    <tr>\n      <th>292</th>\n      <td>Tjørneskellet 20, 2., 2000</td>\n      <td>26-06-2000</td>\n      <td>462280</td>\n      <td>62</td>\n      <td>7456</td>\n    </tr>\n    <tr>\n      <th>293</th>\n      <td>Tjørneskellet 20, 2., 2000</td>\n      <td>20-04-1993</td>\n      <td>1400000</td>\n      <td>62</td>\n      <td>22581</td>\n    </tr>\n    <tr>\n      <th>294</th>\n      <td>Tjørneskellet 4, 2., 2000</td>\n      <td>01-08-1999</td>\n      <td>700000</td>\n      <td>111</td>\n      <td>6306</td>\n    </tr>\n    <tr>\n      <th>295</th>\n      <td>Tjørneskellet 4, 2., 2000</td>\n      <td>01-08-1999</td>\n      <td>950000</td>\n      <td>111</td>\n      <td>8559</td>\n    </tr>\n    <tr>\n      <th>296</th>\n      <td>Tjørneskellet 4, 2., 2000</td>\n      <td>09-01-1996</td>\n      <td>1272462</td>\n      <td>111</td>\n      <td>11464</td>\n    </tr>\n    <tr>\n      <th>297</th>\n      <td>Tjørneskellet 16, 2., 2000</td>\n      <td>16-02-1998</td>\n      <td>1170000</td>\n      <td>113</td>\n      <td>10354</td>\n    </tr>\n    <tr>\n      <th>298</th>\n      <td>Tjørneskellet 16, 2., 2000</td>\n      <td>24-05-1996</td>\n      <td>894062</td>\n      <td>113</td>\n      <td>7912</td>\n    </tr>\n    <tr>\n      <th>299</th>\n      <td>Tjørneskellet 8, st., 2000</td>\n      <td>08-05-1994</td>\n      <td>537851</td>\n      <td>122</td>\n      <td>4409</td>\n    </tr>\n    <tr>\n      <th>300</th>\n      <td>Tjørneskellet 8, st., 2000</td>\n      <td>01-07-1992</td>\n      <td>875000</td>\n      <td>122</td>\n      <td>7172</td>\n    </tr>\n  </tbody>\n</table>\n<p>301 rows × 5 columns</p>\n</div>"
     },
     "metadata": {},
     "execution_count": 98
    }
   ],
   "source": [
    "df"
   ]
  }
 ]
}