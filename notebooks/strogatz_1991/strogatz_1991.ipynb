{
 "cells": [
  {
   "cell_type": "code",
   "execution_count": 1,
   "metadata": {},
   "outputs": [],
   "source": [
    "import sys\n",
    "import numpy as np\n",
    "import matplotlib.pyplot as plt\n",
    "from matplotlib.animation import FuncAnimation\n",
    "from matplotlib import rc\n",
    "from IPython.display import Image\n",
    "from scipy.interpolate import interp1d\n",
    "import json"
   ]
  },
  {
   "cell_type": "markdown",
   "metadata": {
    "toc": true
   },
   "source": [
    "<h1>Table of Contents<span class=\"tocSkip\"></span></h1>\n",
    "<div class=\"toc\"><ul class=\"toc-item\"><li><span><a href=\"#Introduction\" data-toc-modified-id=\"Introduction-1\"><span class=\"toc-item-num\">1&nbsp;&nbsp;</span>Introduction</a></span></li><li><span><a href=\"#Solving-the-system-of-differential-equations\" data-toc-modified-id=\"Solving-the-system-of-differential-equations-2\"><span class=\"toc-item-num\">2&nbsp;&nbsp;</span>Solving the system of differential equations</a></span></li><li><span><a href=\"#Looking-at-the-evolution-of-the-phase\" data-toc-modified-id=\"Looking-at-the-evolution-of-the-phase-3\"><span class=\"toc-item-num\">3&nbsp;&nbsp;</span>Looking at the evolution of the phase</a></span><ul class=\"toc-item\"><li><span><a href=\"#Showing-the-phases-moving-around-the-circle\" data-toc-modified-id=\"Showing-the-phases-moving-around-the-circle-3.1\"><span class=\"toc-item-num\">3.1&nbsp;&nbsp;</span>Showing the phases moving around the circle</a></span></li></ul></li><li><span><a href=\"#How-does-the-final-coherence-depend-on-the-coupling-strength-K?\" data-toc-modified-id=\"How-does-the-final-coherence-depend-on-the-coupling-strength-K?-4\"><span class=\"toc-item-num\">4&nbsp;&nbsp;</span>How does the final coherence depend on the coupling strength K?</a></span><ul class=\"toc-item\"><li><span><a href=\"#Finding-the-value-of-K-that-leads-to-the-highest-synchronization\" data-toc-modified-id=\"Finding-the-value-of-K-that-leads-to-the-highest-synchronization-4.1\"><span class=\"toc-item-num\">4.1&nbsp;&nbsp;</span>Finding the value of K that leads to the highest synchronization</a></span></li></ul></li></ul></div>"
   ]
  },
  {
   "cell_type": "markdown",
   "metadata": {},
   "source": [
    "# Introduction"
   ]
  },
  {
   "cell_type": "markdown",
   "metadata": {},
   "source": [
    "After having read Steven H. Strogatz' book _Sync: The Emerging Science of Spontaneous Order_ my interest in spontaneous synchronization was spiked. One reason for this is the fact that I am currently analyzing electrocardiograms at work, and one of the examples in the book of the syncrhonization (or lack thereof) is the heart and the dangerouse arytmia that can come out of nowhere.\n",
    "\n",
    "The aim of this notebook is to reproduce the results reported by Steven H. Strogatz and Renato E. Mirollo in 1991. It contains a simulation of the Kuramoto model, which should exhibbit some of the same charactertistics as the pacemaker cells in the heat."
   ]
  },
  {
   "cell_type": "markdown",
   "metadata": {},
   "source": [
    "# Solving the system of differential equations\n",
    "\n",
    "The system of differential equations to be solved is:\n",
    "\n",
    "$\n",
    " \\dot\\theta_i = \\omega_i + \\frac{K}{N} \\sum\\limits_{j=1}^{N} \\sin \\left( \\theta_j - \\theta_i \\right)\n",
    "$\n",
    "\n",
    "Here $\\theta_i$ is the phase of the _ith_ oscillator, $\\omega_i$ is its natural frequency, and $K\\geq0$ is the coupling strength.\n",
    "\n",
    "The statement i want to reproduce is the following:\n",
    "\n",
    "> The system (1.1) was studied for the case of N=480 oscillators, with\n",
    "coupling strength $K=1$. The frequencies were uniformly distributed on $[-\\gamma, \\gamma]$, where $\\gamma=0.2$. There was no noise, i.e., $D=0$. The goal was to simulate the evolution of the system starting near the incoherent solution. For these parameters, equation (3.15b) predicts that the coherence $r(t)$ should initially grow exponentially at a rate $\\alpha \\approx 0.47304$.\n",
    "\n",
    "How exactely is the coherence ($r(t)$) defined?\n",
    "\n",
    "Along the way I will make some additional figures and simulations to make sense of the results.\n",
    "\n",
    "Below I define the functions that set up the initial conditions and calculates the time derivative of the phase for each oscillator, as described above."
   ]
  },
  {
   "cell_type": "code",
   "execution_count": 2,
   "metadata": {},
   "outputs": [],
   "source": [
    "def set_up_initial_conditions(N=800):\n",
    "    omega = np.random.uniform(-0.2, 0.2, N)\n",
    "    theta = np.random.uniform(0, 2, N)*np.pi\n",
    "    return omega, theta\n",
    "\n",
    "\n",
    "def calc_theta_dot(omega, theta, N, K):\n",
    "    theta_dot = np.zeros((N,))\n",
    "    for i in range(N):\n",
    "        theta_dot[i] = omega[i] + (K/N)*np.sum(np.sin(theta-theta[i]))\n",
    "    return theta_dot"
   ]
  },
  {
   "cell_type": "markdown",
   "metadata": {},
   "source": [
    "Lets have a look at an example of initial conditions created in this manner:"
   ]
  },
  {
   "cell_type": "code",
   "execution_count": 3,
   "metadata": {},
   "outputs": [
    {
     "data": {
      "image/png": "[encoded data removed]",
      "text/plain": [
       "<Figure size 432x288 with 2 Axes>"
      ]
     },
     "metadata": {},
     "output_type": "display_data"
    }
   ],
   "source": [
    "omega, theta = set_up_initial_conditions()\n",
    "\n",
    "fig, ax = plt.subplots(ncols=2)\n",
    "ax[0].hist(omega)\n",
    "ax[1].hist(theta)\n",
    "\n",
    "ax[0].set_title('Average: {0:.3f}'.format(np.average(omega)))\n",
    "ax[1].set_title('Average: {0:.3f}'.format(np.average(theta)))\n",
    "\n",
    "ax[0].set_xlabel(r\"$\\omega$\")\n",
    "ax[1].set_xlabel(r\"$\\theta$\");"
   ]
  },
  {
   "cell_type": "markdown",
   "metadata": {},
   "source": [
    "Below I define two house-keeping function that simply add labels to figures that will be needed several times."
   ]
  },
  {
   "cell_type": "code",
   "execution_count": 4,
   "metadata": {},
   "outputs": [],
   "source": [
    "def add_labels(ax, K):\n",
    "    ax.set_ylabel(r\"$\\theta$\")\n",
    "    ax.set_xlabel(\"Time steps\")\n",
    "\n",
    "    yticks = [0, 0.5*np.pi, np.pi, 1.5*np.pi, 2*np.pi]\n",
    "    yticks_labels = [r\"0\", r\"$\\frac{\\pi}{2}$\",\n",
    "                     r\"$\\pi$\", r\"$\\frac{3\\pi}{2}$\", r\"$2\\pi$\"]\n",
    "\n",
    "    ax.set_yticks(yticks)\n",
    "    ax.set_yticklabels(yticks_labels)\n",
    "\n",
    "    ax.set_title(\"K={0}\".format(K))\n",
    "\n",
    "\n",
    "def add_relaxation_labels(ax):\n",
    "    ax.set_ylabel(r\"$Var(\\theta)$\")\n",
    "    ax.set_xlabel(r\"Time steps\")\n",
    "    #ax.set_ylim([0, 1])"
   ]
  },
  {
   "cell_type": "markdown",
   "metadata": {},
   "source": [
    "With that out of the way, lets look at how the simulation is run."
   ]
  },
  {
   "cell_type": "code",
   "execution_count": 5,
   "metadata": {},
   "outputs": [],
   "source": [
    "def run_simulation(omega, theta, N=480, K=1, STEPS=25):\n",
    "    thetas = np.zeros((N, STEPS))\n",
    "    for i in range(STEPS):\n",
    "        theta_dot = calc_theta_dot(omega, theta, N=N, K=K)\n",
    "        theta = np.mod(theta_dot + theta, 2*np.pi)\n",
    "        thetas[:, i] = theta\n",
    "    return thetas"
   ]
  },
  {
   "cell_type": "markdown",
   "metadata": {},
   "source": [
    "The function takes the initial values as inputs as well as parameteres for the simulation: The number of oscillators, their coupling strength and the number of iteration steps the simulation run over. Below I run the simulation."
   ]
  },
  {
   "cell_type": "code",
   "execution_count": 6,
   "metadata": {},
   "outputs": [],
   "source": [
    "STEPS = 100\n",
    "K = 1\n",
    "N = 480\n",
    "omega, theta = set_up_initial_conditions(N=N)\n",
    "thetas = run_simulation(omega, theta, N=N, K=K, STEPS=STEPS)"
   ]
  },
  {
   "cell_type": "markdown",
   "metadata": {},
   "source": [
    "# Looking at the evolution of the phase"
   ]
  },
  {
   "cell_type": "markdown",
   "metadata": {},
   "source": [
    "Now a simulation has been run, let's have a look at the results. Since we looking fir synchronization it makes sense to look at how the phase of each oscillator evolves over time. "
   ]
  },
  {
   "cell_type": "markdown",
   "metadata": {},
   "source": [
    "## Showing the phases moving around the circle\n",
    "In the book Stogatz asks the reader to think of each spring as a runner on a track. The runners influence each others speed. If Synch arises, this would mean that the runners end up running around the track bundled up in a group. Lets visualize the simulation like this -- the phase of each oscillator will be converted to (x,y) points on a circle.\n",
    "\n",
    "I have made the points transparrent so it the clumping up becomes more aparrent. "
   ]
  },
  {
   "cell_type": "code",
   "execution_count": 7,
   "metadata": {},
   "outputs": [],
   "source": [
    "%%capture\n",
    "# This line is here to supress the output of a empty fiure\n",
    "rc('animation', html='html5')\n",
    "fig, ax = plt.subplots(figsize=(4, 4))\n",
    "ax.set_xlabel('x')\n",
    "ax.set_ylabel('y')\n",
    "ax.set_xlim((-1.1, 1.1))\n",
    "ax.set_ylim((-1.1, 1.1))\n",
    "ax.set_axis_off()\n",
    "\n",
    "dots, = ax.plot([], [], 'ob', alpha=0.2)\n",
    "\n",
    "\n",
    "def init():\n",
    "    dots.set_data([], [])\n",
    "    return (dots,)\n",
    "\n",
    "\n",
    "def animate(i):\n",
    "    x, y = np.cos(thetas[:, i]), np.sin(thetas[:, i])\n",
    "    dots.set_data(x, y)\n",
    "    ax.set_title('Step: {0}'.format(i))\n",
    "    return (dots,)\n",
    "\n",
    "\n",
    "anim = FuncAnimation(fig, animate, init_func=init,\n",
    "                     frames=thetas.shape[1], interval=200)"
   ]
  },
  {
   "cell_type": "markdown",
   "metadata": {},
   "source": [
    "To show the animation in the notebook on GitHub, I need to save it as a .gif file and include it. This is done below."
   ]
  },
  {
   "cell_type": "code",
   "execution_count": 8,
   "metadata": {},
   "outputs": [
    {
     "name": "stdout",
     "output_type": "stream",
     "text": [
      "Updating Homebrew...\n",
      "\u001b[34m==>\u001b[0m \u001b[1mAuto-updated Homebrew!\u001b[0m\n",
      "Updated 2 taps (homebrew/cask, homebrew/core).\n",
      "\u001b[34m==>\u001b[0m \u001b[1mNew Formulae\u001b[0m\n",
      "vfuse\n",
      "\u001b[34m==>\u001b[0m \u001b[1mUpdated Formulae\u001b[0m\n",
      "\u001b[1mzsh \u001b[32m✔\u001b[0m\u001b[0m               double-conversion   libvirt             qd\n",
      "apr                 eslint              links               rebar3\n",
      "clojure             flow                lz4                 sbt\n",
      "cmark-gfm           fortio              metabase            shellharden\n",
      "codequery           heroku              packer              vagrant-completion\n",
      "conan               jenkins-lts         php@5.6             zpython\n",
      "consul              krakend             pygobject3\n",
      "\n",
      "\u001b[31mError:\u001b[0m imagemagick 7.0.8-5 is already installed\n",
      "To upgrade to 7.0.8-11_1, run `brew upgrade imagemagick`\n"
     ]
    }
   ],
   "source": [
    "!brew install imagemagick"
   ]
  },
  {
   "cell_type": "code",
   "execution_count": 9,
   "metadata": {},
   "outputs": [],
   "source": [
    "anim.save('animation.gif', writer='imagemagick', fps=3)"
   ]
  },
  {
   "cell_type": "code",
   "execution_count": 10,
   "metadata": {},
   "outputs": [
    {
     "data": {
      "text/html": [
       "<img src=\"animation.gif\"/>"
      ],
      "text/plain": [
       "<IPython.core.display.Image object>"
      ]
     },
     "execution_count": 10,
     "metadata": {},
     "output_type": "execute_result"
    }
   ],
   "source": [
    "Image(url='animation.gif')"
   ]
  },
  {
   "cell_type": "markdown",
   "metadata": {},
   "source": [
    "While this animation above is interesting, it would be nice to quantize the results some more. Below I show the phase of each oscillator for each time step together with the average phase of all the oscillators. This figures illustrates how the oscillators fall into synchronization. \n",
    "\n",
    "To get an idea about how _fast_ the system gets synchronized I have also plotted the variance of the phases as a function of simulation time step. It clearly shows an initial exponential drop in the variance as it levels off at some value.\n",
    "\n",
    "The plateau value shows the level of synchronization reached by the system and the initial exponential decay shows the at with the synchronization is reached."
   ]
  },
  {
   "cell_type": "markdown",
   "metadata": {},
   "source": [
    "Saving the data so I can use it for animations in d3"
   ]
  },
  {
   "cell_type": "code",
   "execution_count": 11,
   "metadata": {},
   "outputs": [],
   "source": [
    "np.savetxt('animation_data_theta.csv',\n",
    "           np.transpose(thetas),\n",
    "           delimiter=',',\n",
    "           fmt='%10.10f',\n",
    "           header=\",\".join([\"osc\"+str(i) for i in range(N)]))"
   ]
  },
  {
   "cell_type": "markdown",
   "metadata": {},
   "source": [
    "I need to structure the data as JSON."
   ]
  },
  {
   "cell_type": "code",
   "execution_count": 12,
   "metadata": {},
   "outputs": [
    {
     "data": {
      "text/plain": [
       "(480, 100)"
      ]
     },
     "execution_count": 12,
     "metadata": {},
     "output_type": "execute_result"
    }
   ],
   "source": [
    "thetas.shape"
   ]
  },
  {
   "cell_type": "code",
   "execution_count": 16,
   "metadata": {},
   "outputs": [],
   "source": [
    "json_data = {\n",
    "    \"steps\": [\n",
    "        {\"thetas\": [{\"theta\": theta, \"newAngle\": theta} for theta in thetas[:,i]]}\n",
    "    for i in range(thetas.shape[1]) ] \n",
    "}\n",
    "\n",
    "with open('../../data/animation_data_theta.json', 'w') as fp:\n",
    "    json.dump(json_data, fp)"
   ]
  },
  {
   "cell_type": "code",
   "execution_count": 18,
   "metadata": {},
   "outputs": [
    {
     "data": {
      "text/plain": [
       "(100, 480)"
      ]
     },
     "execution_count": 18,
     "metadata": {},
     "output_type": "execute_result"
    }
   ],
   "source": [
    "A = thetas.reshape((STEPS, N))\n",
    "A.shape"
   ]
  },
  {
   "cell_type": "markdown",
   "metadata": {},
   "source": [
    "Continuing the analysis"
   ]
  },
  {
   "cell_type": "code",
   "execution_count": 19,
   "metadata": {},
   "outputs": [],
   "source": [
    "def get_halfway_point(x, y):\n",
    "    f2 = interp1d(x, y, kind='linear')\n",
    "    return f2(0.5)"
   ]
  },
  {
   "cell_type": "code",
   "execution_count": 20,
   "metadata": {},
   "outputs": [
    {
     "data": {
      "image/png": "[encoded data removed]",
      "text/plain": [
       "<Figure size 576x216 with 1 Axes>"
      ]
     },
     "metadata": {},
     "output_type": "display_data"
    }
   ],
   "source": [
    "fig, ax = plt.subplots(figsize=(8, 3))\n",
    "for i in range(thetas.shape[0]):\n",
    "    ax.plot(range(STEPS), thetas[i, :], '-ok', alpha=0.1, markersize=2)\n",
    "\n",
    "avg = np.average(thetas, axis=0)\n",
    "ax.plot(range(STEPS), avg, '-r')\n",
    "add_labels(ax, K)"
   ]
  },
  {
   "cell_type": "code",
   "execution_count": 21,
   "metadata": {},
   "outputs": [
    {
     "data": {
      "text/plain": [
       "(480, 100)"
      ]
     },
     "execution_count": 21,
     "metadata": {},
     "output_type": "execute_result"
    }
   ],
   "source": [
    "thetas.shape"
   ]
  },
  {
   "cell_type": "code",
   "execution_count": 25,
   "metadata": {},
   "outputs": [],
   "source": [
    "json_data = {\n",
    "    \"oscillators\": [\n",
    "        {\"osc\": [{\"step\": step, \"theta\": theta} for step, theta in enumerate(thetas[osc_id, :])]}\n",
    "    for osc_id in range(thetas.shape[0]) \n",
    "    ] \n",
    "}\n",
    "\n",
    "with open('../../data/angle-vs-time.json', 'w') as fp:\n",
    "    json.dump(json_data, fp)"
   ]
  },
  {
   "cell_type": "code",
   "execution_count": 26,
   "metadata": {},
   "outputs": [
    {
     "data": {
      "text/plain": [
       "Text(0,0.5,'Var($\\\\theta$)')"
      ]
     },
     "execution_count": 26,
     "metadata": {},
     "output_type": "execute_result"
    },
    {
     "data": {
      "image/png": "[encoded data removed]",
      "text/plain": [
       "<Figure size 576x216 with 1 Axes>"
      ]
     },
     "metadata": {},
     "output_type": "display_data"
    }
   ],
   "source": [
    "fig, ax = plt.subplots(figsize=(8, 3))\n",
    "var = np.var(thetas, axis=0)\n",
    "ax.plot(range(STEPS), var, '-b')\n",
    "ax.set_xlabel('Time steps')\n",
    "ax.set_ylabel(r'Var($\\theta$)')\n",
    "ax.set_ylabel(r'Var($\\theta$)')"
   ]
  },
  {
   "cell_type": "code",
   "execution_count": null,
   "metadata": {},
   "outputs": [],
   "source": []
  },
  {
   "cell_type": "code",
   "execution_count": null,
   "metadata": {},
   "outputs": [],
   "source": [
    "fig, ax = plt.subplots(figsize=(8, 3))\n",
    "var_norm = (var[-1]-var)/(var[-1]-var[0])\n",
    "ax.plot(range(STEPS), var_norm, '-b')\n",
    "hwp = get_halfway_point(var_norm, range(STEPS))\n",
    "ax.plot(hwp, 0.5, 'ro')\n",
    "ax.set_xlabel('Time steps')\n",
    "ax.set_ylabel(r'Normalized Var($\\theta$)')"
   ]
  },
  {
   "cell_type": "code",
   "execution_count": null,
   "metadata": {},
   "outputs": [],
   "source": [
    "fig, ax = plt.subplots(ncols=1, nrows=3, figsize=(6, 6))\n",
    "for i in range(thetas.shape[0]):\n",
    "    ax[0].plot(range(STEPS), thetas[i, :], '-ok', alpha=0.1, markersize=2)\n",
    "\n",
    "avg = np.average(thetas, axis=0)\n",
    "ax[0].plot(range(STEPS), avg, '-r')\n",
    "add_labels(ax[0], K)\n",
    "\n",
    "var = np.var(thetas, axis=0)\n",
    "ax[1].plot(range(STEPS), var, '-b')\n",
    "ax[1].set_xlabel('Time steps')\n",
    "ax[1].set_ylabel(r'Var($\\theta$)')\n",
    "\n",
    "var_norm = (var[-1]-var)/(var[-1]-var[0])\n",
    "ax[2].plot(range(STEPS), var_norm, '-b')\n",
    "hwp = get_halfway_point(var_norm, range(STEPS))\n",
    "ax[2].plot(hwp, 0.5, 'ro')\n",
    "ax[2].set_xlabel('Time steps')\n",
    "ax[2].set_ylabel(r'Normalized Var($\\theta$)')"
   ]
  },
  {
   "cell_type": "markdown",
   "metadata": {},
   "source": [
    "Because the preferred frequency of each oscillator uniformly distributed between -0.2 and 0.2 the oscillators often end up in a fairly stable stable situation where the phase does not change much over time."
   ]
  },
  {
   "cell_type": "markdown",
   "metadata": {},
   "source": [
    "# How does the final coherence depend on the coupling strength K?\n",
    "Above I showed how we can characterize the level of synchronization that is reached as well as the speed at which it is reached. So lets run the simulation for different values of $K$ and look at how this influence the synchronization level and synchronization time."
   ]
  },
  {
   "cell_type": "code",
   "execution_count": null,
   "metadata": {},
   "outputs": [],
   "source": [
    "fig, axes = plt.subplots(ncols=6, nrows=3, figsize=(14, 7))\n",
    "STEPS = 60\n",
    "Ks = [0.1, 0.5, 1, 1.95, 2.2, 5]\n",
    "initial_omega, initial_theta = set_up_initial_conditions(N=480)\n",
    "all_thetas = []\n",
    "for idx, K in enumerate(Ks):\n",
    "    omega, theta = initial_omega, initial_theta\n",
    "    thetas = run_simulation(omega, theta, N=480, STEPS=STEPS, K=K)\n",
    "    all_thetas.append(thetas)\n",
    "    for i in range(thetas.shape[0]):\n",
    "        axes[0, idx].plot(range(STEPS), thetas[i, :],\n",
    "                          '-ok', alpha=0.1, markersize=2)\n",
    "        add_labels(axes[0, idx], K)\n",
    "\n",
    "    var = np.var(thetas, axis=0)\n",
    "    axes[1, idx].plot(range(STEPS), var, '-o', color='grey', markersize=2)\n",
    "    add_relaxation_labels(axes[1, idx])\n",
    "\n",
    "    var_norm = (var[-1]-var)/(var[-1]-var[0])\n",
    "    axes[2, idx].plot(range(STEPS), var_norm, '-o', color='grey', markersize=2)\n",
    "    if var[-1] < 0.25:\n",
    "        hwp = get_halfway_point(var_norm[:25], range(STEPS)[:25])\n",
    "        axes[2, idx].plot(hwp, 0.5, 'ro')\n",
    "    axes[2, idx].set_xlabel('Time steps')\n",
    "    axes[2, idx].set_ylabel(r'Normalized Var($\\theta$)')\n",
    "\n",
    "fig.tight_layout()"
   ]
  },
  {
   "cell_type": "markdown",
   "metadata": {},
   "source": [
    "If you preferred to look at the points as they run around the circle, then here you go"
   ]
  },
  {
   "cell_type": "code",
   "execution_count": null,
   "metadata": {},
   "outputs": [],
   "source": [
    "%%capture\n",
    "# This line is here to supress the output of a empty figure\n",
    "rc('animation', html='html5')\n",
    "fig, axes = plt.subplots(nrows=1, ncols=6, figsize=(14, 2.2))\n",
    "for ax, K in zip(axes, Ks):\n",
    "    ax.set_xlabel('x')\n",
    "    ax.set_ylabel('y')\n",
    "    ax.set_xlim((-1.1, 1.1))\n",
    "    ax.set_ylim((-1.1, 1.1))\n",
    "    ax.set_title('K = {0}'.format(K))\n",
    "    ax.set_axis_off()"
   ]
  },
  {
   "cell_type": "code",
   "execution_count": null,
   "metadata": {},
   "outputs": [],
   "source": [
    "all_dots = []\n",
    "for ax in axes:\n",
    "    dots, = ax.plot([], [], 'ob', alpha=0.2)\n",
    "    all_dots.append(dots)\n",
    "\n",
    "\n",
    "def init():\n",
    "    for idx in range(len(axes)):\n",
    "        dots = all_dots[idx]\n",
    "        dots.set_data([], [])\n",
    "    return (dots,)\n",
    "\n",
    "\n",
    "def animate(i):\n",
    "    for ax_idx, ax, thetas in zip(range(len(axes)), axes, all_thetas):\n",
    "        x, y = np.cos(thetas[:, i]), np.sin(thetas[:, i])\n",
    "        dots = all_dots[ax_idx]\n",
    "        dots.set_data(x, y)\n",
    "        ax.set_xlabel('Step: {0}'.format(i))\n",
    "    return (dots,)\n",
    "\n",
    "\n",
    "anim = FuncAnimation(fig, animate, init_func=init,\n",
    "                     frames=thetas.shape[1], interval=200)"
   ]
  },
  {
   "cell_type": "code",
   "execution_count": null,
   "metadata": {},
   "outputs": [],
   "source": [
    "anim.save('animation_varying_k.gif', writer='imagemagick', fps=3)"
   ]
  },
  {
   "cell_type": "markdown",
   "metadata": {},
   "source": [
    "## Finding the value of K that leads to the highest synchronization\n",
    "Above we saw that coupling strength influence how synchronized the oscillators end up being -- to low or too high no synchronization will take place. In between there seem to be a sweet spot, so is there an optimal value? Lets check."
   ]
  },
  {
   "cell_type": "code",
   "execution_count": null,
   "metadata": {},
   "outputs": [],
   "source": [
    "STEPS = 50\n",
    "N = 480\n",
    "Ks = np.arange(0, 3.01, 0.01)\n",
    "variances = np.zeros((len(Ks), STEPS))\n",
    "end_variances = np.zeros((len(Ks), ))\n",
    "\n",
    "synchronization_Ks = []\n",
    "synchronization_times = []\n",
    "\n",
    "\n",
    "initial_omega, initial_theta = set_up_initial_conditions(N=N)\n",
    "for idx, K in enumerate(Ks):\n",
    "    omega, theta = initial_omega, initial_theta\n",
    "    thetas = run_simulation(omega, theta, N=N, STEPS=STEPS, K=K)\n",
    "\n",
    "    var = np.var(thetas, axis=0)\n",
    "    variances[idx, :] = np.var(thetas, axis=0)\n",
    "    end_variances[idx] = np.var(thetas[:, -1])\n",
    "\n",
    "    var_norm = (var[-1]-var)/(var[-1]-var[0])\n",
    "    if var[-1] < 0.25:\n",
    "        synchronization_times.append(get_halfway_point(var_norm, range(STEPS)))\n",
    "        synchronization_Ks.append(K)\n",
    "\n",
    "synchronization_times = np.array(synchronization_times)\n",
    "synchronization_Ks = np.array(synchronization_Ks)"
   ]
  },
  {
   "cell_type": "markdown",
   "metadata": {},
   "source": [
    "All the simulations were started with the same initial conditions, so only the coupling strengths were changed."
   ]
  },
  {
   "cell_type": "code",
   "execution_count": null,
   "metadata": {},
   "outputs": [],
   "source": [
    "lowest_variance = np.min(end_variances)\n",
    "K_at_lowest_variance = Ks[np.where(end_variances == lowest_variance)][0]\n",
    "\n",
    "lowest_synchronization_time = np.min(synchronization_times)\n",
    "K_at_lowest_synchronization_times = synchronization_Ks[\n",
    "    np.where(synchronization_times == lowest_synchronization_time)\n",
    "][0]\n",
    "\n",
    "fig, ax = plt.subplots(nrows=2, figsize=(6, 7))\n",
    "\n",
    "ax[0].plot(Ks, np.log10(end_variances), '-ob')\n",
    "ax[0].set_title(\"Minumum final phase: {1:.4f} at K = {0:.2f}\".format(\n",
    "    K_at_lowest_variance, lowest_variance))\n",
    "ax[0].set_ylabel(r'$\\log_{10}$ of final $\\theta$')\n",
    "\n",
    "ax[1].plot(synchronization_Ks, synchronization_times, 'or-')\n",
    "ax[1].set_title(\"Minumum relaxation time {1:.4f} at K = {0:.2f}\".format(\n",
    "                K_at_lowest_synchronization_times, lowest_synchronization_time\n",
    "                )\n",
    "                )\n",
    "\n",
    "ax[1].set_xlim([0, 3])\n",
    "ax[1].set_xlabel('K')\n",
    "ax[1].set_ylabel(r'Synchonization time')"
   ]
  },
  {
   "cell_type": "markdown",
   "metadata": {},
   "source": [
    "So it would appear that a coupling close to $K\\approx1.95$ leads to the lowest variance in the final phase reached by the oscillators in the simulation. The synchronization time continues to drop even after the final phase has reached its minimum, but after $K=\\approx 2.3$ the system no longer syncronizes."
   ]
  },
  {
   "cell_type": "markdown",
   "metadata": {},
   "source": [
    "### Conclusion\n",
    "We have seen that a collection of coupled oscillators set up with a uniform distribution of preferred oscillation frequencies can end up all oscillating with a frequency close to each other.\n",
    "\n",
    "We have shows how the evolution of the system can be characterized by two numbers, and look at how these numbers correlate. We have also discussed how the two numbers can be used as operational values -- answering the question how should I set the parameters of the system to reach the highest level of synchronization, or to get the shortest time to a synchronized state."
   ]
  }
 ],
 "metadata": {
  "kernelspec": {
   "display_name": "Python 3",
   "language": "python",
   "name": "python3"
  },
  "language_info": {
   "codemirror_mode": {
    "name": "ipython",
    "version": 3
   },
   "file_extension": ".py",
   "mimetype": "text/x-python",
   "name": "python",
   "nbconvert_exporter": "python",
   "pygments_lexer": "ipython3",
   "version": "3.6.0"
  },
  "toc": {
   "base_numbering": 1,
   "nav_menu": {},
   "number_sections": true,
   "sideBar": true,
   "skip_h1_title": false,
   "title_cell": "Table of Contents",
   "title_sidebar": "Contents",
   "toc_cell": true,
   "toc_position": {
    "height": "calc(100% - 180px)",
    "left": "10px",
    "top": "150px",
    "width": "236px"
   },
   "toc_section_display": true,
   "toc_window_display": false
  }
 },
 "nbformat": 4,
 "nbformat_minor": 2
}
