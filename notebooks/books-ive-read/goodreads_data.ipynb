{
 "cells": [
  {
   "cell_type": "code",
   "execution_count": 1,
   "metadata": {
    "ExecuteTime": {
     "end_time": "2019-03-18T19:05:14.779672Z",
     "start_time": "2019-03-18T19:05:14.285052Z"
    }
   },
   "outputs": [
    {
     "name": "stderr",
     "output_type": "stream",
     "text": [
      "/Users/mikkelhartmannjensen/Documents/projects/mikmik19.github.com/notebooks/env/lib/python3.6/importlib/_bootstrap.py:205: RuntimeWarning: numpy.dtype size changed, may indicate binary incompatibility. Expected 96, got 88\n",
      "  return f(*args, **kwds)\n",
      "/Users/mikkelhartmannjensen/Documents/projects/mikmik19.github.com/notebooks/env/lib/python3.6/importlib/_bootstrap.py:205: RuntimeWarning: numpy.dtype size changed, may indicate binary incompatibility. Expected 96, got 88\n",
      "  return f(*args, **kwds)\n"
     ]
    }
   ],
   "source": [
    "import pandas as pd\n",
    "import json"
   ]
  },
  {
   "cell_type": "code",
   "execution_count": 2,
   "metadata": {
    "ExecuteTime": {
     "end_time": "2019-03-18T19:05:14.806206Z",
     "start_time": "2019-03-18T19:05:14.783336Z"
    }
   },
   "outputs": [],
   "source": [
    "df = pd.read_csv('../data/books/goodreads_library_export.csv')"
   ]
  },
  {
   "cell_type": "code",
   "execution_count": 3,
   "metadata": {
    "ExecuteTime": {
     "end_time": "2019-03-18T19:05:14.816378Z",
     "start_time": "2019-03-18T19:05:14.809154Z"
    }
   },
   "outputs": [
    {
     "name": "stdout",
     "output_type": "stream",
     "text": [
      "Book Id\n",
      "Title\n",
      "Author\n",
      "Author l-f\n",
      "Additional Authors\n",
      "ISBN\n",
      "ISBN13\n",
      "My Rating\n",
      "Average Rating\n",
      "Publisher\n",
      "Binding\n",
      "Number of Pages\n",
      "Year Published\n",
      "Original Publication Year\n",
      "Date Read\n",
      "Date Added\n",
      "Bookshelves\n",
      "Bookshelves with positions\n",
      "Exclusive Shelf\n",
      "My Review\n",
      "Spoiler\n",
      "Private Notes\n",
      "Read Count\n",
      "Recommended For\n",
      "Recommended By\n",
      "Owned Copies\n",
      "Original Purchase Date\n",
      "Original Purchase Location\n",
      "Condition\n",
      "Condition Description\n",
      "BCID\n"
     ]
    }
   ],
   "source": [
    "for c in df.columns:\n",
    "    print(c)"
   ]
  },
  {
   "cell_type": "code",
   "execution_count": 4,
   "metadata": {
    "ExecuteTime": {
     "end_time": "2019-03-18T19:05:14.835943Z",
     "start_time": "2019-03-18T19:05:14.820519Z"
    }
   },
   "outputs": [],
   "source": [
    "columns = [\n",
    "    'Book Id',\n",
    "    'Title',\n",
    "    'Author',\n",
    "    'My Rating',\n",
    "    'Read Count'\n",
    "]\n",
    "subset_df = df[df[\"Exclusive Shelf\"]==\"read\"].copy()\n",
    "\n",
    "subset_df[\"Date Read\"] = pd.to_datetime(subset_df[\"Date Read\"])\n",
    "subset_df.sort_values(\"Date Read\", ascending=False, inplace=True)"
   ]
  },
  {
   "cell_type": "code",
   "execution_count": 5,
   "metadata": {
    "ExecuteTime": {
     "end_time": "2019-03-18T19:05:14.901776Z",
     "start_time": "2019-03-18T19:05:14.839021Z"
    }
   },
   "outputs": [
    {
     "data": {
      "text/html": [
       "<div>\n",
       "<style scoped>\n",
       "    .dataframe tbody tr th:only-of-type {\n",
       "        vertical-align: middle;\n",
       "    }\n",
       "\n",
       "    .dataframe tbody tr th {\n",
       "        vertical-align: top;\n",
       "    }\n",
       "\n",
       "    .dataframe thead th {\n",
       "        text-align: right;\n",
       "    }\n",
       "</style>\n",
       "<table border=\"1\" class=\"dataframe\">\n",
       "  <thead>\n",
       "    <tr style=\"text-align: right;\">\n",
       "      <th></th>\n",
       "      <th>Book Id</th>\n",
       "      <th>Title</th>\n",
       "      <th>Author</th>\n",
       "      <th>Author l-f</th>\n",
       "      <th>Additional Authors</th>\n",
       "      <th>ISBN</th>\n",
       "      <th>ISBN13</th>\n",
       "      <th>My Rating</th>\n",
       "      <th>Average Rating</th>\n",
       "      <th>Publisher</th>\n",
       "      <th>...</th>\n",
       "      <th>Private Notes</th>\n",
       "      <th>Read Count</th>\n",
       "      <th>Recommended For</th>\n",
       "      <th>Recommended By</th>\n",
       "      <th>Owned Copies</th>\n",
       "      <th>Original Purchase Date</th>\n",
       "      <th>Original Purchase Location</th>\n",
       "      <th>Condition</th>\n",
       "      <th>Condition Description</th>\n",
       "      <th>BCID</th>\n",
       "    </tr>\n",
       "  </thead>\n",
       "  <tbody>\n",
       "    <tr>\n",
       "      <th>0</th>\n",
       "      <td>53343</td>\n",
       "      <td>On Writing Well: The Classic Guide to Writing ...</td>\n",
       "      <td>William Zinsser</td>\n",
       "      <td>Zinsser, William</td>\n",
       "      <td>NaN</td>\n",
       "      <td>=\"0060891548\"</td>\n",
       "      <td>=\"9780060891541\"</td>\n",
       "      <td>2</td>\n",
       "      <td>4.25</td>\n",
       "      <td>Harper Perennial</td>\n",
       "      <td>...</td>\n",
       "      <td>NaN</td>\n",
       "      <td>1</td>\n",
       "      <td>NaN</td>\n",
       "      <td>NaN</td>\n",
       "      <td>0</td>\n",
       "      <td>NaN</td>\n",
       "      <td>NaN</td>\n",
       "      <td>NaN</td>\n",
       "      <td>NaN</td>\n",
       "      <td>NaN</td>\n",
       "    </tr>\n",
       "    <tr>\n",
       "      <th>9</th>\n",
       "      <td>41009404</td>\n",
       "      <td>Dont make me think</td>\n",
       "      <td>Steve Krug ZHU</td>\n",
       "      <td>ZHU, Steve Krug</td>\n",
       "      <td>NaN</td>\n",
       "      <td>=\"7111184823\"</td>\n",
       "      <td>=\"9787111184829\"</td>\n",
       "      <td>4</td>\n",
       "      <td>4.16</td>\n",
       "      <td>China Machine Press</td>\n",
       "      <td>...</td>\n",
       "      <td>NaN</td>\n",
       "      <td>1</td>\n",
       "      <td>NaN</td>\n",
       "      <td>NaN</td>\n",
       "      <td>0</td>\n",
       "      <td>NaN</td>\n",
       "      <td>NaN</td>\n",
       "      <td>NaN</td>\n",
       "      <td>NaN</td>\n",
       "      <td>NaN</td>\n",
       "    </tr>\n",
       "    <tr>\n",
       "      <th>7</th>\n",
       "      <td>13593553</td>\n",
       "      <td>To Sell Is Human: The Surprising Truth About M...</td>\n",
       "      <td>Daniel H. Pink</td>\n",
       "      <td>Pink, Daniel H.</td>\n",
       "      <td>NaN</td>\n",
       "      <td>=\"1594487154\"</td>\n",
       "      <td>=\"9781594487156\"</td>\n",
       "      <td>2</td>\n",
       "      <td>3.89</td>\n",
       "      <td>Riverhead Books</td>\n",
       "      <td>...</td>\n",
       "      <td>NaN</td>\n",
       "      <td>1</td>\n",
       "      <td>NaN</td>\n",
       "      <td>NaN</td>\n",
       "      <td>0</td>\n",
       "      <td>NaN</td>\n",
       "      <td>NaN</td>\n",
       "      <td>NaN</td>\n",
       "      <td>NaN</td>\n",
       "      <td>NaN</td>\n",
       "    </tr>\n",
       "    <tr>\n",
       "      <th>15</th>\n",
       "      <td>39312982</td>\n",
       "      <td>Hello World: How Algorithms will Define our Fu...</td>\n",
       "      <td>Hannah Fry</td>\n",
       "      <td>Fry, Hannah</td>\n",
       "      <td>NaN</td>\n",
       "      <td>=\"\"</td>\n",
       "      <td>=\"\"</td>\n",
       "      <td>4</td>\n",
       "      <td>4.14</td>\n",
       "      <td>Transworld Digital</td>\n",
       "      <td>...</td>\n",
       "      <td>NaN</td>\n",
       "      <td>1</td>\n",
       "      <td>NaN</td>\n",
       "      <td>NaN</td>\n",
       "      <td>0</td>\n",
       "      <td>NaN</td>\n",
       "      <td>NaN</td>\n",
       "      <td>NaN</td>\n",
       "      <td>NaN</td>\n",
       "      <td>NaN</td>\n",
       "    </tr>\n",
       "    <tr>\n",
       "      <th>20</th>\n",
       "      <td>25510906</td>\n",
       "      <td>The Mushroom at the End of the World: On the P...</td>\n",
       "      <td>Anna Lowenhaupt Tsing</td>\n",
       "      <td>Tsing, Anna Lowenhaupt</td>\n",
       "      <td>NaN</td>\n",
       "      <td>=\"0691162751\"</td>\n",
       "      <td>=\"9780691162751\"</td>\n",
       "      <td>4</td>\n",
       "      <td>4.17</td>\n",
       "      <td>Princeton University Press</td>\n",
       "      <td>...</td>\n",
       "      <td>NaN</td>\n",
       "      <td>1</td>\n",
       "      <td>NaN</td>\n",
       "      <td>NaN</td>\n",
       "      <td>0</td>\n",
       "      <td>NaN</td>\n",
       "      <td>NaN</td>\n",
       "      <td>NaN</td>\n",
       "      <td>NaN</td>\n",
       "      <td>NaN</td>\n",
       "    </tr>\n",
       "  </tbody>\n",
       "</table>\n",
       "<p>5 rows × 31 columns</p>\n",
       "</div>"
      ],
      "text/plain": [
       "     Book Id                                              Title  \\\n",
       "0      53343  On Writing Well: The Classic Guide to Writing ...   \n",
       "9   41009404                                 Dont make me think   \n",
       "7   13593553  To Sell Is Human: The Surprising Truth About M...   \n",
       "15  39312982  Hello World: How Algorithms will Define our Fu...   \n",
       "20  25510906  The Mushroom at the End of the World: On the P...   \n",
       "\n",
       "                   Author              Author l-f Additional Authors  \\\n",
       "0         William Zinsser        Zinsser, William                NaN   \n",
       "9          Steve Krug ZHU         ZHU, Steve Krug                NaN   \n",
       "7          Daniel H. Pink         Pink, Daniel H.                NaN   \n",
       "15             Hannah Fry             Fry, Hannah                NaN   \n",
       "20  Anna Lowenhaupt Tsing  Tsing, Anna Lowenhaupt                NaN   \n",
       "\n",
       "             ISBN            ISBN13  My Rating  Average Rating  \\\n",
       "0   =\"0060891548\"  =\"9780060891541\"          2            4.25   \n",
       "9   =\"7111184823\"  =\"9787111184829\"          4            4.16   \n",
       "7   =\"1594487154\"  =\"9781594487156\"          2            3.89   \n",
       "15            =\"\"               =\"\"          4            4.14   \n",
       "20  =\"0691162751\"  =\"9780691162751\"          4            4.17   \n",
       "\n",
       "                     Publisher ...  Private Notes  Read Count  \\\n",
       "0             Harper Perennial ...            NaN           1   \n",
       "9          China Machine Press ...            NaN           1   \n",
       "7              Riverhead Books ...            NaN           1   \n",
       "15          Transworld Digital ...            NaN           1   \n",
       "20  Princeton University Press ...            NaN           1   \n",
       "\n",
       "    Recommended For  Recommended By Owned Copies Original Purchase Date  \\\n",
       "0               NaN             NaN            0                    NaN   \n",
       "9               NaN             NaN            0                    NaN   \n",
       "7               NaN             NaN            0                    NaN   \n",
       "15              NaN             NaN            0                    NaN   \n",
       "20              NaN             NaN            0                    NaN   \n",
       "\n",
       "   Original Purchase Location Condition Condition Description BCID  \n",
       "0                         NaN       NaN                   NaN  NaN  \n",
       "9                         NaN       NaN                   NaN  NaN  \n",
       "7                         NaN       NaN                   NaN  NaN  \n",
       "15                        NaN       NaN                   NaN  NaN  \n",
       "20                        NaN       NaN                   NaN  NaN  \n",
       "\n",
       "[5 rows x 31 columns]"
      ]
     },
     "execution_count": 5,
     "metadata": {},
     "output_type": "execute_result"
    }
   ],
   "source": [
    "subset_df.head()"
   ]
  },
  {
   "cell_type": "code",
   "execution_count": 6,
   "metadata": {
    "ExecuteTime": {
     "end_time": "2019-03-18T19:05:14.909714Z",
     "start_time": "2019-03-18T19:05:14.905389Z"
    }
   },
   "outputs": [],
   "source": [
    "def remove_series_name(row):\n",
    "    return row.split(\"(\")[0]"
   ]
  },
  {
   "cell_type": "code",
   "execution_count": 7,
   "metadata": {
    "ExecuteTime": {
     "end_time": "2019-03-18T19:05:14.917912Z",
     "start_time": "2019-03-18T19:05:14.912911Z"
    }
   },
   "outputs": [],
   "source": [
    "subset_df[\"Title\"] = subset_df[\"Title\"].copy().apply(remove_series_name)"
   ]
  },
  {
   "cell_type": "code",
   "execution_count": 8,
   "metadata": {
    "ExecuteTime": {
     "end_time": "2019-03-18T19:05:14.928206Z",
     "start_time": "2019-03-18T19:05:14.921618Z"
    }
   },
   "outputs": [],
   "source": [
    "to_save = subset_df[subset_df['Read Count']>0].copy()"
   ]
  },
  {
   "cell_type": "code",
   "execution_count": 9,
   "metadata": {
    "ExecuteTime": {
     "end_time": "2019-03-18T19:05:15.021818Z",
     "start_time": "2019-03-18T19:05:14.932885Z"
    }
   },
   "outputs": [],
   "source": [
    "books_json = dict()\n",
    "for idx, row in to_save.iterrows():\n",
    "    books_json[row[\"Book Id\"]] = {\n",
    "        \"title\": row[\"Title\"],\n",
    "        \"author\": row[\"Author\"],\n",
    "        \"stars\": row[\"My Rating\"]\n",
    "    }"
   ]
  },
  {
   "cell_type": "code",
   "execution_count": 10,
   "metadata": {
    "ExecuteTime": {
     "end_time": "2019-03-18T19:05:15.035739Z",
     "start_time": "2019-03-18T19:05:15.024695Z"
    }
   },
   "outputs": [],
   "source": [
    "with open('../data/books/books.json', 'w') as outfile:  \n",
    "    json.dump(books_json, outfile)"
   ]
  }
 ],
 "metadata": {
  "kernelspec": {
   "display_name": "Python 3",
   "language": "python",
   "name": "python3"
  },
  "language_info": {
   "codemirror_mode": {
    "name": "ipython",
    "version": 3
   },
   "file_extension": ".py",
   "mimetype": "text/x-python",
   "name": "python",
   "nbconvert_exporter": "python",
   "pygments_lexer": "ipython3",
   "version": "3.6.0"
  },
  "toc": {
   "base_numbering": 1,
   "nav_menu": {},
   "number_sections": false,
   "sideBar": true,
   "skip_h1_title": false,
   "title_cell": "Table of Contents",
   "title_sidebar": "Contents",
   "toc_cell": false,
   "toc_position": {},
   "toc_section_display": true,
   "toc_window_display": false
  }
 },
 "nbformat": 4,
 "nbformat_minor": 2
}
