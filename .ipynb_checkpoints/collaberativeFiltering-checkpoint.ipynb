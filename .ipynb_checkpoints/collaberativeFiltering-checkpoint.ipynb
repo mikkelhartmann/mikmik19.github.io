{
 "cells": [
  {
   "cell_type": "markdown",
   "metadata": {},
   "source": [
    "## A walkthough of the collaberative filtering method -The main ideas and the mathematics\n",
    "Technically, the type of recommender system we will implement is called collaborative filtering. We will construct at Matrix with the size $ (# users)x(# games) $. This matrix contains all the votes for each user. At the time of writing this the Arcade trail database had 350 users and 4601 games, so $ R $ was a 350 by 4601 matrix. The matrix is  incomplete in the sense that not every user will have voted for every game. The aim is to establish which games a user might like, that is, we will fill out the missing parts of the $R$ matrix. We do this by finding the matrixes $ X $ and $ \\Theta $ whose <a href=\"https://en.wikipedia.org/wiki/Matrix_multiplication\"> (matrix) product </a> gives the filled out matrix $ R^* $: \n",
    "$$ \\Theta X^T = R^* $$\n",
    "Here $ \\Theta $ and $ X $  are $# users$ by 1 and $# games$ by 1 matrices respectively. They have to be, otherwise the product would give $ R^* $ the wrong size.\n",
    "\n",
    "In principle this is all there is to it. Once you have your $ X $ and $ \\Theta $ matrices you are done.\n",
    "\n",
    "To get the matrices $ X $ and $ \\Theta $ we could simply try out numbers untill we hit ones with product that is reasonably close to $ R $. But this would be a tedious task even for quite small matrices. What we want is for the computer to do all the heavy lifting. For this we must come up with an mathematical expression that the computer can minimize. This is expression is usually called the cost function, presumably because it is the penalty the coomputer must pay for putting up a wrong answer. The cost function we will use is:\n",
    "$$ J(X,\\Theta, R) =\n",
    "\\frac{1}{2} \\sum \\left( \\Theta X^T  - R \\right)^{2} +\n",
    "\\frac{\\lambda}{2}\\sum \\Theta^{2}\n",
    "+ \\frac{\\lambda}{2}\\sum X^{2}\n",
    "$$\n",
    "Here $ A^2 $ is shorthand for squaring every entry in $ A $. That is $A^2 = A \\circ A $ and not $ A \\cdot A $ or $ AA $ with $ \\circ $ being is the symbol for the <a href=\"https://en.wikipedia.org/wiki/Hadamard_product_(matrices)\"> entrywise product</a> and $ \\cdot $ and the <a href=\"https://en.wikipedia.org/wiki/Dot_product\">dot product</a>\n",
    "respectively.\n",
    "\n",
    "Lets look closer at what the cost function actually does. The first term is the squared difference between the prediction votes and the acutal votes. If the the difference is high the cost is high. The next two term are regularization terms. They are there to increase the cost of the using high values for the parameters. $ \\lambda $ is a scalar we can chose freely, depending on how much we wish to supress high parameter values. If you use a very low value of $ \\lambda $ chances are your optimization code will take ages to run and produce terribly results. So in the end the cost function produces a single number. If the cost is high, our computer did a bad job of reproducing $ R $.\n",
    "\n",
    "Since we are dealing with $ # user + # games $ parameters the optimizaing code need some extra help to run smoothly. This is done by supplying the gradient of the cost function. That is, we must know how much $ J $ changes when we change any one of the numbers in $ \\Theta $ and $ X $.\n",
    "\n",
    "The gradient of $ X $ is given by:\n",
    "$$ X_{grad} =\n",
    "\\left( \\Theta X^T - R \\right)\\cdot \\Theta\n",
    "+ \\lambda X $$\n",
    "While the gradient of $ \\Theta $ is given by:\n",
    "$$ \\Theta_{grad} =\n",
    "\\left( \\Theta X^T - R \\right)\\cdot X\n",
    "+ \\lambda \\Theta $$\n",
    "Since the dot product produces a number (a scalar) $ X_{grad} $ and $ \\Theta_{grad} $ have the same size as $ X $ and $ \\Theta $ respectively. As, of course, they should. \n",
    "\n",
    "With the cost function and its gradient defined we can run the optimization code and get the $ \\Theta $ and $ X $ matrices than are the used to calculate the reccomendations.\n",
    "\n",
    "\n",
    "To get the reccomendation for a specific user we simply need to do the following calculation:\n",
    "$$ r = \\Theta_\\text{user} X^T. $$ \n",
    "This produces a matrix of size 1 by $ # games $ that include the probability (a number between 0 and 1) that the user would vote for each game. Getting the top ten reccomendations  ammounts to picking out the top ten values from $ r $."
   ]
  },
  {
   "cell_type": "markdown",
   "metadata": {},
   "source": [
    "## Testing the model \n",
    "When testing a model it is common practice to train the model on some fraction, say 0.8, of the data set and use the remaining data to test the qualy of the model. This simple way of splitting the data is not applicable to our case since removing an entire rows of data would correspond to removing all the information about one of the users.\n",
    "\n",
    "We are interested in the models abibilty to predict weather or not a person will give a game a vote. To test the models sucess in doing so we choose to hide some of the users votes, but not all of them, when training the model. This corresponds to picking out some of the elements in $R$ that are 1 and set it to 0 before training the model. \n",
    "\n",
    "Once the model has been trained we can then calculate the usual metrics to measure the quality of the models predictions over all the elements of $R$.\n"
   ]
  },
  {
   "cell_type": "markdown",
   "metadata": {},
   "source": [
    "## A python implementattion of the collaberative filtering method\n",
    "So lets see hown it works. First I need to change the working directory."
   ]
  },
  {
   "cell_type": "code",
   "execution_count": 4,
   "metadata": {
    "collapsed": false
   },
   "outputs": [
    {
     "name": "stdout",
     "output_type": "stream",
     "text": [
      "/Volumes/Storage/Documents/ArcadeTrail\n"
     ]
    }
   ],
   "source": [
    "cd ../ArcadeTrail/"
   ]
  },
  {
   "cell_type": "code",
   "execution_count": null,
   "metadata": {
    "collapsed": true
   },
   "outputs": [],
   "source": []
  },
  {
   "cell_type": "markdown",
   "metadata": {},
   "source": [
    "First I import the packages we will need and the 'ReccomenderSystem' file, which contains all the function I have written"
   ]
  },
  {
   "cell_type": "code",
   "execution_count": 8,
   "metadata": {
    "collapsed": false
   },
   "outputs": [],
   "source": [
    "import ReccomenderSystem\n",
    "from numpy import *\n",
    "import numpy as np\n",
    "from random import randrange\n",
    "import operator\n",
    "from os import listdir\n",
    "import csv\n",
    "import scipy\n",
    "import scipy.optimize\n",
    "import itertools\n",
    "import matplotlib.pyplot as plt\n",
    "\n",
    "# Loading the Data\n",
    "votes, num_games_1, num_users_1 = ReccomenderSystem.reading_votes('CSV/game_votes.csv')\n",
    "ownerships, num_games_2, num_users_2 = ReccomenderSystem.reading_votes('CSV/game_ownerships.csv')\n",
    "titles = ReccomenderSystem.reading_titles('CSV/game_titles.csv')\n",
    "user_names = ReccomenderSystem.reading_titles('CSV/user_names.csv')\n",
    "\n",
    "# since the number of users from the votes and ownerships lists may differ\n",
    "# i chose the largest one here\n",
    "num_games = max([num_games_1, num_games_2])\n",
    "num_users = max([num_users_1, num_users_2])\n",
    "\n",
    "R = ReccomenderSystem.construct_R(votes,ownerships,num_users,num_games)"
   ]
  },
  {
   "cell_type": "code",
   "execution_count": null,
   "metadata": {
    "collapsed": true
   },
   "outputs": [],
   "source": []
  },
  {
   "cell_type": "markdown",
   "metadata": {},
   "source": [
    "Before we go on to train the model let us first get some quick information about our dataset."
   ]
  },
  {
   "cell_type": "code",
   "execution_count": 9,
   "metadata": {
    "collapsed": false
   },
   "outputs": [
    {
     "data": {
      "text/plain": [
       "1610350"
      ]
     },
     "execution_count": 9,
     "metadata": {},
     "output_type": "execute_result"
    }
   ],
   "source": [
    "size(R)"
   ]
  },
  {
   "cell_type": "code",
   "execution_count": null,
   "metadata": {
    "collapsed": true
   },
   "outputs": [],
   "source": []
  },
  {
   "cell_type": "code",
   "execution_count": 10,
   "metadata": {
    "collapsed": false
   },
   "outputs": [
    {
     "data": {
      "text/plain": [
       "8027.0"
      ]
     },
     "execution_count": 10,
     "metadata": {},
     "output_type": "execute_result"
    }
   ],
   "source": [
    "sum(R)"
   ]
  },
  {
   "cell_type": "code",
   "execution_count": null,
   "metadata": {
    "collapsed": true
   },
   "outputs": [],
   "source": []
  },
  {
   "cell_type": "code",
   "execution_count": 11,
   "metadata": {
    "collapsed": false
   },
   "outputs": [
    {
     "data": {
      "text/plain": [
       "0.49846306703511656"
      ]
     },
     "execution_count": 11,
     "metadata": {},
     "output_type": "execute_result"
    }
   ],
   "source": [
    "(sum(R)/size(R))*100"
   ]
  },
  {
   "cell_type": "markdown",
   "metadata": {},
   "source": [
    "So roughly .5% of the cell have the value 1. It is to be expected that this value is low since a single user can not be expected to vote for, or even view, every game in the data base. How big a fraction of the users have not thrown a single vote?"
   ]
  },
  {
   "cell_type": "code",
   "execution_count": 12,
   "metadata": {
    "collapsed": false
   },
   "outputs": [
    {
     "data": {
      "text/plain": [
       "215"
      ]
     },
     "execution_count": 12,
     "metadata": {},
     "output_type": "execute_result"
    }
   ],
   "source": [
    "noVotes = 0\n",
    "for i in range(0,shape(R)[0]):\n",
    "    if sum(R[i,:]) == 0: \n",
    "        noVotes += 1\n",
    "noVotes"
   ]
  },
  {
   "cell_type": "markdown",
   "metadata": {},
   "source": [
    "so almost half of the users have not thrown a single vote."
   ]
  },
  {
   "cell_type": "code",
   "execution_count": 21,
   "metadata": {
    "collapsed": false
   },
   "outputs": [
    {
     "name": "stdout",
     "output_type": "stream",
     "text": [
      "0.0\n",
      "0.0\n",
      "0.0\n",
      "0.0\n",
      "0.0\n",
      "0.0\n",
      "0.0\n",
      "0.0\n",
      "0.0\n",
      "0.0\n",
      "0.0\n",
      "0.0\n",
      "0.0\n",
      "0.0\n",
      "0.0\n",
      "0.0\n",
      "120.0\n",
      "9.0\n",
      "380.0\n",
      "370.0\n",
      "0.0\n",
      "0.0\n",
      "76.0\n",
      "33.0\n",
      "0.0\n",
      "0.0\n",
      "0.0\n",
      "0.0\n",
      "0.0\n",
      "0.0\n",
      "0.0\n",
      "7.0\n",
      "3.0\n",
      "8.0\n",
      "109.0\n",
      "0.0\n",
      "0.0\n",
      "1.0\n",
      "21.0\n",
      "5.0\n",
      "2.0\n",
      "4.0\n",
      "0.0\n",
      "0.0\n",
      "0.0\n",
      "164.0\n",
      "122.0\n",
      "0.0\n",
      "0.0\n",
      "0.0\n",
      "23.0\n",
      "0.0\n",
      "10.0\n",
      "0.0\n",
      "0.0\n",
      "0.0\n",
      "0.0\n",
      "0.0\n",
      "0.0\n",
      "0.0\n",
      "0.0\n",
      "0.0\n",
      "0.0\n",
      "0.0\n",
      "0.0\n",
      "0.0\n",
      "0.0\n",
      "0.0\n",
      "0.0\n",
      "0.0\n",
      "19.0\n",
      "0.0\n",
      "375.0\n",
      "68.0\n",
      "30.0\n",
      "1.0\n",
      "0.0\n",
      "0.0\n",
      "3.0\n",
      "0.0\n",
      "0.0\n",
      "1.0\n",
      "3.0\n",
      "43.0\n",
      "0.0\n",
      "0.0\n",
      "0.0\n",
      "1.0\n",
      "90.0\n",
      "0.0\n",
      "0.0\n",
      "1.0\n",
      "18.0\n",
      "0.0\n",
      "0.0\n",
      "80.0\n",
      "0.0\n",
      "5.0\n",
      "0.0\n",
      "0.0\n",
      "0.0\n",
      "0.0\n",
      "1.0\n",
      "0.0\n",
      "0.0\n",
      "0.0\n",
      "0.0\n",
      "3.0\n",
      "1.0\n",
      "37.0\n",
      "0.0\n",
      "1.0\n",
      "0.0\n",
      "0.0\n",
      "0.0\n",
      "13.0\n",
      "308.0\n",
      "698.0\n",
      "104.0\n",
      "0.0\n",
      "0.0\n",
      "0.0\n",
      "0.0\n",
      "1.0\n",
      "1.0\n",
      "0.0\n",
      "0.0\n",
      "0.0\n",
      "0.0\n",
      "5.0\n",
      "0.0\n",
      "1.0\n",
      "0.0\n",
      "0.0\n",
      "31.0\n",
      "0.0\n",
      "0.0\n",
      "0.0\n",
      "5.0\n",
      "0.0\n",
      "0.0\n",
      "1.0\n",
      "1.0\n",
      "12.0\n",
      "2.0\n",
      "0.0\n",
      "5.0\n",
      "0.0\n",
      "0.0\n",
      "0.0\n",
      "132.0\n",
      "0.0\n",
      "0.0\n",
      "0.0\n",
      "62.0\n",
      "0.0\n",
      "49.0\n",
      "0.0\n",
      "0.0\n",
      "1.0\n",
      "0.0\n",
      "0.0\n",
      "1.0\n",
      "0.0\n",
      "0.0\n",
      "0.0\n",
      "12.0\n",
      "0.0\n",
      "172.0\n",
      "0.0\n",
      "10.0\n",
      "10.0\n",
      "0.0\n",
      "4.0\n",
      "1.0\n",
      "119.0\n",
      "0.0\n",
      "0.0\n",
      "2.0\n",
      "0.0\n",
      "0.0\n",
      "0.0\n",
      "0.0\n",
      "626.0\n",
      "1.0\n",
      "0.0\n",
      "71.0\n",
      "321.0\n",
      "6.0\n",
      "0.0\n",
      "0.0\n",
      "45.0\n",
      "88.0\n",
      "3.0\n",
      "0.0\n",
      "1.0\n",
      "0.0\n",
      "0.0\n",
      "0.0\n",
      "0.0\n",
      "0.0\n",
      "0.0\n",
      "0.0\n",
      "0.0\n",
      "0.0\n",
      "0.0\n",
      "0.0\n",
      "2.0\n",
      "0.0\n",
      "0.0\n",
      "0.0\n",
      "0.0\n",
      "7.0\n",
      "0.0\n",
      "79.0\n",
      "0.0\n",
      "0.0\n",
      "16.0\n",
      "6.0\n",
      "0.0\n",
      "294.0\n",
      "0.0\n",
      "2.0\n",
      "11.0\n",
      "0.0\n",
      "0.0\n",
      "1.0\n",
      "16.0\n",
      "165.0\n",
      "64.0\n",
      "2.0\n",
      "0.0\n",
      "0.0\n",
      "1.0\n",
      "67.0\n",
      "0.0\n",
      "0.0\n",
      "1.0\n",
      "7.0\n",
      "0.0\n",
      "0.0\n",
      "0.0\n",
      "0.0\n",
      "0.0\n",
      "1.0\n",
      "0.0\n",
      "591.0\n",
      "0.0\n",
      "0.0\n",
      "0.0\n",
      "1.0\n",
      "1.0\n",
      "0.0\n",
      "0.0\n",
      "1.0\n",
      "150.0\n",
      "2.0\n",
      "0.0\n",
      "22.0\n",
      "0.0\n",
      "0.0\n",
      "0.0\n",
      "0.0\n",
      "1.0\n",
      "0.0\n",
      "0.0\n",
      "0.0\n",
      "32.0\n",
      "0.0\n",
      "1.0\n",
      "5.0\n",
      "0.0\n",
      "0.0\n",
      "0.0\n",
      "0.0\n",
      "107.0\n",
      "950.0\n",
      "3.0\n",
      "0.0\n",
      "2.0\n",
      "3.0\n",
      "4.0\n",
      "1.0\n",
      "25.0\n",
      "0.0\n",
      "0.0\n",
      "0.0\n",
      "0.0\n",
      "31.0\n",
      "0.0\n",
      "0.0\n",
      "95.0\n",
      "2.0\n",
      "1.0\n",
      "1.0\n",
      "1.0\n",
      "23.0\n",
      "0.0\n",
      "1.0\n",
      "1.0\n",
      "1.0\n",
      "14.0\n",
      "10.0\n",
      "1.0\n",
      "4.0\n",
      "0.0\n",
      "0.0\n",
      "0.0\n",
      "7.0\n",
      "0.0\n",
      "0.0\n",
      "1.0\n",
      "0.0\n",
      "0.0\n",
      "6.0\n",
      "3.0\n",
      "3.0\n",
      "0.0\n",
      "0.0\n",
      "0.0\n",
      "0.0\n",
      "0.0\n",
      "0.0\n",
      "0.0\n",
      "0.0\n",
      "0.0\n",
      "0.0\n",
      "0.0\n",
      "0.0\n",
      "0.0\n",
      "0.0\n",
      "0.0\n",
      "0.0\n",
      "0.0\n",
      "0.0\n",
      "0.0\n",
      "0.0\n",
      "0.0\n",
      "0.0\n",
      "0.0\n",
      "0.0\n",
      "0.0\n",
      "0.0\n",
      "2.0\n",
      "1.0\n",
      "0.0\n",
      "0.0\n",
      "0.0\n",
      "0.0\n",
      "1.0\n"
     ]
    },
    {
     "data": {
      "text/plain": [
       "950.0"
      ]
     },
     "execution_count": 21,
     "metadata": {},
     "output_type": "execute_result"
    }
   ],
   "source": [
    "userVotes = zeros((shape(R)[0]))\n",
    "maxUserVotes = 0\n",
    "for i in range(0,shape(R)[0]):\n",
    "    userVotes[i] = sum(R[i,:])\n",
    "    if userVotes[i] > maxUserVotes:\n",
    "        maxUserVotes = userVotes[i]\n",
    "maxUserVotes"
   ]
  },
  {
   "cell_type": "code",
   "execution_count": 15,
   "metadata": {
    "collapsed": false
   },
   "outputs": [
    {
     "data": {
      "text/plain": [
       "1.0"
      ]
     },
     "execution_count": 15,
     "metadata": {},
     "output_type": "execute_result"
    }
   ],
   "source": [
    "userVotes"
   ]
  },
  {
   "cell_type": "code",
   "execution_count": null,
   "metadata": {
    "collapsed": true
   },
   "outputs": [],
   "source": []
  },
  {
   "cell_type": "code",
   "execution_count": null,
   "metadata": {
    "collapsed": true
   },
   "outputs": [],
   "source": []
  },
  {
   "cell_type": "markdown",
   "metadata": {},
   "source": [
    "They user with the most vote has voted for 950 games!"
   ]
  },
  {
   "cell_type": "code",
   "execution_count": null,
   "metadata": {
    "collapsed": true
   },
   "outputs": [],
   "source": [
    "hist(userVotes)"
   ]
  },
  {
   "cell_type": "code",
   "execution_count": null,
   "metadata": {
    "collapsed": true
   },
   "outputs": [],
   "source": [
    "# Constructing R\n",
    "R = ReccomenderSystem.construct_R(votes,ownerships,num_users,num_games)\n",
    "\n",
    "# Running collaborative filtering\n",
    "num_features = 1\n",
    "regularization = 10\n",
    "X, Theta =  ReccomenderSystem.collaberative_filtering(num_games,num_users,num_features,R,regularization)\n",
    "\n",
    "# Getting the reccomendations\n",
    "user_id = 19\n",
    "ReccomenderSystem.getting_reccomendations(R,Theta,X,titles,user_names,user_id)"
   ]
  },
  {
   "cell_type": "markdown",
   "metadata": {},
   "source": [
    "So it works. Based on my interests the algorithms suggests games."
   ]
  },
  {
   "cell_type": "markdown",
   "metadata": {},
   "source": [
    "## Python Code for Testing The Collaberative Filtering Method\n",
    "Now we would like to see how good the algorithm is. "
   ]
  },
  {
   "cell_type": "code",
   "execution_count": 12,
   "metadata": {
    "collapsed": true
   },
   "outputs": [],
   "source": [
    "%matplotlib inline"
   ]
  },
  {
   "cell_type": "code",
   "execution_count": 9,
   "metadata": {
    "collapsed": false
   },
   "outputs": [],
   "source": [
    "lambdaList = [0, 0.1, 0.3, 0.7, 1, 3, 7, 10, 30, 70, 100, 300]\n",
    "\n",
    "correctPositive = 0\n",
    "falsePositive = 0\n",
    "correctNegative = 0\n",
    "falseNegative = 0\n",
    "\n",
    "correctPositiveList = zeros(size(lambdaList))\n",
    "falsePositiveList = zeros(size(lambdaList))\n",
    "correctNegativeList = zeros(size(lambdaList))\n",
    "falseNegativeList = zeros(size(lambdaList))\n",
    "precision = zeros(size(lambdaList))\n",
    "recall = zeros(size(lambdaList))\n",
    "correctness = zeros(size(lambdaList))\n",
    "F_score = zeros(size(lambdaList))\n",
    "\n",
    "for x in range(0,size(lambdaList)):\n",
    "    regularization = lambdaList[x]\n",
    "    X, Theta =  ReccomenderSystem.collaberative_filtering(num_games,num_users,num_features,R,regularization)\n",
    "    Predictions  = Theta * np.transpose(X)\n",
    "    shapeR = shape(R)\n",
    "    for i in range(0,shapeR[0]):\n",
    "        for j in range(0,shapeR[1]):\n",
    "            correct = R[i,j]\n",
    "            prediction = round(Predictions[i,j])\n",
    "            if correct == 1 and prediction == 1:\n",
    "                correctPositive += 1\n",
    "            if correct == 0 and prediction == 1:\n",
    "                falsePositive += 1\n",
    "            if correct == 0 and prediction == 0:\n",
    "                correctNegative += 1\n",
    "            if correct == 1 and prediction == 0:\n",
    "                falseNegative += 1\n",
    "    precision[x] = float(correctPositive)/(falsePositive + correctPositive)\n",
    "    recall[x] = float(correctPositive)/(falseNegative + correctPositive)\n",
    "    correctness[x] = float(correctPositive+correctNegative)/(correctPositive+correctNegative+falsePositive+falseNegative)\n",
    "    F_score[x] = (2*precision[x]*recall[x])/(precision[x]+recall[x])\n",
    "    correctPositiveList[x] = correctPositive\n",
    "    falsePositiveList[x] = falsePositive\n",
    "    correctNegativeList[x] = correctNegative\n",
    "    falseNegativeList[x] = falseNegative"
   ]
  },
  {
   "cell_type": "code",
   "execution_count": 16,
   "metadata": {
    "collapsed": false
   },
   "outputs": [
    {
     "data": {
      "image/png": "[encoded data removed]",
      "text/plain": [
       "<matplotlib.figure.Figure at 0x11b0ef190>"
      ]
     },
     "metadata": {},
     "output_type": "display_data"
    }
   ],
   "source": [
    "plt.plot(lambdaList,transpose(log10(correctPositiveList)),'-ob',label='Correct Positive')\n",
    "plt.plot(lambdaList,transpose(log10(correctNegativeList)),'-or',label='Correct Negative')\n",
    "plt.plot(lambdaList,transpose(log10(falsePositiveList)),'-xb',label='False Positive')\n",
    "plt.plot(lambdaList,transpose(log10(falseNegativeList)),'-xr',label='False Negative')\n",
    "plt.xlabel(r\"$\\lambda$ \",fontsize=16)\n",
    "plt.ylabel('log #')\n",
    "\n",
    "plt.legend()\n",
    "fig = plt.gcf()"
   ]
  },
  {
   "cell_type": "code",
   "execution_count": 17,
   "metadata": {
    "collapsed": false
   },
   "outputs": [
    {
     "data": {
      "text/plain": [
       "<matplotlib.legend.Legend at 0x11b487f90>"
      ]
     },
     "execution_count": 17,
     "metadata": {},
     "output_type": "execute_result"
    },
    {
     "data": {
      "image/png": "[encoded data removed]",
      "text/plain": [
       "<matplotlib.figure.Figure at 0x11b35fe10>"
      ]
     },
     "metadata": {},
     "output_type": "display_data"
    }
   ],
   "source": [
    "plt.figure()\n",
    "plt.plot(lambdaList,transpose(precision),'-ob',label='precision')\n",
    "plt.plot(lambdaList,transpose(recall),'-or',label='recall')\n",
    "plt.plot(lambdaList,transpose(correctness),'-ok',label='correctness')\n",
    "plt.plot(lambdaList,F_score,'-+m',label='F Score')\n",
    "\n",
    "fig = plt.gcf()\n",
    "plt.xlabel(r\"$\\lambda$ \",\n",
    "          fontsize=16)\n",
    "plt.legend()"
   ]
  },
  {
   "cell_type": "code",
   "execution_count": null,
   "metadata": {
    "collapsed": true
   },
   "outputs": [],
   "source": []
  }
 ],
 "metadata": {
  "kernelspec": {
   "display_name": "Python 2",
   "language": "python",
   "name": "python2"
  },
  "language_info": {
   "codemirror_mode": {
    "name": "ipython",
    "version": 2
   },
   "file_extension": ".py",
   "mimetype": "text/x-python",
   "name": "python",
   "nbconvert_exporter": "python",
   "pygments_lexer": "ipython2",
   "version": "2.7.9"
  }
 },
 "nbformat": 4,
 "nbformat_minor": 0
}
