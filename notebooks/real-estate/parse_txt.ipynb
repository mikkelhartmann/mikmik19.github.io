{
 "metadata": {
  "language_info": {
   "codemirror_mode": {
    "name": "ipython",
    "version": 3
   },
   "file_extension": ".py",
   "mimetype": "text/x-python",
   "name": "python",
   "nbconvert_exporter": "python",
   "pygments_lexer": "ipython3",
   "version": "3.6.3-final"
  },
  "orig_nbformat": 2,
  "kernelspec": {
   "name": "python36364bitreoccurringeventsvirtualenva0f70cccc1ff44c79ca2398d8ac44e48",
   "display_name": "Python 3.6.3 64-bit ('reoccurring-events': virtualenv)"
  }
 },
 "nbformat": 4,
 "nbformat_minor": 2,
 "cells": [
  {
   "cell_type": "code",
   "execution_count": 1,
   "metadata": {},
   "outputs": [],
   "source": [
    "import re\n",
    "import pandas as pd"
   ]
  },
  {
   "cell_type": "code",
   "execution_count": 21,
   "metadata": {
    "tags": []
   },
   "outputs": [
    {
     "output_type": "stream",
     "name": "stdout",
     "text": "Salgspriser - alle boliger - Egeskellet, 2000\n\nAdresse                                         Type           Aktuel\n                                                               m²\nEgeskellet 18, 2000 Frederiksberg               Ejerlejlighed\n                                                4.300.000      157\nFri handel     06-01-2016                       2.457.196      159\n\nFri handel     18-10-2001                       Ejerlejlighed  178\n                                                4.150.000      178\nEgeskellet 16, 2000 Frederiksberg               2.445.000\n                                                1.386.397      157\nFri handel     24-06-2015                       1.050.000      157\n                                                640.000        159\nFri handel     14-05-2004                                      159\n                                                Ejerlejlighed  157\nFri handel     08-09-1996                       4.800.000\n                                                2.825.000\nFri handel     15-06-1995\n                                                Ejerlejlighed\nAuktion        14-05-1992                       3.995.000\n                                                2.475.750\nEgeskellet 20, 2000 Frederiksberg               1.803.304\n                                                950.000\nFri handel     16-01-2015\n                                                Ejerlejlighed\nFri handel     11-04-2003                       1.825.000\n                                                3.500.000\nEgeskellet 8, 2000 Frederiksberg\n                                                Ejerlejlighed\nFri handel     10-07-2013                       3.700.000\n                                                2.395.000\nFri handel     10-08-2001\n                                                Ejerlejlighed\nFri handel     17-04-1997                       2.845.000\n\nFri handel     24-08-1994                       Ejerlejlighed\n                                                1.270.000\nEgeskellet 6, 2000 Frederiksberg\n                                                Ejerlejlighed\nFamiliehandel  29-01-2013                       493.842\n\nFri handel     15-06-2010\n\nEgeskellet 12, 2000 Frederiksberg\n\nFri handel     15-08-2011\n\nFri handel     23-03-2004\n\nEgeskellet 2, 2000 Frederiksberg\n\nFri handel     09-09-2009\n\nEgeskellet 10, 2000 Frederiksberg\n\nFri handel     05-11-1995\n\nEgeskellet 4, 2000 Frederiksberg\n\nFamiliehandel  25-10-1994\n\nBoligsiden er for alle, som vil købe eller sælge bolig. På Boligsiden finder du villaer, ejerlejligheder, grunde mv.\n\nsom udbydes til salg gennem en ejendomsmægler.\n\n21-07-2020                                                     Side 1 af 1\n\f\n"
    }
   ],
   "source": [
    "with open(\"ege.txt\",\"r\") as f:\n",
    "    body = f.read()\n",
    "    print(body)\n"
   ]
  },
  {
   "cell_type": "code",
   "execution_count": 90,
   "metadata": {},
   "outputs": [],
   "source": [
    "dates = re.search('\\d\\d-\\d\\d-\\d\\d\\d\\d', body)\n",
    "prices = re.search('[\\d{1,3}.]*\\d{3}.\\d{3}', body)"
   ]
  },
  {
   "cell_type": "code",
   "execution_count": 108,
   "metadata": {
    "tags": []
   },
   "outputs": [
    {
     "output_type": "execute_result",
     "data": {
      "text/plain": "'06-01-2016'"
     },
     "metadata": {},
     "execution_count": 108
    }
   ],
   "source": [
    "dates.group(0)"
   ]
  },
  {
   "cell_type": "code",
   "execution_count": 89,
   "metadata": {},
   "outputs": [
    {
     "output_type": "error",
     "ename": "AttributeError",
     "evalue": "'tuple' object has no attribute 'prices'",
     "traceback": [
      "\u001b[0;31m---------------------------------------------------------------------------\u001b[0m",
      "\u001b[0;31mAttributeError\u001b[0m                            Traceback (most recent call last)",
      "\u001b[0;32m<ipython-input-89-bc418586283b>\u001b[0m in \u001b[0;36m<module>\u001b[0;34m()\u001b[0m\n\u001b[1;32m      2\u001b[0m \u001b[0mprices\u001b[0m \u001b[0;34m=\u001b[0m \u001b[0mre\u001b[0m\u001b[0;34m.\u001b[0m\u001b[0msearch\u001b[0m\u001b[0;34m(\u001b[0m\u001b[0;34m'[\\d{1,3}.]*\\d{3}.\\d{3}'\u001b[0m\u001b[0;34m,\u001b[0m \u001b[0mbody\u001b[0m\u001b[0;34m)\u001b[0m\u001b[0;34m\u001b[0m\u001b[0m\n\u001b[1;32m      3\u001b[0m \u001b[0;34m\u001b[0m\u001b[0m\n\u001b[0;32m----> 4\u001b[0;31m \u001b[0;32mfor\u001b[0m \u001b[0mdate\u001b[0m\u001b[0;34m,\u001b[0m \u001b[0mprice\u001b[0m \u001b[0;32min\u001b[0m \u001b[0mzip\u001b[0m\u001b[0;34m(\u001b[0m\u001b[0mdates\u001b[0m\u001b[0;34m.\u001b[0m\u001b[0mgroups\u001b[0m\u001b[0;34m(\u001b[0m\u001b[0;34m)\u001b[0m\u001b[0;34m.\u001b[0m \u001b[0mprices\u001b[0m\u001b[0;34m.\u001b[0m\u001b[0mgroups\u001b[0m\u001b[0;34m(\u001b[0m\u001b[0;34m)\u001b[0m\u001b[0;34m)\u001b[0m\u001b[0;34m:\u001b[0m\u001b[0;34m\u001b[0m\u001b[0m\n\u001b[0m\u001b[1;32m      5\u001b[0m     \u001b[0mprint\u001b[0m\u001b[0;34m(\u001b[0m\u001b[0mdate\u001b[0m\u001b[0;34m,\u001b[0m \u001b[0mprice\u001b[0m\u001b[0;34m)\u001b[0m\u001b[0;34m\u001b[0m\u001b[0m\n",
      "\u001b[0;31mAttributeError\u001b[0m: 'tuple' object has no attribute 'prices'"
     ]
    }
   ],
   "source": [
    "dates = re.search('\\d\\d-\\d\\d-\\d\\d\\d\\d', body)\n",
    "prices = re.search('[\\d{1,3}.]*\\d{3}.\\d{3}', body)\n",
    "\n",
    "for date, price in zip(dates.groups(). prices.groups()):\n",
    "    print(date, price)"
   ]
  },
  {
   "cell_type": "code",
   "execution_count": 8,
   "metadata": {},
   "outputs": [
    {
     "output_type": "execute_result",
     "data": {
      "text/plain": "'Salgspriser - alle boliger - Birkeskellet, 2000\\n\\nAdresse                                         Type           Aktuel\\n                                                               m²\\nBirkeskellet 8, 2000 Frederiksberg              Ejerlejlighed\\n                                                5.400.000      157\\nFri handel  18-07-2018                          3.650.000      159\\n\\nFri handel  07-05-2013                          Ejerlejlighed  160\\n                                                4.850.000      178\\nBirkeskellet 4, 2000 Frederiksberg              3.350.000      159\\n                                                2.495.000\\nFri handel  16-08-2016                          1.642.000\\n                                                1.139.640\\nFri handel  06-01-2010                          1.081.000\\n\\nFri handel  17-07-2004                          Ejerlejlighed\\n                                                4.300.000\\nFri handel  27-08-1998                          1.161.950\\n\\nFri handel  17-01-1994                          Ejerlejlighed\\n                                                4.300.000\\nFri handel  04-05-1993                          2.300.128\\n\\nBirkeskellet 2, 2000 Frederiksberg              Ejerlejlighed\\n                                                3.900.000\\nFri handel  15-05-2015                          952.405\\n\\nFri handel  19-02-1995\\n\\nBirkeskellet 14, 2000 Frederiksberg\\n\\nFri handel  19-08-2013\\n\\nFri handel  28-06-2000\\n\\nBirkeskellet 6, 2000 Frederiksberg\\n\\nFri handel  27-03-2008\\n\\nFri handel  12-02-1994\\n\\nBoligsiden er for alle, som vil købe eller sælge bolig. På Boligsiden finder du villaer, ejerlejligheder, grunde mv.\\n\\nsom udbydes til salg gennem en ejendomsmægler.\\n\\n21-07-2020                                                     Side 1 af 1\\n\\x0c'"
     },
     "metadata": {},
     "execution_count": 8
    }
   ],
   "source": [
    "body"
   ]
  },
  {
   "cell_type": "code",
   "execution_count": 83,
   "metadata": {},
   "outputs": [],
   "source": [
    "addresses = body.split('Egeskellet')\n",
    "rows = [address.split('\\n') for address in addresses]\n"
   ]
  },
  {
   "cell_type": "code",
   "execution_count": 86,
   "metadata": {},
   "outputs": [
    {
     "output_type": "execute_result",
     "data": {
      "text/plain": "['Salgspriser - alle boliger - ',\n ', 2000\\n\\nAdresse                                         Type           Aktuel\\n                                                               m²\\n',\n ' 18, 2000 Frederiksberg               Ejerlejlighed\\n                                                4.300.000      157\\nFri handel     06-01-2016                       2.457.196      159\\n\\nFri handel     18-10-2001                       Ejerlejlighed  178\\n                                                4.150.000      178\\n',\n ' 16, 2000 Frederiksberg               2.445.000\\n                                                1.386.397      157\\nFri handel     24-06-2015                       1.050.000      157\\n                                                640.000        159\\nFri handel     14-05-2004                                      159\\n                                                Ejerlejlighed  157\\nFri handel     08-09-1996                       4.800.000\\n                                                2.825.000\\nFri handel     15-06-1995\\n                                                Ejerlejlighed\\nAuktion        14-05-1992                       3.995.000\\n                                                2.475.750\\n',\n ' 20, 2000 Frederiksberg               1.803.304\\n                                                950.000\\nFri handel     16-01-2015\\n                                                Ejerlejlighed\\nFri handel     11-04-2003                       1.825.000\\n                                                3.500.000\\n',\n ' 8, 2000 Frederiksberg\\n                                                Ejerlejlighed\\nFri handel     10-07-2013                       3.700.000\\n                                                2.395.000\\nFri handel     10-08-2001\\n                                                Ejerlejlighed\\nFri handel     17-04-1997                       2.845.000\\n\\nFri handel     24-08-1994                       Ejerlejlighed\\n                                                1.270.000\\n',\n ' 6, 2000 Frederiksberg\\n                                                Ejerlejlighed\\nFamiliehandel  29-01-2013                       493.842\\n\\nFri handel     15-06-2010\\n\\n',\n ' 12, 2000 Frederiksberg\\n\\nFri handel     15-08-2011\\n\\nFri handel     23-03-2004\\n\\n',\n ' 2, 2000 Frederiksberg\\n\\nFri handel     09-09-2009\\n\\n',\n ' 10, 2000 Frederiksberg\\n\\nFri handel     05-11-1995\\n\\n',\n ' 4, 2000 Frederiksberg\\n\\nFamiliehandel  25-10-1994\\n\\nBoligsiden er for alle, som vil købe eller sælge bolig. På Boligsiden finder du villaer, ejerlejligheder, grunde mv.\\n\\nsom udbydes til salg gennem en ejendomsmægler.\\n\\n21-07-2020                                                     Side 1 af 1\\n\\x0c']"
     },
     "metadata": {},
     "execution_count": 86
    }
   ],
   "source": [
    "\n",
    "addresses"
   ]
  },
  {
   "cell_type": "code",
   "execution_count": 88,
   "metadata": {
    "tags": []
   },
   "outputs": [
    {
     "output_type": "stream",
     "name": "stdout",
     "text": "[' 18, 2000 Frederiksberg               Ejerlejlighed', '                                                4.300.000      157', 'Fri handel     06-01-2016                       2.457.196      159', '', 'Fri handel     18-10-2001                       Ejerlejlighed  178', '                                                4.150.000      178', '']\n0\n2\n06-01-2016 4.300.000\n06-01-2016 4.300.000\n4\n6\n"
    }
   ],
   "source": [
    "address = addresses[2].split('\\n')\n",
    "print(address)\n",
    "for idx in range(0 ,len(address), 2):\n",
    "    print(idx)\n",
    "    try:\n",
    "        date = re.search('\\d\\d-\\d\\d-\\d\\d\\d\\d', address[idx]).group(0)\n",
    "        price = re.search('[\\d{1,3}.]*\\d{3}.\\d{3}', address[idx-1]).group(0)\n",
    "        print(date, price)\n",
    "    except:\n",
    "        continue\n",
    "    print(date, price)\n"
   ]
  },
  {
   "cell_type": "code",
   "execution_count": 20,
   "metadata": {
    "tags": []
   },
   "outputs": [
    {
     "output_type": "stream",
     "name": "stdout",
     "text": "Salgspriser - alle boliger - \n, 2000\n\nAdresse                                         Type           Aktuel\n                                                               m²\n\n 8, 2000 Frederiksberg              Ejerlejlighed\n                                                5.400.000      157\nFri handel  18-07-2018                          3.650.000      159\n\nFri handel  07-05-2013                          Ejerlejlighed  160\n                                                4.850.000      178\n\n 4, 2000 Frederiksberg              3.350.000      159\n                                                2.495.000\nFri handel  16-08-2016                          1.642.000\n                                                1.139.640\nFri handel  06-01-2010                          1.081.000\n\nFri handel  17-07-2004                          Ejerlejlighed\n                                                4.300.000\nFri handel  27-08-1998                          1.161.950\n\nFri handel  17-01-1994                          Ejerlejlighed\n                                                4.300.000\nFri handel  04-05-1993                          2.300.128\n\n\n 2, 2000 Frederiksberg              Ejerlejlighed\n                                                3.900.000\nFri handel  15-05-2015                          952.405\n\nFri handel  19-02-1995\n\n\n 14, 2000 Frederiksberg\n\nFri handel  19-08-2013\n\nFri handel  28-06-2000\n\n\n 6, 2000 Frederiksberg\n\nFri handel  27-03-2008\n\nFri handel  12-02-1994\n\nBoligsiden er for alle, som vil købe eller sælge bolig. På Boligsiden finder du villaer, ejerlejligheder, grunde mv.\n\nsom udbydes til salg gennem en ejendomsmægler.\n\n21-07-2020                                                     Side 1 af 1\n\f\n"
    }
   ],
   "source": [
    "for address in addresses:\n",
    "    print(address)"
   ]
  },
  {
   "cell_type": "code",
   "execution_count": 17,
   "metadata": {},
   "outputs": [
    {
     "output_type": "execute_result",
     "data": {
      "text/plain": "[' 8, 2000 Frederiksberg              Ejerlejlighed',\n '                                                5.400.000      157',\n 'Fri handel  18-07-2018                          3.650.000      159',\n '',\n 'Fri handel  07-05-2013                          Ejerlejlighed  160',\n '                                                4.850.000      178',\n '']"
     },
     "metadata": {},
     "execution_count": 17
    }
   ],
   "source": [
    "rows[2]"
   ]
  }
 ]
}