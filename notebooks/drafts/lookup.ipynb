{
 "cells": [
  {
   "cell_type": "code",
   "execution_count": 1,
   "metadata": {},
   "outputs": [],
   "source": [
    "import numpy as np"
   ]
  },
  {
   "cell_type": "markdown",
   "metadata": {
    "toc": "true"
   },
   "source": [
    "# Table of Contents\n",
    " <p><div class=\"lev1 toc-item\"><a href=\"#Things-I-often-look-up-how-to-do-in-Python\" data-toc-modified-id=\"Things-I-often-look-up-how-to-do-in-Python-1\"><span class=\"toc-item-num\">1&nbsp;&nbsp;</span>Things I often look up how to do in Python</a></div><div class=\"lev2 toc-item\"><a href=\"#Sorting\" data-toc-modified-id=\"Sorting-11\"><span class=\"toc-item-num\">1.1&nbsp;&nbsp;</span>Sorting</a></div><div class=\"lev2 toc-item\"><a href=\"#Warnings-when-launching-jupyter-notebook\" data-toc-modified-id=\"Warnings-when-launching-jupyter-notebook-12\"><span class=\"toc-item-num\">1.2&nbsp;&nbsp;</span>Warnings when launching jupyter notebook</a></div>"
   ]
  },
  {
   "cell_type": "markdown",
   "metadata": {},
   "source": [
    "# Things I often look up how to do in Python\n",
    "This notebooks should serve as a quick reference for all the Python related things that I often have to look up on the internet."
   ]
  },
  {
   "cell_type": "markdown",
   "metadata": {},
   "source": [
    "## Sorting\n",
    "I'm often in a situation where I want to get the indices of a list that would sort it. I may have a list of names and a list of values, that are not structed in a dictionary."
   ]
  },
  {
   "cell_type": "code",
   "execution_count": 2,
   "metadata": {},
   "outputs": [],
   "source": [
    "names = ['Peter', 'Bob', 'Lars', 'Jasmine', 'Alice']\n",
    "values = np.random.rand(5)"
   ]
  },
  {
   "cell_type": "markdown",
   "metadata": {},
   "source": [
    "I can use `numpy`'s argsort."
   ]
  },
  {
   "cell_type": "code",
   "execution_count": 3,
   "metadata": {},
   "outputs": [
    {
     "name": "stdout",
     "output_type": "stream",
     "text": [
      "Alice 0.04191762812371025\n",
      "Bob 0.24014151318590815\n",
      "Lars 0.33653298605719917\n",
      "Jasmine 0.3585119417795287\n",
      "Peter 0.5950640406975545\n"
     ]
    }
   ],
   "source": [
    "idx = np.argsort(values)\n",
    "for i in idx:\n",
    "    print(names[i], values[i])"
   ]
  },
  {
   "cell_type": "markdown",
   "metadata": {},
   "source": [
    "This works even if the sturcture I'm trying to sort is a list."
   ]
  },
  {
   "cell_type": "code",
   "execution_count": 4,
   "metadata": {},
   "outputs": [
    {
     "name": "stdout",
     "output_type": "stream",
     "text": [
      "Alice 0.04191762812371025\n",
      "Bob 0.24014151318590815\n",
      "Lars 0.33653298605719917\n",
      "Jasmine 0.3585119417795287\n",
      "Peter 0.5950640406975545\n"
     ]
    }
   ],
   "source": [
    "idx = np.argsort(list(values))\n",
    "for i in idx:\n",
    "    print(names[i], values[i])"
   ]
  },
  {
   "cell_type": "markdown",
   "metadata": {},
   "source": [
    "It even works with strings:"
   ]
  },
  {
   "cell_type": "code",
   "execution_count": 5,
   "metadata": {},
   "outputs": [
    {
     "name": "stdout",
     "output_type": "stream",
     "text": [
      "Alice\n",
      "Bob\n",
      "Jasmine\n",
      "Lars\n",
      "Peter\n"
     ]
    }
   ],
   "source": [
    "for i in np.argsort(names):\n",
    "    print(names[i])"
   ]
  },
  {
   "cell_type": "markdown",
   "metadata": {},
   "source": [
    "`argsort()`  does not allow one to specify if the sorting should be ascending or descending. However, we can always achieve the same result by `flipping` the array:"
   ]
  },
  {
   "cell_type": "code",
   "execution_count": 6,
   "metadata": {},
   "outputs": [
    {
     "name": "stdout",
     "output_type": "stream",
     "text": [
      "Peter 0.5950640406975545\n",
      "Jasmine 0.3585119417795287\n",
      "Lars 0.33653298605719917\n",
      "Bob 0.24014151318590815\n",
      "Alice 0.04191762812371025\n"
     ]
    }
   ],
   "source": [
    "x = ['b', 'a', 'c', 'f', 'd']\n",
    "for i in np.flip(np.argsort(values)):\n",
    "    print(names[i], values[i])"
   ]
  },
  {
   "cell_type": "markdown",
   "metadata": {},
   "source": [
    "### Alternatives"
   ]
  },
  {
   "cell_type": "markdown",
   "metadata": {},
   "source": [
    "If you want to avoid using `numpy` for some reason, there is another way of doing it. The sorted function allow us to pass a function as the sorting key."
   ]
  },
  {
   "cell_type": "code",
   "execution_count": 7,
   "metadata": {},
   "outputs": [
    {
     "data": {
      "text/plain": [
       "[(4, 0.04191762812371025),\n",
       " (1, 0.24014151318590815),\n",
       " (2, 0.33653298605719917),\n",
       " (3, 0.3585119417795287),\n",
       " (0, 0.5950640406975545)]"
      ]
     },
     "execution_count": 7,
     "metadata": {},
     "output_type": "execute_result"
    }
   ],
   "source": [
    "[i for i in sorted(enumerate(values), key=lambda item:item[1])]"
   ]
  },
  {
   "cell_type": "code",
   "execution_count": 8,
   "metadata": {},
   "outputs": [
    {
     "name": "stdout",
     "output_type": "stream",
     "text": [
      "Bob 0.24014151318590815\n",
      "Peter 0.5950640406975545\n",
      "Lars 0.33653298605719917\n",
      "Alice 0.04191762812371025\n",
      "Jasmine 0.3585119417795287\n"
     ]
    }
   ],
   "source": [
    "idx = sorted(range(len(values)), key=x.__getitem__)\n",
    "for i in idx:\n",
    "    print(names[i], values[i])"
   ]
  },
  {
   "cell_type": "markdown",
   "metadata": {},
   "source": [
    "## Warnings when launching jupyter notebook\n",
    "At some point a key in the jupyter config files changed from `server_extensions` to `nbserver_extensions`. If one of your jupyter config files containing the key `server_extensions` it will give an error. To get rid of the error you can run the following script. See the full explaination [here](https://github.com/ipython-contrib/jupyter_contrib_nbextensions/issues/591)."
   ]
  },
  {
   "cell_type": "code",
   "execution_count": null,
   "metadata": {},
   "outputs": [],
   "source": [
    "from jupyter_core.paths import jupyter_config_path\n",
    "from traitlets.config.manager import BaseJSONConfigManager\n",
    "\n",
    "config_basename, section_name = 'jupyter_notebook_config', 'NotebookApp'\n",
    "old_key, new_key = 'server_extensions', 'nbserver_extensions'\n",
    "for config_dir in jupyter_config_path():\n",
    "    cm = BaseJSONConfigManager(config_dir=config_dir)\n",
    "    config = cm.get(config_basename)\n",
    "    section = config.get(section_name, {})\n",
    "    if old_key not in section:\n",
    "        continue\n",
    "    print('in {}'.format(cm.file_name(config_basename)))\n",
    "    print('- migrating keys from {} to {}'.format(old_key, new_key))\n",
    "    for servext in section[old_key]:\n",
    "        print('-   moving extension {}'.format(servext))\n",
    "        section.setdefault(new_key, {})[servext] = True\n",
    "    print('- removing key {}.{}'.format(section_name, old_key))\n",
    "    section[old_key] = None\n",
    "    print('')\n",
    "    cm.update(config_basename, config)"
   ]
  }
 ],
 "metadata": {
  "kernelspec": {
   "display_name": "Python 3",
   "language": "python",
   "name": "python3"
  },
  "language_info": {
   "codemirror_mode": {
    "name": "ipython",
    "version": 3
   },
   "file_extension": ".py",
   "mimetype": "text/x-python",
   "name": "python",
   "nbconvert_exporter": "python",
   "pygments_lexer": "ipython3",
   "version": "3.6.3"
  },
  "toc": {
   "base_numbering": 1,
   "colors": {
    "hover_highlight": "#DAA520",
    "running_highlight": "#FF0000",
    "selected_highlight": "#FFD700"
   },
   "moveMenuLeft": true,
   "nav_menu": {},
   "navigate_menu": true,
   "number_sections": true,
   "sideBar": true,
   "skip_h1_title": false,
   "threshold": "2",
   "title_cell": "Table of Contents",
   "title_sidebar": "Contents",
   "toc_cell": true,
   "toc_position": {
    "height": "1108px",
    "left": "0px",
    "right": "1454.67px",
    "top": "66px",
    "width": "212px"
   },
   "toc_section_display": true,
   "toc_window_display": false,
   "widenNotebook": false
  }
 },
 "nbformat": 4,
 "nbformat_minor": 2
}
