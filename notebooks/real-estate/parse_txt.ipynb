{
 "cells": [
  {
   "cell_type": "code",
   "execution_count": 11,
   "metadata": {},
   "outputs": [],
   "source": [
    "import re\n",
    "import json\n",
    "import pandas as pd"
   ]
  },
  {
   "cell_type": "code",
   "execution_count": 12,
   "metadata": {},
   "outputs": [],
   "source": [
    "EXTRACT_DATE = '21-07-2020'"
   ]
  },
  {
   "cell_type": "code",
   "execution_count": 13,
   "metadata": {
    "tags": []
   },
   "outputs": [
    {
     "output_type": "stream",
     "name": "stdout",
     "text": "Salgspriser - alle boliger - Lærkeskellet, 2000\n\nAdresse                                         Type           Aktuel\n                                                               m²\nLærkeskellet 18, 2000 Frederiksberg             Ejerlejlighed\n                                                4.575.000      140\nFri handel     15-05-2018                       1.026.500      138\n\nFri handel     27-07-1994                       Ejerlejlighed  140\n                                                4.800.000      140\nLærkeskellet 6, 2000 Frederiksberg              3.070.000\n                                                907.133        140\nFri handel     16-11-2017                                      140\n                                                Ejerlejlighed  140\nFri handel     31-01-2012                       3.495.000      138\n                                                               138\nFri handel     18-11-1994                       Ejerlejlighed\n                                                4.200.000\nLærkeskellet 2, 2000 Frederiksberg              1.875.000\n                                                700.000\nFri handel     14-02-2008\n                                                Ejerlejlighed\nLærkeskellet 10, 2000 Frederiksberg             2.650.000\n                                                995.435\nFri handel     21-01-2007\n                                                Ejerlejlighed\nFri handel     11-12-2000                       1.875.000\n                                                1.050.000\nFri handel     25-06-1993\n                                                Ejerlejlighed\nLærkeskellet 16, 2000 Frederiksberg             851.840\n                                                851.840\nFri handel     13-07-2004\n                                                Ejerlejlighed\nFri handel     24-07-1994                       985.000\n\nLærkeskellet 8, 2000 Frederiksberg              Ejerlejlighed\n                                                618.000\nFri handel     16-06-2000\n\nFri handel     10-11-1994\n\nLærkeskellet 14, 2000 Frederiksberg\n\nFamiliehandel  17-01-1995\n\nFri handel     15-07-1993\n\nLærkeskellet 4, 2000 Frederiksberg\n\nFri handel     17-11-1994\n\nLærkeskellet 12, 2000 Frederiksberg\n\nFri handel     15-07-1992\n\nBoligsiden er for alle, som vil købe eller sælge bolig. På Boligsiden finder du villaer, ejerlejligheder, grunde mv.\n\nsom udbydes til salg gennem en ejendomsmægler.\n\n27-08-2020                                                     Side 1 af 1\n\f\n"
    }
   ],
   "source": [
    "with open(\"Lærkeskellet.txt\",\"r\",encoding='utf8') as f:\n",
    "    body = f.read()\n",
    "    print(body)\n"
   ]
  },
  {
   "cell_type": "code",
   "execution_count": 14,
   "metadata": {},
   "outputs": [],
   "source": [
    "addresses = re.findall('Lærkeskellet \\d{1,2},', body)\n",
    "square_meters = re.findall(' \\d{2,3}\\n', body)\n",
    "dates = re.findall('\\d\\d-\\d\\d-\\d\\d\\d\\d', body)\n",
    "prices = re.findall('[\\d{1,3}.]*\\d{3}.\\d{3}', body)"
   ]
  },
  {
   "cell_type": "markdown",
   "metadata": {},
   "source": [
    "The pdf includes information on when the data was downlaoded from Boligsiden. This needs to be removed"
   ]
  },
  {
   "cell_type": "markdown",
   "metadata": {},
   "source": [
    "I need to be able to find the addresses first and then find the dates for those addesses. Otherwise I can't line up the address, salesdate. \n",
    "\n",
    "The salesdate and price have the exact same number of rows, so those already lign up. But one or mole salesdates and prices can be part of the same address."
   ]
  },
  {
   "cell_type": "code",
   "execution_count": 32,
   "metadata": {
    "tags": []
   },
   "outputs": [
    {
     "output_type": "execute_result",
     "data": {
      "text/plain": "304"
     },
     "metadata": {},
     "execution_count": 32
    }
   ],
   "source": [
    "streetnames = [\n",
    "    'Ahornskellet',\n",
    "    'Askeskellet',\n",
    "    'Birkeskellet',\n",
    "    'Bøgeskellet',\n",
    "    'Egeskellet',\n",
    "    'Lindeskellet',\n",
    "    'Lærkeskellet',\n",
    "    'Pileskellet',\n",
    "    'Plantanskellet',\n",
    "    'Poppelskellet',\n",
    "    'Tjørneskellet',\n",
    "    \"johannesvjensensalle\"\n",
    "]\n",
    "rows = []\n",
    "for street in streetnames:\n",
    "    with open(f\"{street}.txt\",\"r\", encoding='utf8') as f:\n",
    "        body = f.read()\n",
    "    addresses = re.findall(f'{street} ' + '\\d{1,3}, [0-9a-z., ]*2000', body)\n",
    "    address_chuncks = re.split(f'{street} '+ '\\d{1,2},', body)\n",
    "\n",
    "    prices = re.findall('[\\d{1,3}.]*\\d{3}.\\d{3}', body)\n",
    "    square_meters = re.findall(' \\d{2,3}\\n', body)\n",
    "    \n",
    "    price_cnt = 0\n",
    "    for address, m2, text in zip(addresses, square_meters, address_chuncks[1:]):\n",
    "        m2 = int(m2.replace('\\n',''))\n",
    "        dates = re.findall('\\d\\d-\\d\\d-\\d\\d\\d\\d', text)\n",
    "        sale_types = re.findall('Familiehandel|Fri handel|I øvrigt|Auktion', text)\n",
    "        try:\n",
    "            dates.remove(EXTRACT_DATE)\n",
    "        except ValueError:\n",
    "            pass \n",
    "\n",
    "        for (date, sale_type) in zip(dates, sale_types):\n",
    "            try:\n",
    "                price = prices[price_cnt]\n",
    "                price = int(price.replace('.',''))\n",
    "                \n",
    "            except:\n",
    "                break\n",
    "\n",
    "            m2_price = round(price/m2)\n",
    "            street_number = address.replace(', 2000','').replace(street, '').replace(' ','').replace(',',' ').replace('.','')\n",
    "            \n",
    "            rows.append(\n",
    "                [\n",
    "                    street,\n",
    "                    street_number,\n",
    "                    date,\n",
    "                    price,\n",
    "                    m2,\n",
    "                    m2_price,\n",
    "                    sale_type\n",
    "                ]\n",
    "            )\n",
    "            price_cnt += 1\n",
    "\n",
    "df = pd.DataFrame(columns=[\n",
    "        'streetName',\n",
    "        'streetNumber',\n",
    "        'salesDate',\n",
    "        'price',\n",
    "        'm2',\n",
    "        'm2Price',\n",
    "        'saleType'\n",
    "    ],\n",
    "    data=rows)\n",
    "len(df)"
   ]
  },
  {
   "cell_type": "code",
   "execution_count": 33,
   "metadata": {},
   "outputs": [
    {
     "output_type": "execute_result",
     "data": {
      "text/plain": "        streetName streetNumber   salesDate    price   m2  m2Price  \\\n0     Ahornskellet         14 2  22-10-2019  2450000   62    39516   \n1     Ahornskellet         14 2  15-12-2011  1530000   62    24677   \n2     Ahornskellet         14 2  02-04-2008  1425000   62    22984   \n3     Ahornskellet          6 2  06-10-2019  3900000  111    35135   \n4     Ahornskellet          6 2  15-11-2005  3295000  111    29685   \n5     Ahornskellet        16 st  22-04-2018  4225000  123    34350   \n6     Ahornskellet        16 st  09-05-2014  3000000  123    24390   \n7     Ahornskellet        16 st  02-11-2012  2900000  123    23577   \n8     Ahornskellet        16 st  18-04-2007  3000000  123    24390   \n9     Ahornskellet         6 st  24-10-2017  4100000  123    33333   \n10    Ahornskellet         6 st  11-05-2008  2750000  123    22358   \n11    Ahornskellet         6 st  14-09-1999  1494000  123    12146   \n12    Ahornskellet         6 st  01-11-1995   978160  123     7953   \n13    Ahornskellet         24 2  01-08-2017  3800000  113    33628   \n14    Ahornskellet         24 2  04-02-2014  2900000  113    25664   \n15    Ahornskellet         24 2  01-10-2003  1900000  113    16814   \n16    Ahornskellet        20 st  21-03-2017  4010000  122    32869   \n17    Ahornskellet        20 st  24-08-2015  1909000  122    15648   \n18    Ahornskellet        20 st  22-01-2006  1615000  122    13238   \n19    Ahornskellet        20 st  23-12-2005  1615000  122    13238   \n20    Ahornskellet           12  27-01-2017  3750000  134    27985   \n21    Ahornskellet           12  07-05-2004  2365000  134    17649   \n22    Ahornskellet           12  25-08-1999  1275000  134     9515   \n23    Ahornskellet           18  12-09-2016  3200000  120    26667   \n24    Ahornskellet           30  16-06-2015  3500000  120    29167   \n25    Ahornskellet           30  11-10-2007  2900000  120    24167   \n26    Ahornskellet           30  11-02-2000  1661300  120    13844   \n27    Ahornskellet         10 2  21-08-2014  3095000  113    27389   \n28    Ahornskellet         10 2  16-02-2011  2515000  113    22257   \n29    Ahornskellet         10 2  27-11-2007  1997500  113    17677   \n..             ...          ...         ...      ...  ...      ...   \n274  Tjørneskellet        12 st  20-05-1995   855520  127     6736   \n275  Tjørneskellet        20 st  03-06-2010  2695000  127    21220   \n276  Tjørneskellet        20 st  23-06-2009  1184500  127     9327   \n277  Tjørneskellet        20 st  31-10-2007  3000000  127    23622   \n278  Tjørneskellet        20 st  27-08-2020  2295000  127    18071   \n279  Tjørneskellet        20 st  13-01-2005   832218  127     6553   \n280  Tjørneskellet        20 st  24-04-2001  1471174  127    11584   \n281  Tjørneskellet        20 st  03-08-2000  1269145  127     9993   \n282  Tjørneskellet        20 st  15-05-1997  1042569  127     8209   \n283  Tjørneskellet           18  10-07-2008  2750000  123    22358   \n284  Tjørneskellet           18  14-02-2001  1788000  123    14537   \n285  Tjørneskellet           18  16-06-1994  1062482  123     8638   \n286  Tjørneskellet        22 st  20-10-2005  3095000  122    25369   \n287  Tjørneskellet        22 st  14-09-2001   825000  122     6762   \n288  Tjørneskellet        22 st  22-05-2000  1569604  122    12866   \n289  Tjørneskellet        22 st  16-03-1997  1210000  122     9918   \n290  Tjørneskellet         4 st  23-08-2004   633333  123     5149   \n291  Tjørneskellet         4 st  27-06-1997  1131000  123     9195   \n292  Tjørneskellet         4 st  29-03-1995   905000  123     7358   \n293  Tjørneskellet         20 2  07-11-2002  1035000   62    16694   \n294  Tjørneskellet         20 2  26-06-2000   858420   62    13845   \n295  Tjørneskellet         20 2  20-04-1993   462280   62     7456   \n296  Tjørneskellet          4 2  01-08-1999  1400000  111    12613   \n297  Tjørneskellet          4 2  01-08-1999   700000  111     6306   \n298  Tjørneskellet          4 2  09-01-1996   950000  111     8559   \n299  Tjørneskellet         16 2  16-02-1998  1272462  113    11261   \n300  Tjørneskellet         16 2  24-05-1996  1170000  113    10354   \n301  Tjørneskellet         8 st  08-05-1994   894062  122     7328   \n302  Tjørneskellet         8 st  01-07-1992   537851  122     4409   \n303  Tjørneskellet          8 2  10-10-1992   875000  113     7743   \n\n          saleType  \n0       Fri handel  \n1       Fri handel  \n2       Fri handel  \n3       Fri handel  \n4       Fri handel  \n5       Fri handel  \n6       Fri handel  \n7       Fri handel  \n8       Fri handel  \n9       Fri handel  \n10      Fri handel  \n11      Fri handel  \n12      Fri handel  \n13   Familiehandel  \n14      Fri handel  \n15      Fri handel  \n16      Fri handel  \n17   Familiehandel  \n18   Familiehandel  \n19   Familiehandel  \n20      Fri handel  \n21      Fri handel  \n22      Fri handel  \n23      Fri handel  \n24      Fri handel  \n25      Fri handel  \n26      Fri handel  \n27      Fri handel  \n28      Fri handel  \n29   Familiehandel  \n..             ...  \n274     Fri handel  \n275     Fri handel  \n276       I øvrigt  \n277     Fri handel  \n278     Fri handel  \n279       I øvrigt  \n280     Fri handel  \n281     Fri handel  \n282     Fri handel  \n283     Fri handel  \n284     Fri handel  \n285     Fri handel  \n286     Fri handel  \n287  Familiehandel  \n288     Fri handel  \n289     Fri handel  \n290       I øvrigt  \n291     Fri handel  \n292     Fri handel  \n293     Fri handel  \n294     Fri handel  \n295     Fri handel  \n296     Fri handel  \n297  Familiehandel  \n298     Fri handel  \n299     Fri handel  \n300     Fri handel  \n301     Fri handel  \n302     Fri handel  \n303     Fri handel  \n\n[304 rows x 7 columns]",
      "text/html": "<div>\n<style scoped>\n    .dataframe tbody tr th:only-of-type {\n        vertical-align: middle;\n    }\n\n    .dataframe tbody tr th {\n        vertical-align: top;\n    }\n\n    .dataframe thead th {\n        text-align: right;\n    }\n</style>\n<table border=\"1\" class=\"dataframe\">\n  <thead>\n    <tr style=\"text-align: right;\">\n      <th></th>\n      <th>streetName</th>\n      <th>streetNumber</th>\n      <th>salesDate</th>\n      <th>price</th>\n      <th>m2</th>\n      <th>m2Price</th>\n      <th>saleType</th>\n    </tr>\n  </thead>\n  <tbody>\n    <tr>\n      <th>0</th>\n      <td>Ahornskellet</td>\n      <td>14 2</td>\n      <td>22-10-2019</td>\n      <td>2450000</td>\n      <td>62</td>\n      <td>39516</td>\n      <td>Fri handel</td>\n    </tr>\n    <tr>\n      <th>1</th>\n      <td>Ahornskellet</td>\n      <td>14 2</td>\n      <td>15-12-2011</td>\n      <td>1530000</td>\n      <td>62</td>\n      <td>24677</td>\n      <td>Fri handel</td>\n    </tr>\n    <tr>\n      <th>2</th>\n      <td>Ahornskellet</td>\n      <td>14 2</td>\n      <td>02-04-2008</td>\n      <td>1425000</td>\n      <td>62</td>\n      <td>22984</td>\n      <td>Fri handel</td>\n    </tr>\n    <tr>\n      <th>3</th>\n      <td>Ahornskellet</td>\n      <td>6 2</td>\n      <td>06-10-2019</td>\n      <td>3900000</td>\n      <td>111</td>\n      <td>35135</td>\n      <td>Fri handel</td>\n    </tr>\n    <tr>\n      <th>4</th>\n      <td>Ahornskellet</td>\n      <td>6 2</td>\n      <td>15-11-2005</td>\n      <td>3295000</td>\n      <td>111</td>\n      <td>29685</td>\n      <td>Fri handel</td>\n    </tr>\n    <tr>\n      <th>5</th>\n      <td>Ahornskellet</td>\n      <td>16 st</td>\n      <td>22-04-2018</td>\n      <td>4225000</td>\n      <td>123</td>\n      <td>34350</td>\n      <td>Fri handel</td>\n    </tr>\n    <tr>\n      <th>6</th>\n      <td>Ahornskellet</td>\n      <td>16 st</td>\n      <td>09-05-2014</td>\n      <td>3000000</td>\n      <td>123</td>\n      <td>24390</td>\n      <td>Fri handel</td>\n    </tr>\n    <tr>\n      <th>7</th>\n      <td>Ahornskellet</td>\n      <td>16 st</td>\n      <td>02-11-2012</td>\n      <td>2900000</td>\n      <td>123</td>\n      <td>23577</td>\n      <td>Fri handel</td>\n    </tr>\n    <tr>\n      <th>8</th>\n      <td>Ahornskellet</td>\n      <td>16 st</td>\n      <td>18-04-2007</td>\n      <td>3000000</td>\n      <td>123</td>\n      <td>24390</td>\n      <td>Fri handel</td>\n    </tr>\n    <tr>\n      <th>9</th>\n      <td>Ahornskellet</td>\n      <td>6 st</td>\n      <td>24-10-2017</td>\n      <td>4100000</td>\n      <td>123</td>\n      <td>33333</td>\n      <td>Fri handel</td>\n    </tr>\n    <tr>\n      <th>10</th>\n      <td>Ahornskellet</td>\n      <td>6 st</td>\n      <td>11-05-2008</td>\n      <td>2750000</td>\n      <td>123</td>\n      <td>22358</td>\n      <td>Fri handel</td>\n    </tr>\n    <tr>\n      <th>11</th>\n      <td>Ahornskellet</td>\n      <td>6 st</td>\n      <td>14-09-1999</td>\n      <td>1494000</td>\n      <td>123</td>\n      <td>12146</td>\n      <td>Fri handel</td>\n    </tr>\n    <tr>\n      <th>12</th>\n      <td>Ahornskellet</td>\n      <td>6 st</td>\n      <td>01-11-1995</td>\n      <td>978160</td>\n      <td>123</td>\n      <td>7953</td>\n      <td>Fri handel</td>\n    </tr>\n    <tr>\n      <th>13</th>\n      <td>Ahornskellet</td>\n      <td>24 2</td>\n      <td>01-08-2017</td>\n      <td>3800000</td>\n      <td>113</td>\n      <td>33628</td>\n      <td>Familiehandel</td>\n    </tr>\n    <tr>\n      <th>14</th>\n      <td>Ahornskellet</td>\n      <td>24 2</td>\n      <td>04-02-2014</td>\n      <td>2900000</td>\n      <td>113</td>\n      <td>25664</td>\n      <td>Fri handel</td>\n    </tr>\n    <tr>\n      <th>15</th>\n      <td>Ahornskellet</td>\n      <td>24 2</td>\n      <td>01-10-2003</td>\n      <td>1900000</td>\n      <td>113</td>\n      <td>16814</td>\n      <td>Fri handel</td>\n    </tr>\n    <tr>\n      <th>16</th>\n      <td>Ahornskellet</td>\n      <td>20 st</td>\n      <td>21-03-2017</td>\n      <td>4010000</td>\n      <td>122</td>\n      <td>32869</td>\n      <td>Fri handel</td>\n    </tr>\n    <tr>\n      <th>17</th>\n      <td>Ahornskellet</td>\n      <td>20 st</td>\n      <td>24-08-2015</td>\n      <td>1909000</td>\n      <td>122</td>\n      <td>15648</td>\n      <td>Familiehandel</td>\n    </tr>\n    <tr>\n      <th>18</th>\n      <td>Ahornskellet</td>\n      <td>20 st</td>\n      <td>22-01-2006</td>\n      <td>1615000</td>\n      <td>122</td>\n      <td>13238</td>\n      <td>Familiehandel</td>\n    </tr>\n    <tr>\n      <th>19</th>\n      <td>Ahornskellet</td>\n      <td>20 st</td>\n      <td>23-12-2005</td>\n      <td>1615000</td>\n      <td>122</td>\n      <td>13238</td>\n      <td>Familiehandel</td>\n    </tr>\n    <tr>\n      <th>20</th>\n      <td>Ahornskellet</td>\n      <td>12</td>\n      <td>27-01-2017</td>\n      <td>3750000</td>\n      <td>134</td>\n      <td>27985</td>\n      <td>Fri handel</td>\n    </tr>\n    <tr>\n      <th>21</th>\n      <td>Ahornskellet</td>\n      <td>12</td>\n      <td>07-05-2004</td>\n      <td>2365000</td>\n      <td>134</td>\n      <td>17649</td>\n      <td>Fri handel</td>\n    </tr>\n    <tr>\n      <th>22</th>\n      <td>Ahornskellet</td>\n      <td>12</td>\n      <td>25-08-1999</td>\n      <td>1275000</td>\n      <td>134</td>\n      <td>9515</td>\n      <td>Fri handel</td>\n    </tr>\n    <tr>\n      <th>23</th>\n      <td>Ahornskellet</td>\n      <td>18</td>\n      <td>12-09-2016</td>\n      <td>3200000</td>\n      <td>120</td>\n      <td>26667</td>\n      <td>Fri handel</td>\n    </tr>\n    <tr>\n      <th>24</th>\n      <td>Ahornskellet</td>\n      <td>30</td>\n      <td>16-06-2015</td>\n      <td>3500000</td>\n      <td>120</td>\n      <td>29167</td>\n      <td>Fri handel</td>\n    </tr>\n    <tr>\n      <th>25</th>\n      <td>Ahornskellet</td>\n      <td>30</td>\n      <td>11-10-2007</td>\n      <td>2900000</td>\n      <td>120</td>\n      <td>24167</td>\n      <td>Fri handel</td>\n    </tr>\n    <tr>\n      <th>26</th>\n      <td>Ahornskellet</td>\n      <td>30</td>\n      <td>11-02-2000</td>\n      <td>1661300</td>\n      <td>120</td>\n      <td>13844</td>\n      <td>Fri handel</td>\n    </tr>\n    <tr>\n      <th>27</th>\n      <td>Ahornskellet</td>\n      <td>10 2</td>\n      <td>21-08-2014</td>\n      <td>3095000</td>\n      <td>113</td>\n      <td>27389</td>\n      <td>Fri handel</td>\n    </tr>\n    <tr>\n      <th>28</th>\n      <td>Ahornskellet</td>\n      <td>10 2</td>\n      <td>16-02-2011</td>\n      <td>2515000</td>\n      <td>113</td>\n      <td>22257</td>\n      <td>Fri handel</td>\n    </tr>\n    <tr>\n      <th>29</th>\n      <td>Ahornskellet</td>\n      <td>10 2</td>\n      <td>27-11-2007</td>\n      <td>1997500</td>\n      <td>113</td>\n      <td>17677</td>\n      <td>Familiehandel</td>\n    </tr>\n    <tr>\n      <th>...</th>\n      <td>...</td>\n      <td>...</td>\n      <td>...</td>\n      <td>...</td>\n      <td>...</td>\n      <td>...</td>\n      <td>...</td>\n    </tr>\n    <tr>\n      <th>274</th>\n      <td>Tjørneskellet</td>\n      <td>12 st</td>\n      <td>20-05-1995</td>\n      <td>855520</td>\n      <td>127</td>\n      <td>6736</td>\n      <td>Fri handel</td>\n    </tr>\n    <tr>\n      <th>275</th>\n      <td>Tjørneskellet</td>\n      <td>20 st</td>\n      <td>03-06-2010</td>\n      <td>2695000</td>\n      <td>127</td>\n      <td>21220</td>\n      <td>Fri handel</td>\n    </tr>\n    <tr>\n      <th>276</th>\n      <td>Tjørneskellet</td>\n      <td>20 st</td>\n      <td>23-06-2009</td>\n      <td>1184500</td>\n      <td>127</td>\n      <td>9327</td>\n      <td>I øvrigt</td>\n    </tr>\n    <tr>\n      <th>277</th>\n      <td>Tjørneskellet</td>\n      <td>20 st</td>\n      <td>31-10-2007</td>\n      <td>3000000</td>\n      <td>127</td>\n      <td>23622</td>\n      <td>Fri handel</td>\n    </tr>\n    <tr>\n      <th>278</th>\n      <td>Tjørneskellet</td>\n      <td>20 st</td>\n      <td>27-08-2020</td>\n      <td>2295000</td>\n      <td>127</td>\n      <td>18071</td>\n      <td>Fri handel</td>\n    </tr>\n    <tr>\n      <th>279</th>\n      <td>Tjørneskellet</td>\n      <td>20 st</td>\n      <td>13-01-2005</td>\n      <td>832218</td>\n      <td>127</td>\n      <td>6553</td>\n      <td>I øvrigt</td>\n    </tr>\n    <tr>\n      <th>280</th>\n      <td>Tjørneskellet</td>\n      <td>20 st</td>\n      <td>24-04-2001</td>\n      <td>1471174</td>\n      <td>127</td>\n      <td>11584</td>\n      <td>Fri handel</td>\n    </tr>\n    <tr>\n      <th>281</th>\n      <td>Tjørneskellet</td>\n      <td>20 st</td>\n      <td>03-08-2000</td>\n      <td>1269145</td>\n      <td>127</td>\n      <td>9993</td>\n      <td>Fri handel</td>\n    </tr>\n    <tr>\n      <th>282</th>\n      <td>Tjørneskellet</td>\n      <td>20 st</td>\n      <td>15-05-1997</td>\n      <td>1042569</td>\n      <td>127</td>\n      <td>8209</td>\n      <td>Fri handel</td>\n    </tr>\n    <tr>\n      <th>283</th>\n      <td>Tjørneskellet</td>\n      <td>18</td>\n      <td>10-07-2008</td>\n      <td>2750000</td>\n      <td>123</td>\n      <td>22358</td>\n      <td>Fri handel</td>\n    </tr>\n    <tr>\n      <th>284</th>\n      <td>Tjørneskellet</td>\n      <td>18</td>\n      <td>14-02-2001</td>\n      <td>1788000</td>\n      <td>123</td>\n      <td>14537</td>\n      <td>Fri handel</td>\n    </tr>\n    <tr>\n      <th>285</th>\n      <td>Tjørneskellet</td>\n      <td>18</td>\n      <td>16-06-1994</td>\n      <td>1062482</td>\n      <td>123</td>\n      <td>8638</td>\n      <td>Fri handel</td>\n    </tr>\n    <tr>\n      <th>286</th>\n      <td>Tjørneskellet</td>\n      <td>22 st</td>\n      <td>20-10-2005</td>\n      <td>3095000</td>\n      <td>122</td>\n      <td>25369</td>\n      <td>Fri handel</td>\n    </tr>\n    <tr>\n      <th>287</th>\n      <td>Tjørneskellet</td>\n      <td>22 st</td>\n      <td>14-09-2001</td>\n      <td>825000</td>\n      <td>122</td>\n      <td>6762</td>\n      <td>Familiehandel</td>\n    </tr>\n    <tr>\n      <th>288</th>\n      <td>Tjørneskellet</td>\n      <td>22 st</td>\n      <td>22-05-2000</td>\n      <td>1569604</td>\n      <td>122</td>\n      <td>12866</td>\n      <td>Fri handel</td>\n    </tr>\n    <tr>\n      <th>289</th>\n      <td>Tjørneskellet</td>\n      <td>22 st</td>\n      <td>16-03-1997</td>\n      <td>1210000</td>\n      <td>122</td>\n      <td>9918</td>\n      <td>Fri handel</td>\n    </tr>\n    <tr>\n      <th>290</th>\n      <td>Tjørneskellet</td>\n      <td>4 st</td>\n      <td>23-08-2004</td>\n      <td>633333</td>\n      <td>123</td>\n      <td>5149</td>\n      <td>I øvrigt</td>\n    </tr>\n    <tr>\n      <th>291</th>\n      <td>Tjørneskellet</td>\n      <td>4 st</td>\n      <td>27-06-1997</td>\n      <td>1131000</td>\n      <td>123</td>\n      <td>9195</td>\n      <td>Fri handel</td>\n    </tr>\n    <tr>\n      <th>292</th>\n      <td>Tjørneskellet</td>\n      <td>4 st</td>\n      <td>29-03-1995</td>\n      <td>905000</td>\n      <td>123</td>\n      <td>7358</td>\n      <td>Fri handel</td>\n    </tr>\n    <tr>\n      <th>293</th>\n      <td>Tjørneskellet</td>\n      <td>20 2</td>\n      <td>07-11-2002</td>\n      <td>1035000</td>\n      <td>62</td>\n      <td>16694</td>\n      <td>Fri handel</td>\n    </tr>\n    <tr>\n      <th>294</th>\n      <td>Tjørneskellet</td>\n      <td>20 2</td>\n      <td>26-06-2000</td>\n      <td>858420</td>\n      <td>62</td>\n      <td>13845</td>\n      <td>Fri handel</td>\n    </tr>\n    <tr>\n      <th>295</th>\n      <td>Tjørneskellet</td>\n      <td>20 2</td>\n      <td>20-04-1993</td>\n      <td>462280</td>\n      <td>62</td>\n      <td>7456</td>\n      <td>Fri handel</td>\n    </tr>\n    <tr>\n      <th>296</th>\n      <td>Tjørneskellet</td>\n      <td>4 2</td>\n      <td>01-08-1999</td>\n      <td>1400000</td>\n      <td>111</td>\n      <td>12613</td>\n      <td>Fri handel</td>\n    </tr>\n    <tr>\n      <th>297</th>\n      <td>Tjørneskellet</td>\n      <td>4 2</td>\n      <td>01-08-1999</td>\n      <td>700000</td>\n      <td>111</td>\n      <td>6306</td>\n      <td>Familiehandel</td>\n    </tr>\n    <tr>\n      <th>298</th>\n      <td>Tjørneskellet</td>\n      <td>4 2</td>\n      <td>09-01-1996</td>\n      <td>950000</td>\n      <td>111</td>\n      <td>8559</td>\n      <td>Fri handel</td>\n    </tr>\n    <tr>\n      <th>299</th>\n      <td>Tjørneskellet</td>\n      <td>16 2</td>\n      <td>16-02-1998</td>\n      <td>1272462</td>\n      <td>113</td>\n      <td>11261</td>\n      <td>Fri handel</td>\n    </tr>\n    <tr>\n      <th>300</th>\n      <td>Tjørneskellet</td>\n      <td>16 2</td>\n      <td>24-05-1996</td>\n      <td>1170000</td>\n      <td>113</td>\n      <td>10354</td>\n      <td>Fri handel</td>\n    </tr>\n    <tr>\n      <th>301</th>\n      <td>Tjørneskellet</td>\n      <td>8 st</td>\n      <td>08-05-1994</td>\n      <td>894062</td>\n      <td>122</td>\n      <td>7328</td>\n      <td>Fri handel</td>\n    </tr>\n    <tr>\n      <th>302</th>\n      <td>Tjørneskellet</td>\n      <td>8 st</td>\n      <td>01-07-1992</td>\n      <td>537851</td>\n      <td>122</td>\n      <td>4409</td>\n      <td>Fri handel</td>\n    </tr>\n    <tr>\n      <th>303</th>\n      <td>Tjørneskellet</td>\n      <td>8 2</td>\n      <td>10-10-1992</td>\n      <td>875000</td>\n      <td>113</td>\n      <td>7743</td>\n      <td>Fri handel</td>\n    </tr>\n  </tbody>\n</table>\n<p>304 rows × 7 columns</p>\n</div>"
     },
     "metadata": {},
     "execution_count": 33
    }
   ],
   "source": [
    "df"
   ]
  },
  {
   "cell_type": "code",
   "execution_count": 34,
   "metadata": {},
   "outputs": [
    {
     "output_type": "execute_result",
     "data": {
      "text/plain": "Empty DataFrame\nColumns: [streetName, streetNumber, salesDate, price, m2, m2Price, saleType]\nIndex: []",
      "text/html": "<div>\n<style scoped>\n    .dataframe tbody tr th:only-of-type {\n        vertical-align: middle;\n    }\n\n    .dataframe tbody tr th {\n        vertical-align: top;\n    }\n\n    .dataframe thead th {\n        text-align: right;\n    }\n</style>\n<table border=\"1\" class=\"dataframe\">\n  <thead>\n    <tr style=\"text-align: right;\">\n      <th></th>\n      <th>streetName</th>\n      <th>streetNumber</th>\n      <th>salesDate</th>\n      <th>price</th>\n      <th>m2</th>\n      <th>m2Price</th>\n      <th>saleType</th>\n    </tr>\n  </thead>\n  <tbody>\n  </tbody>\n</table>\n</div>"
     },
     "metadata": {},
     "execution_count": 34
    }
   ],
   "source": [
    "df[\n",
    "    (df.streetName == \"johannesvjensensalle\") &\n",
    "    (df.streetNumber == \"14 2\")\n",
    "]"
   ]
  },
  {
   "cell_type": "markdown",
   "metadata": {},
   "source": [
    "We will keep only \"fri handel\" for now. "
   ]
  },
  {
   "cell_type": "code",
   "execution_count": 35,
   "metadata": {},
   "outputs": [],
   "source": [
    "df[df.saleType==\"Fri handel\"].to_csv('../../data/real-estate/sales.csv')"
   ]
  },
  {
   "cell_type": "code",
   "execution_count": null,
   "metadata": {},
   "outputs": [],
   "source": []
  },
  {
   "cell_type": "code",
   "execution_count": 24,
   "metadata": {},
   "outputs": [],
   "source": [
    "addressesJson = {}\n",
    "streetJsons = []\n",
    "for street in df.streetName.unique():\n",
    "    street_df = df[df.streetName==street]\n",
    "    streetJson = {\n",
    "        'street':street,\n",
    "        'numbers': list(street_df.streetNumber.unique())\n",
    "    }\n",
    "    streetJsons.append(streetJson)\n",
    "addressesJson['streets'] = streetJsons "
   ]
  },
  {
   "cell_type": "code",
   "execution_count": 25,
   "metadata": {},
   "outputs": [],
   "source": [
    "with open('../../data/real-estate/addresses.json', 'w', encoding='utf8') as json_file:\n",
    "  json.dump(addressesJson, json_file)\n"
   ]
  },
  {
   "cell_type": "code",
   "execution_count": 26,
   "metadata": {},
   "outputs": [],
   "source": [
    "pd.DataFrame(\n",
    "    df.m2.unique(),\n",
    "    columns=['m2']\n",
    ").to_csv('../../data/real-estate/squaremeters.csv')"
   ]
  },
  {
   "cell_type": "code",
   "execution_count": null,
   "metadata": {},
   "outputs": [],
   "source": []
  }
 ],
 "metadata": {
  "kernelspec": {
   "display_name": "Python 3",
   "language": "python",
   "name": "python3"
  },
  "language_info": {
   "codemirror_mode": {
    "name": "ipython",
    "version": 3
   },
   "file_extension": ".py",
   "mimetype": "text/x-python",
   "name": "python",
   "nbconvert_exporter": "python",
   "pygments_lexer": "ipython3",
   "version": "3.6.3-final"
  }
 },
 "nbformat": 4,
 "nbformat_minor": 2
}