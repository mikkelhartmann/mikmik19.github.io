{
 "cells": [
  {
   "cell_type": "code",
   "execution_count": 1,
   "metadata": {
    "ExecuteTime": {
     "end_time": "2019-03-18T19:05:14.779672Z",
     "start_time": "2019-03-18T19:05:14.285052Z"
    }
   },
   "outputs": [],
   "source": [
    "import pandas as pd\n",
    "import json"
   ]
  },
  {
   "cell_type": "code",
   "execution_count": 2,
   "metadata": {},
   "outputs": [
    {
     "data": {
      "text/plain": [
       "'C:\\\\Users\\\\mikke\\\\Documents\\\\projects\\\\mikmik19.github.io\\\\notebooks\\\\books-ive-read'"
      ]
     },
     "execution_count": 2,
     "metadata": {},
     "output_type": "execute_result"
    }
   ],
   "source": [
    "%pwd"
   ]
  },
  {
   "cell_type": "code",
   "execution_count": 3,
   "metadata": {
    "ExecuteTime": {
     "end_time": "2019-03-18T19:05:14.806206Z",
     "start_time": "2019-03-18T19:05:14.783336Z"
    }
   },
   "outputs": [],
   "source": [
    "df = pd.read_csv('.\\\\..\\\\..\\\\data\\\\books\\\\goodreads_library_export.csv')"
   ]
  },
  {
   "cell_type": "code",
   "execution_count": 4,
   "metadata": {
    "ExecuteTime": {
     "end_time": "2019-03-18T19:05:14.816378Z",
     "start_time": "2019-03-18T19:05:14.809154Z"
    }
   },
   "outputs": [
    {
     "name": "stdout",
     "output_type": "stream",
     "text": [
      "Book Id\n",
      "Title\n",
      "Author\n",
      "Author l-f\n",
      "Additional Authors\n",
      "ISBN\n",
      "ISBN13\n",
      "My Rating\n",
      "Average Rating\n",
      "Publisher\n",
      "Binding\n",
      "Number of Pages\n",
      "Year Published\n",
      "Original Publication Year\n",
      "Date Read\n",
      "Date Added\n",
      "Bookshelves\n",
      "Bookshelves with positions\n",
      "Exclusive Shelf\n",
      "My Review\n",
      "Spoiler\n",
      "Private Notes\n",
      "Read Count\n",
      "Recommended For\n",
      "Recommended By\n",
      "Owned Copies\n",
      "Original Purchase Date\n",
      "Original Purchase Location\n",
      "Condition\n",
      "Condition Description\n",
      "BCID\n"
     ]
    }
   ],
   "source": [
    "for c in df.columns:\n",
    "    print(c)"
   ]
  },
  {
   "cell_type": "code",
   "execution_count": 5,
   "metadata": {
    "ExecuteTime": {
     "end_time": "2019-03-18T19:05:14.835943Z",
     "start_time": "2019-03-18T19:05:14.820519Z"
    }
   },
   "outputs": [],
   "source": [
    "columns = [\n",
    "    'Title',\n",
    "    'Author',\n",
    "    'My Rating',\n",
    "    'Date Read'\n",
    "]\n",
    "subset_df = df[df[\"Exclusive Shelf\"]==\"read\"].copy()\n",
    "\n",
    "subset_df[\"Date Read\"] = pd.to_datetime(subset_df[\"Date Read\"])\n",
    "subset_df.sort_values(\"Date Read\", ascending=False, inplace=True)"
   ]
  },
  {
   "cell_type": "code",
   "execution_count": 6,
   "metadata": {
    "ExecuteTime": {
     "end_time": "2019-03-18T19:05:14.901776Z",
     "start_time": "2019-03-18T19:05:14.839021Z"
    }
   },
   "outputs": [
    {
     "data": {
      "text/html": [
       "<div>\n",
       "<style scoped>\n",
       "    .dataframe tbody tr th:only-of-type {\n",
       "        vertical-align: middle;\n",
       "    }\n",
       "\n",
       "    .dataframe tbody tr th {\n",
       "        vertical-align: top;\n",
       "    }\n",
       "\n",
       "    .dataframe thead th {\n",
       "        text-align: right;\n",
       "    }\n",
       "</style>\n",
       "<table border=\"1\" class=\"dataframe\">\n",
       "  <thead>\n",
       "    <tr style=\"text-align: right;\">\n",
       "      <th></th>\n",
       "      <th>Book Id</th>\n",
       "      <th>Title</th>\n",
       "      <th>Author</th>\n",
       "      <th>Author l-f</th>\n",
       "      <th>Additional Authors</th>\n",
       "      <th>ISBN</th>\n",
       "      <th>ISBN13</th>\n",
       "      <th>My Rating</th>\n",
       "      <th>Average Rating</th>\n",
       "      <th>Publisher</th>\n",
       "      <th>...</th>\n",
       "      <th>Private Notes</th>\n",
       "      <th>Read Count</th>\n",
       "      <th>Recommended For</th>\n",
       "      <th>Recommended By</th>\n",
       "      <th>Owned Copies</th>\n",
       "      <th>Original Purchase Date</th>\n",
       "      <th>Original Purchase Location</th>\n",
       "      <th>Condition</th>\n",
       "      <th>Condition Description</th>\n",
       "      <th>BCID</th>\n",
       "    </tr>\n",
       "  </thead>\n",
       "  <tbody>\n",
       "    <tr>\n",
       "      <td>690</td>\n",
       "      <td>270881</td>\n",
       "      <td>The Quark and the Jaguar: Adventures in the Si...</td>\n",
       "      <td>Murray Gell-Mann</td>\n",
       "      <td>Gell-Mann, Murray</td>\n",
       "      <td>NaN</td>\n",
       "      <td>=\"0805072535\"</td>\n",
       "      <td>=\"9780805072532\"</td>\n",
       "      <td>2</td>\n",
       "      <td>3.84</td>\n",
       "      <td>St. Martins Press-3PL</td>\n",
       "      <td>...</td>\n",
       "      <td>NaN</td>\n",
       "      <td>1</td>\n",
       "      <td>NaN</td>\n",
       "      <td>NaN</td>\n",
       "      <td>1</td>\n",
       "      <td>NaN</td>\n",
       "      <td>NaN</td>\n",
       "      <td>unspecified</td>\n",
       "      <td>NaN</td>\n",
       "      <td>NaN</td>\n",
       "    </tr>\n",
       "    <tr>\n",
       "      <td>703</td>\n",
       "      <td>2318271</td>\n",
       "      <td>The Last Lecture</td>\n",
       "      <td>Randy Pausch</td>\n",
       "      <td>Pausch, Randy</td>\n",
       "      <td>Jeffrey Zaslow</td>\n",
       "      <td>=\"1401323251\"</td>\n",
       "      <td>=\"9781401323257\"</td>\n",
       "      <td>5</td>\n",
       "      <td>4.26</td>\n",
       "      <td>Hachette Books</td>\n",
       "      <td>...</td>\n",
       "      <td>NaN</td>\n",
       "      <td>1</td>\n",
       "      <td>NaN</td>\n",
       "      <td>NaN</td>\n",
       "      <td>1</td>\n",
       "      <td>NaN</td>\n",
       "      <td>NaN</td>\n",
       "      <td>unspecified</td>\n",
       "      <td>NaN</td>\n",
       "      <td>NaN</td>\n",
       "    </tr>\n",
       "    <tr>\n",
       "      <td>711</td>\n",
       "      <td>833420</td>\n",
       "      <td>The Wee Free Men (Discworld, #30; Tiffany Achi...</td>\n",
       "      <td>Terry Pratchett</td>\n",
       "      <td>Pratchett, Terry</td>\n",
       "      <td>NaN</td>\n",
       "      <td>=\"\"</td>\n",
       "      <td>=\"\"</td>\n",
       "      <td>4</td>\n",
       "      <td>4.27</td>\n",
       "      <td>Corgi Childrens</td>\n",
       "      <td>...</td>\n",
       "      <td>NaN</td>\n",
       "      <td>1</td>\n",
       "      <td>NaN</td>\n",
       "      <td>NaN</td>\n",
       "      <td>1</td>\n",
       "      <td>NaN</td>\n",
       "      <td>NaN</td>\n",
       "      <td>unspecified</td>\n",
       "      <td>NaN</td>\n",
       "      <td>NaN</td>\n",
       "    </tr>\n",
       "    <tr>\n",
       "      <td>31</td>\n",
       "      <td>18736925</td>\n",
       "      <td>Capital in the Twenty-First Century</td>\n",
       "      <td>Thomas Piketty</td>\n",
       "      <td>Piketty, Thomas</td>\n",
       "      <td>Arthur Goldhammer</td>\n",
       "      <td>=\"067443000X\"</td>\n",
       "      <td>=\"9780674430006\"</td>\n",
       "      <td>3</td>\n",
       "      <td>4.04</td>\n",
       "      <td>Belknap Press: An Imprint of Harvard Universit...</td>\n",
       "      <td>...</td>\n",
       "      <td>NaN</td>\n",
       "      <td>1</td>\n",
       "      <td>NaN</td>\n",
       "      <td>NaN</td>\n",
       "      <td>0</td>\n",
       "      <td>NaN</td>\n",
       "      <td>NaN</td>\n",
       "      <td>NaN</td>\n",
       "      <td>NaN</td>\n",
       "      <td>NaN</td>\n",
       "    </tr>\n",
       "    <tr>\n",
       "      <td>268</td>\n",
       "      <td>34376766</td>\n",
       "      <td>Blood, Sweat, and Pixels: The Triumphant, Turb...</td>\n",
       "      <td>Jason Schreier</td>\n",
       "      <td>Schreier, Jason</td>\n",
       "      <td>NaN</td>\n",
       "      <td>=\"\"</td>\n",
       "      <td>=\"\"</td>\n",
       "      <td>5</td>\n",
       "      <td>4.25</td>\n",
       "      <td>Harper Paperbacks</td>\n",
       "      <td>...</td>\n",
       "      <td>NaN</td>\n",
       "      <td>1</td>\n",
       "      <td>NaN</td>\n",
       "      <td>NaN</td>\n",
       "      <td>0</td>\n",
       "      <td>NaN</td>\n",
       "      <td>NaN</td>\n",
       "      <td>NaN</td>\n",
       "      <td>NaN</td>\n",
       "      <td>NaN</td>\n",
       "    </tr>\n",
       "  </tbody>\n",
       "</table>\n",
       "<p>5 rows × 31 columns</p>\n",
       "</div>"
      ],
      "text/plain": [
       "      Book Id                                              Title  \\\n",
       "690    270881  The Quark and the Jaguar: Adventures in the Si...   \n",
       "703   2318271                                   The Last Lecture   \n",
       "711    833420  The Wee Free Men (Discworld, #30; Tiffany Achi...   \n",
       "31   18736925                Capital in the Twenty-First Century   \n",
       "268  34376766  Blood, Sweat, and Pixels: The Triumphant, Turb...   \n",
       "\n",
       "               Author         Author l-f Additional Authors           ISBN  \\\n",
       "690  Murray Gell-Mann  Gell-Mann, Murray                NaN  =\"0805072535\"   \n",
       "703      Randy Pausch      Pausch, Randy     Jeffrey Zaslow  =\"1401323251\"   \n",
       "711   Terry Pratchett   Pratchett, Terry                NaN            =\"\"   \n",
       "31     Thomas Piketty    Piketty, Thomas  Arthur Goldhammer  =\"067443000X\"   \n",
       "268    Jason Schreier    Schreier, Jason                NaN            =\"\"   \n",
       "\n",
       "               ISBN13  My Rating  Average Rating  \\\n",
       "690  =\"9780805072532\"          2            3.84   \n",
       "703  =\"9781401323257\"          5            4.26   \n",
       "711               =\"\"          4            4.27   \n",
       "31   =\"9780674430006\"          3            4.04   \n",
       "268               =\"\"          5            4.25   \n",
       "\n",
       "                                             Publisher  ... Private Notes  \\\n",
       "690                              St. Martins Press-3PL  ...           NaN   \n",
       "703                                     Hachette Books  ...           NaN   \n",
       "711                                    Corgi Childrens  ...           NaN   \n",
       "31   Belknap Press: An Imprint of Harvard Universit...  ...           NaN   \n",
       "268                                  Harper Paperbacks  ...           NaN   \n",
       "\n",
       "     Read Count  Recommended For  Recommended By Owned Copies  \\\n",
       "690           1              NaN             NaN            1   \n",
       "703           1              NaN             NaN            1   \n",
       "711           1              NaN             NaN            1   \n",
       "31            1              NaN             NaN            0   \n",
       "268           1              NaN             NaN            0   \n",
       "\n",
       "    Original Purchase Date Original Purchase Location    Condition  \\\n",
       "690                    NaN                        NaN  unspecified   \n",
       "703                    NaN                        NaN  unspecified   \n",
       "711                    NaN                        NaN  unspecified   \n",
       "31                     NaN                        NaN          NaN   \n",
       "268                    NaN                        NaN          NaN   \n",
       "\n",
       "    Condition Description BCID  \n",
       "690                   NaN  NaN  \n",
       "703                   NaN  NaN  \n",
       "711                   NaN  NaN  \n",
       "31                    NaN  NaN  \n",
       "268                   NaN  NaN  \n",
       "\n",
       "[5 rows x 31 columns]"
      ]
     },
     "execution_count": 6,
     "metadata": {},
     "output_type": "execute_result"
    }
   ],
   "source": [
    "subset_df.tail()"
   ]
  },
  {
   "cell_type": "code",
   "execution_count": 7,
   "metadata": {
    "ExecuteTime": {
     "end_time": "2019-03-18T19:05:14.909714Z",
     "start_time": "2019-03-18T19:05:14.905389Z"
    }
   },
   "outputs": [],
   "source": [
    "def remove_series_name(row):\n",
    "    return row.split(\"(\")[0]"
   ]
  },
  {
   "cell_type": "code",
   "execution_count": 8,
   "metadata": {
    "ExecuteTime": {
     "end_time": "2019-03-18T19:05:14.917912Z",
     "start_time": "2019-03-18T19:05:14.912911Z"
    }
   },
   "outputs": [],
   "source": [
    "subset_df[\"Title\"] = subset_df[\"Title\"].copy().apply(remove_series_name)"
   ]
  },
  {
   "cell_type": "code",
   "execution_count": 9,
   "metadata": {
    "ExecuteTime": {
     "end_time": "2019-03-18T19:05:14.928206Z",
     "start_time": "2019-03-18T19:05:14.921618Z"
    }
   },
   "outputs": [],
   "source": [
    "to_save = subset_df[subset_df['Read Count']>0][\n",
    "    ['Title',\n",
    "    'Author',\n",
    "    'My Rating',\n",
    "    'Date Read']\n",
    "].copy()"
   ]
  },
  {
   "cell_type": "code",
   "execution_count": 10,
   "metadata": {},
   "outputs": [
    {
     "data": {
      "text/html": [
       "<div>\n",
       "<style scoped>\n",
       "    .dataframe tbody tr th:only-of-type {\n",
       "        vertical-align: middle;\n",
       "    }\n",
       "\n",
       "    .dataframe tbody tr th {\n",
       "        vertical-align: top;\n",
       "    }\n",
       "\n",
       "    .dataframe thead th {\n",
       "        text-align: right;\n",
       "    }\n",
       "</style>\n",
       "<table border=\"1\" class=\"dataframe\">\n",
       "  <thead>\n",
       "    <tr style=\"text-align: right;\">\n",
       "      <th></th>\n",
       "      <th>Title</th>\n",
       "      <th>Author</th>\n",
       "      <th>My Rating</th>\n",
       "      <th>Date Read</th>\n",
       "    </tr>\n",
       "  </thead>\n",
       "  <tbody>\n",
       "    <tr>\n",
       "      <td>690</td>\n",
       "      <td>The Quark and the Jaguar: Adventures in the Si...</td>\n",
       "      <td>Murray Gell-Mann</td>\n",
       "      <td>2</td>\n",
       "      <td>2008-02-01</td>\n",
       "    </tr>\n",
       "    <tr>\n",
       "      <td>703</td>\n",
       "      <td>The Last Lecture</td>\n",
       "      <td>Randy Pausch</td>\n",
       "      <td>5</td>\n",
       "      <td>2008-01-01</td>\n",
       "    </tr>\n",
       "    <tr>\n",
       "      <td>711</td>\n",
       "      <td>The Wee Free Men</td>\n",
       "      <td>Terry Pratchett</td>\n",
       "      <td>4</td>\n",
       "      <td>2007-01-01</td>\n",
       "    </tr>\n",
       "    <tr>\n",
       "      <td>31</td>\n",
       "      <td>Capital in the Twenty-First Century</td>\n",
       "      <td>Thomas Piketty</td>\n",
       "      <td>3</td>\n",
       "      <td>NaT</td>\n",
       "    </tr>\n",
       "    <tr>\n",
       "      <td>268</td>\n",
       "      <td>Blood, Sweat, and Pixels: The Triumphant, Turb...</td>\n",
       "      <td>Jason Schreier</td>\n",
       "      <td>5</td>\n",
       "      <td>NaT</td>\n",
       "    </tr>\n",
       "  </tbody>\n",
       "</table>\n",
       "</div>"
      ],
      "text/plain": [
       "                                                 Title            Author  \\\n",
       "690  The Quark and the Jaguar: Adventures in the Si...  Murray Gell-Mann   \n",
       "703                                   The Last Lecture      Randy Pausch   \n",
       "711                                  The Wee Free Men    Terry Pratchett   \n",
       "31                 Capital in the Twenty-First Century    Thomas Piketty   \n",
       "268  Blood, Sweat, and Pixels: The Triumphant, Turb...    Jason Schreier   \n",
       "\n",
       "     My Rating  Date Read  \n",
       "690          2 2008-02-01  \n",
       "703          5 2008-01-01  \n",
       "711          4 2007-01-01  \n",
       "31           3        NaT  \n",
       "268          5        NaT  "
      ]
     },
     "execution_count": 10,
     "metadata": {},
     "output_type": "execute_result"
    }
   ],
   "source": [
    "to_save.tail()"
   ]
  },
  {
   "cell_type": "code",
   "execution_count": 11,
   "metadata": {},
   "outputs": [],
   "source": [
    "to_save['Date Read'] = to_save['Date Read'].apply(str)"
   ]
  },
  {
   "cell_type": "code",
   "execution_count": 13,
   "metadata": {
    "ExecuteTime": {
     "end_time": "2019-03-18T19:05:15.021818Z",
     "start_time": "2019-03-18T19:05:14.932885Z"
    }
   },
   "outputs": [],
   "source": [
    "books_json = dict()\n",
    "for idx, (_, row) in enumerate(to_save.iterrows()):\n",
    "    books_json[idx] = {\n",
    "        \"title\": row[\"Title\"],\n",
    "        \"author\": row[\"Author\"],\n",
    "        \"stars\": row[\"My Rating\"],\n",
    "        \"date_read\": row[\"Date Read\"],\n",
    "        \"link\": 0\n",
    "    }"
   ]
  },
  {
   "cell_type": "code",
   "execution_count": 14,
   "metadata": {
    "ExecuteTime": {
     "end_time": "2019-03-18T19:05:15.035739Z",
     "start_time": "2019-03-18T19:05:15.024695Z"
    }
   },
   "outputs": [],
   "source": [
    "with open('.\\\\..\\\\..\\\\data\\\\books\\\\books.json', 'w') as outfile:  \n",
    "    json.dump(books_json, outfile)"
   ]
  }
 ],
 "metadata": {
  "kernelspec": {
   "display_name": "Python 3",
   "language": "python",
   "name": "python3"
  },
  "language_info": {
   "codemirror_mode": {
    "name": "ipython",
    "version": 3
   },
   "file_extension": ".py",
   "mimetype": "text/x-python",
   "name": "python",
   "nbconvert_exporter": "python",
   "pygments_lexer": "ipython3",
   "version": "3.7.4"
  },
  "toc": {
   "base_numbering": 1,
   "nav_menu": {},
   "number_sections": false,
   "sideBar": true,
   "skip_h1_title": false,
   "title_cell": "Table of Contents",
   "title_sidebar": "Contents",
   "toc_cell": false,
   "toc_position": {},
   "toc_section_display": true,
   "toc_window_display": false
  }
 },
 "nbformat": 4,
 "nbformat_minor": 2
}
